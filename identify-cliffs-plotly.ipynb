{
 "cells": [
  {
   "cell_type": "code",
   "execution_count": 1,
   "metadata": {},
   "outputs": [],
   "source": [
    "import matplotlib.pyplot as plt \n",
    "import plotly.express as px \n",
    "import plotly.graph_objects as go \n",
    "import utils.utils as utils \n",
    "from utils.BeneficiaryProfile import Beneficiary\n",
    "import utils.plotting as plotting\n",
    "import os \n",
    "import pandas as pd\n",
    "import numpy as np\n",
    "from scipy.signal import argrelextrema\n",
    "import copy "
   ]
  },
  {
   "cell_type": "markdown",
   "metadata": {},
   "source": [
    "#### 1. Finding Cliff Points \n",
    "#### 2. Displaying Cliffs (& Benefits Programs Lost)\n",
    "\n",
    "---"
   ]
  },
  {
   "cell_type": "markdown",
   "metadata": {},
   "source": [
    "##### 0. Load Data From Script \n"
   ]
  },
  {
   "cell_type": "code",
   "execution_count": 2,
   "metadata": {},
   "outputs": [],
   "source": [
    "p2_child3_fp = os.path.join('projects', 'p2_child3.yaml')\n",
    "p2_child3 = Beneficiary.from_yaml(p2_child3_fp)"
   ]
  },
  {
   "cell_type": "code",
   "execution_count": 3,
   "metadata": {},
   "outputs": [
    {
     "data": {
      "text/plain": [
       "{'ruleYear': [2023],\n",
       " 'Year': [2023],\n",
       " 'agePerson1': [30],\n",
       " 'agePerson2': [30],\n",
       " 'agePerson3': [8],\n",
       " 'agePerson4': [5],\n",
       " 'agePerson5': [2],\n",
       " 'agePerson6': ['NA'],\n",
       " 'agePerson7': ['NA'],\n",
       " 'agePerson8': ['NA'],\n",
       " 'agePerson9': ['NA'],\n",
       " 'agePerson10': ['NA'],\n",
       " 'agePerson11': ['NA'],\n",
       " 'agePerson12': ['NA'],\n",
       " 'disability1': [0],\n",
       " 'disability2': [0],\n",
       " 'disability3': [0],\n",
       " 'disability4': [0],\n",
       " 'disability5': [0],\n",
       " 'disability6': [0],\n",
       " 'disability7': [0],\n",
       " 'disability8': [0],\n",
       " 'disability9': [0],\n",
       " 'disability10': [0],\n",
       " 'disability11': [0],\n",
       " 'disability12': [0],\n",
       " 'blind1': [0],\n",
       " 'blind2': [0],\n",
       " 'blind3': [0],\n",
       " 'blind4': [0],\n",
       " 'blind5': [0],\n",
       " 'blind6': [0],\n",
       " 'ssdiPIA1': [0],\n",
       " 'ssdiPIA2': [0],\n",
       " 'ssdiPIA3': [0],\n",
       " 'ssdiPIA4': [0],\n",
       " 'ssdiPIA5': [0],\n",
       " 'ssdiPIA6': [0],\n",
       " 'married': [0],\n",
       " 'prev_ssi': [0],\n",
       " 'locations': ['New Castle County, DE'],\n",
       " 'income_start': 27560,\n",
       " 'income_end': 100000,\n",
       " 'income_increase_by': 1000,\n",
       " 'income.investment': [0],\n",
       " 'income.gift': [0],\n",
       " 'income.child_support': [0],\n",
       " 'empl_healthcare': [0],\n",
       " 'ownorrent': ['rent'],\n",
       " 'assets.cash': [0],\n",
       " 'assets.car1': [0],\n",
       " 'disab.work.exp': [0],\n",
       " 'k_ftorpt': 'FT',\n",
       " 'schoolagesummercare': 'PT',\n",
       " 'headstart_ftorpt': 'PT',\n",
       " 'preK_ftorpt': 'PT',\n",
       " 'contelig.headstart': False,\n",
       " 'contelig.earlyheadstart': False,\n",
       " 'contelig.ccdf': True,\n",
       " 'budget.ALICE': 'survivalforcliff',\n",
       " 'APPLY_CHILDCARE': True,\n",
       " 'APPLY_HEADSTART': True,\n",
       " 'APPLY_CCDF': True,\n",
       " 'APPLY_PREK': True,\n",
       " 'APPLY_LIHEAP': False,\n",
       " 'APPLY_HEALTHCARE': True,\n",
       " 'APPLY_MEDICAID_ADULT': True,\n",
       " 'APPLY_MEDICAID_CHILD': True,\n",
       " 'APPLY_ACA': True,\n",
       " 'APPLY_SECTION8': True,\n",
       " 'APPLY_RAP': False,\n",
       " 'APPLY_FRSP': False,\n",
       " 'APPLY_SNAP': True,\n",
       " 'APPLY_SLP': True,\n",
       " 'APPLY_WIC': True,\n",
       " 'APPLY_EITC': True,\n",
       " 'APPLY_TAXES': True,\n",
       " 'APPLY_CTC': True,\n",
       " 'APPLY_CDCTC': True,\n",
       " 'APPLY_FATES': False,\n",
       " 'APPLY_TANF': True,\n",
       " 'APPLY_SSI': True,\n",
       " 'APPLY_SSDI': True}"
      ]
     },
     "execution_count": 3,
     "metadata": {},
     "output_type": "execute_result"
    }
   ],
   "source": [
    "p2_child3.Profile"
   ]
  },
  {
   "cell_type": "code",
   "execution_count": 4,
   "metadata": {},
   "outputs": [],
   "source": [
    "## Can Re-run R-Script for demonstration: Takes the yaml file associated with the beneficiary object in the projects folder to set configuration parameters \n",
    "# p2_child3.run_applyBenefitsCalculator()"
   ]
  },
  {
   "cell_type": "code",
   "execution_count": 5,
   "metadata": {},
   "outputs": [
    {
     "name": "stdout",
     "output_type": "stream",
     "text": [
      "Profile Summary:\n",
      "\n",
      "Family\n"
     ]
    },
    {
     "data": {
      "text/plain": [
       "{'Adult1': {'Age': 30, 'Disability': False, 'Blind': False, 'SSDI_Monthly': 0},\n",
       " 'Adult2': {'Age': 30, 'Disability': False, 'Blind': False, 'SSDI_Monthly': 0},\n",
       " 'Child1': {'Age': 8, 'Disability': False},\n",
       " 'Child2': {'Age': 5, 'Disability': False},\n",
       " 'Child3': {'Age': 2, 'Disability': False}}"
      ]
     },
     "metadata": {},
     "output_type": "display_data"
    },
    {
     "name": "stdout",
     "output_type": "stream",
     "text": [
      "Locations: ['New Castle County, DE']\n",
      "\n",
      "Benefits\n",
      "['CHILDCARE', 'HEADSTART', 'CCDF', 'REK', 'HEALTHCARE', 'MEDICAID_ADULT', 'MEDICAID_CHILD', 'CA', 'SECTION8', 'SNAP', 'SLP', 'WIC', 'EITC', 'TAXES', 'CTC', 'CDCTC', 'TANF', 'SSI', 'SSDI']\n",
      "\n",
      "Results:\n"
     ]
    },
    {
     "data": {
      "text/html": [
       "<div>\n",
       "<style scoped>\n",
       "    .dataframe tbody tr th:only-of-type {\n",
       "        vertical-align: middle;\n",
       "    }\n",
       "\n",
       "    .dataframe tbody tr th {\n",
       "        vertical-align: top;\n",
       "    }\n",
       "\n",
       "    .dataframe thead th {\n",
       "        text-align: right;\n",
       "    }\n",
       "</style>\n",
       "<table border=\"1\" class=\"dataframe\">\n",
       "  <thead>\n",
       "    <tr style=\"text-align: right;\">\n",
       "      <th></th>\n",
       "      <th>ruleYear</th>\n",
       "      <th>stateFIPS</th>\n",
       "      <th>stateName</th>\n",
       "      <th>stateAbbrev</th>\n",
       "      <th>countyortownName</th>\n",
       "      <th>famsize</th>\n",
       "      <th>numadults</th>\n",
       "      <th>numkids</th>\n",
       "      <th>agePerson1</th>\n",
       "      <th>agePerson2</th>\n",
       "      <th>...</th>\n",
       "      <th>value.ctc.state</th>\n",
       "      <th>value.eitc.fed</th>\n",
       "      <th>value.eitc.state</th>\n",
       "      <th>value.eitc</th>\n",
       "      <th>value.ctc</th>\n",
       "      <th>value.cdctc</th>\n",
       "      <th>value.ssdi</th>\n",
       "      <th>value.ssi</th>\n",
       "      <th>AfterTaxIncome</th>\n",
       "      <th>NetResources</th>\n",
       "    </tr>\n",
       "  </thead>\n",
       "  <tbody>\n",
       "    <tr>\n",
       "      <th>0</th>\n",
       "      <td>2023</td>\n",
       "      <td>10</td>\n",
       "      <td>Delaware</td>\n",
       "      <td>DE</td>\n",
       "      <td>New Castle County</td>\n",
       "      <td>5</td>\n",
       "      <td>2</td>\n",
       "      <td>3</td>\n",
       "      <td>30</td>\n",
       "      <td>30</td>\n",
       "      <td>...</td>\n",
       "      <td>0</td>\n",
       "      <td>5370</td>\n",
       "      <td>1009</td>\n",
       "      <td>6379</td>\n",
       "      <td>6000</td>\n",
       "      <td>371</td>\n",
       "      <td>0</td>\n",
       "      <td>0</td>\n",
       "      <td>23627</td>\n",
       "      <td>-3610.6</td>\n",
       "    </tr>\n",
       "    <tr>\n",
       "      <th>1</th>\n",
       "      <td>2023</td>\n",
       "      <td>10</td>\n",
       "      <td>Delaware</td>\n",
       "      <td>DE</td>\n",
       "      <td>New Castle County</td>\n",
       "      <td>5</td>\n",
       "      <td>2</td>\n",
       "      <td>3</td>\n",
       "      <td>30</td>\n",
       "      <td>30</td>\n",
       "      <td>...</td>\n",
       "      <td>0</td>\n",
       "      <td>5159</td>\n",
       "      <td>1032</td>\n",
       "      <td>6191</td>\n",
       "      <td>6000</td>\n",
       "      <td>367</td>\n",
       "      <td>0</td>\n",
       "      <td>0</td>\n",
       "      <td>24397</td>\n",
       "      <td>-3629.6</td>\n",
       "    </tr>\n",
       "    <tr>\n",
       "      <th>2</th>\n",
       "      <td>2023</td>\n",
       "      <td>10</td>\n",
       "      <td>Delaware</td>\n",
       "      <td>DE</td>\n",
       "      <td>New Castle County</td>\n",
       "      <td>5</td>\n",
       "      <td>2</td>\n",
       "      <td>3</td>\n",
       "      <td>30</td>\n",
       "      <td>30</td>\n",
       "      <td>...</td>\n",
       "      <td>0</td>\n",
       "      <td>4949</td>\n",
       "      <td>990</td>\n",
       "      <td>5939</td>\n",
       "      <td>6000</td>\n",
       "      <td>363</td>\n",
       "      <td>0</td>\n",
       "      <td>0</td>\n",
       "      <td>25165</td>\n",
       "      <td>-3715.6</td>\n",
       "    </tr>\n",
       "    <tr>\n",
       "      <th>3</th>\n",
       "      <td>2023</td>\n",
       "      <td>10</td>\n",
       "      <td>Delaware</td>\n",
       "      <td>DE</td>\n",
       "      <td>New Castle County</td>\n",
       "      <td>5</td>\n",
       "      <td>2</td>\n",
       "      <td>3</td>\n",
       "      <td>30</td>\n",
       "      <td>30</td>\n",
       "      <td>...</td>\n",
       "      <td>0</td>\n",
       "      <td>4738</td>\n",
       "      <td>948</td>\n",
       "      <td>5686</td>\n",
       "      <td>6000</td>\n",
       "      <td>366</td>\n",
       "      <td>0</td>\n",
       "      <td>0</td>\n",
       "      <td>25933</td>\n",
       "      <td>-3795.6</td>\n",
       "    </tr>\n",
       "    <tr>\n",
       "      <th>4</th>\n",
       "      <td>2023</td>\n",
       "      <td>10</td>\n",
       "      <td>Delaware</td>\n",
       "      <td>DE</td>\n",
       "      <td>New Castle County</td>\n",
       "      <td>5</td>\n",
       "      <td>2</td>\n",
       "      <td>3</td>\n",
       "      <td>30</td>\n",
       "      <td>30</td>\n",
       "      <td>...</td>\n",
       "      <td>0</td>\n",
       "      <td>4528</td>\n",
       "      <td>906</td>\n",
       "      <td>5434</td>\n",
       "      <td>6000</td>\n",
       "      <td>378</td>\n",
       "      <td>0</td>\n",
       "      <td>0</td>\n",
       "      <td>26701</td>\n",
       "      <td>-3864.6</td>\n",
       "    </tr>\n",
       "  </tbody>\n",
       "</table>\n",
       "<p>5 rows × 59 columns</p>\n",
       "</div>"
      ],
      "text/plain": [
       "   ruleYear  stateFIPS stateName stateAbbrev   countyortownName  famsize  \\\n",
       "0      2023         10  Delaware          DE  New Castle County        5   \n",
       "1      2023         10  Delaware          DE  New Castle County        5   \n",
       "2      2023         10  Delaware          DE  New Castle County        5   \n",
       "3      2023         10  Delaware          DE  New Castle County        5   \n",
       "4      2023         10  Delaware          DE  New Castle County        5   \n",
       "\n",
       "   numadults  numkids  agePerson1  agePerson2  ...  value.ctc.state  \\\n",
       "0          2        3          30          30  ...                0   \n",
       "1          2        3          30          30  ...                0   \n",
       "2          2        3          30          30  ...                0   \n",
       "3          2        3          30          30  ...                0   \n",
       "4          2        3          30          30  ...                0   \n",
       "\n",
       "   value.eitc.fed  value.eitc.state  value.eitc  value.ctc  value.cdctc  \\\n",
       "0            5370              1009        6379       6000          371   \n",
       "1            5159              1032        6191       6000          367   \n",
       "2            4949               990        5939       6000          363   \n",
       "3            4738               948        5686       6000          366   \n",
       "4            4528               906        5434       6000          378   \n",
       "\n",
       "   value.ssdi  value.ssi  AfterTaxIncome  NetResources  \n",
       "0           0          0           23627       -3610.6  \n",
       "1           0          0           24397       -3629.6  \n",
       "2           0          0           25165       -3715.6  \n",
       "3           0          0           25933       -3795.6  \n",
       "4           0          0           26701       -3864.6  \n",
       "\n",
       "[5 rows x 59 columns]"
      ]
     },
     "metadata": {},
     "output_type": "display_data"
    },
    {
     "data": {
      "text/plain": [
       "(73, 59)"
      ]
     },
     "metadata": {},
     "output_type": "display_data"
    },
    {
     "name": "stdout",
     "output_type": "stream",
     "text": [
      "Index(['ruleYear', 'stateFIPS', 'stateName', 'stateAbbrev', 'countyortownName',\n",
      "       'famsize', 'numadults', 'numkids', 'agePerson1', 'agePerson2',\n",
      "       'agePerson3', 'agePerson4', 'agePerson5', 'agePerson6', 'agePerson7',\n",
      "       'agePerson8', 'agePerson9', 'agePerson10', 'agePerson11', 'agePerson12',\n",
      "       'empl_healthcare', 'income', 'assets.cash', 'exp.childcare', 'exp.food',\n",
      "       'exp.rentormortgage', 'exp.healthcare', 'exp.utilities', 'exp.misc',\n",
      "       'exp.transportation', 'netexp.childcare', 'netexp.food',\n",
      "       'netexp.rentormortgage', 'netexp.healthcare', 'netexp.utilities',\n",
      "       'value.snap', 'value.schoolmeals', 'value.section8', 'value.liheap',\n",
      "       'value.medicaid.adult', 'value.medicaid.child', 'value.aca',\n",
      "       'value.employerhealthcare', 'value.CCDF', 'value.HeadStart',\n",
      "       'value.PreK', 'value.cdctc.fed', 'value.cdctc.state', 'value.ctc.fed',\n",
      "       'value.ctc.state', 'value.eitc.fed', 'value.eitc.state', 'value.eitc',\n",
      "       'value.ctc', 'value.cdctc', 'value.ssdi', 'value.ssi', 'AfterTaxIncome',\n",
      "       'NetResources'],\n",
      "      dtype='object')\n"
     ]
    }
   ],
   "source": [
    "print('Profile Summary:\\n')\n",
    "print(\"Family\")\n",
    "display(p2_child3.get_family())\n",
    "print('Locations:', p2_child3.locations)\n",
    "print(\"\\nBenefits\")\n",
    "print(p2_child3.get_benefits())\n",
    "print('\\nResults:')\n",
    "\n",
    "df = pd.read_csv(p2_child3.output_path)\n",
    "display(df.head(),df.shape)\n",
    "print(df.columns)"
   ]
  },
  {
   "cell_type": "code",
   "execution_count": 6,
   "metadata": {},
   "outputs": [
    {
     "data": {
      "text/html": [
       "<div>\n",
       "<style scoped>\n",
       "    .dataframe tbody tr th:only-of-type {\n",
       "        vertical-align: middle;\n",
       "    }\n",
       "\n",
       "    .dataframe tbody tr th {\n",
       "        vertical-align: top;\n",
       "    }\n",
       "\n",
       "    .dataframe thead th {\n",
       "        text-align: right;\n",
       "    }\n",
       "</style>\n",
       "<table border=\"1\" class=\"dataframe\">\n",
       "  <thead>\n",
       "    <tr style=\"text-align: right;\">\n",
       "      <th></th>\n",
       "      <th>value.snap</th>\n",
       "      <th>value.section8</th>\n",
       "      <th>value.medicaid.adult</th>\n",
       "      <th>value.medicaid.child</th>\n",
       "      <th>value.aca</th>\n",
       "      <th>value.CCDF</th>\n",
       "      <th>value.eitc.fed</th>\n",
       "      <th>value.eitc.state</th>\n",
       "      <th>value.eitc</th>\n",
       "    </tr>\n",
       "  </thead>\n",
       "  <tbody>\n",
       "    <tr>\n",
       "      <th>0</th>\n",
       "      <td>10182</td>\n",
       "      <td>13963</td>\n",
       "      <td>16070</td>\n",
       "      <td>13629</td>\n",
       "      <td>0</td>\n",
       "      <td>13626.1</td>\n",
       "      <td>5370</td>\n",
       "      <td>1009</td>\n",
       "      <td>6379</td>\n",
       "    </tr>\n",
       "    <tr>\n",
       "      <th>1</th>\n",
       "      <td>9913</td>\n",
       "      <td>13675</td>\n",
       "      <td>16070</td>\n",
       "      <td>13629</td>\n",
       "      <td>0</td>\n",
       "      <td>13586.1</td>\n",
       "      <td>5159</td>\n",
       "      <td>1032</td>\n",
       "      <td>6191</td>\n",
       "    </tr>\n",
       "    <tr>\n",
       "      <th>2</th>\n",
       "      <td>9643</td>\n",
       "      <td>13387</td>\n",
       "      <td>16070</td>\n",
       "      <td>13629</td>\n",
       "      <td>0</td>\n",
       "      <td>13546.1</td>\n",
       "      <td>4949</td>\n",
       "      <td>990</td>\n",
       "      <td>5939</td>\n",
       "    </tr>\n",
       "    <tr>\n",
       "      <th>3</th>\n",
       "      <td>9373</td>\n",
       "      <td>13099</td>\n",
       "      <td>16070</td>\n",
       "      <td>13629</td>\n",
       "      <td>0</td>\n",
       "      <td>13506.1</td>\n",
       "      <td>4738</td>\n",
       "      <td>948</td>\n",
       "      <td>5686</td>\n",
       "    </tr>\n",
       "    <tr>\n",
       "      <th>4</th>\n",
       "      <td>9104</td>\n",
       "      <td>12811</td>\n",
       "      <td>16070</td>\n",
       "      <td>13629</td>\n",
       "      <td>0</td>\n",
       "      <td>13466.1</td>\n",
       "      <td>4528</td>\n",
       "      <td>906</td>\n",
       "      <td>5434</td>\n",
       "    </tr>\n",
       "    <tr>\n",
       "      <th>...</th>\n",
       "      <td>...</td>\n",
       "      <td>...</td>\n",
       "      <td>...</td>\n",
       "      <td>...</td>\n",
       "      <td>...</td>\n",
       "      <td>...</td>\n",
       "      <td>...</td>\n",
       "      <td>...</td>\n",
       "      <td>...</td>\n",
       "    </tr>\n",
       "    <tr>\n",
       "      <th>68</th>\n",
       "      <td>0</td>\n",
       "      <td>0</td>\n",
       "      <td>0</td>\n",
       "      <td>0</td>\n",
       "      <td>16345</td>\n",
       "      <td>0.0</td>\n",
       "      <td>0</td>\n",
       "      <td>0</td>\n",
       "      <td>0</td>\n",
       "    </tr>\n",
       "    <tr>\n",
       "      <th>69</th>\n",
       "      <td>0</td>\n",
       "      <td>0</td>\n",
       "      <td>0</td>\n",
       "      <td>0</td>\n",
       "      <td>16172</td>\n",
       "      <td>0.0</td>\n",
       "      <td>0</td>\n",
       "      <td>0</td>\n",
       "      <td>0</td>\n",
       "    </tr>\n",
       "    <tr>\n",
       "      <th>70</th>\n",
       "      <td>0</td>\n",
       "      <td>0</td>\n",
       "      <td>0</td>\n",
       "      <td>0</td>\n",
       "      <td>16038</td>\n",
       "      <td>0.0</td>\n",
       "      <td>0</td>\n",
       "      <td>0</td>\n",
       "      <td>0</td>\n",
       "    </tr>\n",
       "    <tr>\n",
       "      <th>71</th>\n",
       "      <td>0</td>\n",
       "      <td>0</td>\n",
       "      <td>0</td>\n",
       "      <td>0</td>\n",
       "      <td>15946</td>\n",
       "      <td>0.0</td>\n",
       "      <td>0</td>\n",
       "      <td>0</td>\n",
       "      <td>0</td>\n",
       "    </tr>\n",
       "    <tr>\n",
       "      <th>72</th>\n",
       "      <td>0</td>\n",
       "      <td>0</td>\n",
       "      <td>0</td>\n",
       "      <td>0</td>\n",
       "      <td>15855</td>\n",
       "      <td>0.0</td>\n",
       "      <td>0</td>\n",
       "      <td>0</td>\n",
       "      <td>0</td>\n",
       "    </tr>\n",
       "  </tbody>\n",
       "</table>\n",
       "<p>73 rows × 9 columns</p>\n",
       "</div>"
      ],
      "text/plain": [
       "    value.snap  value.section8  value.medicaid.adult  value.medicaid.child  \\\n",
       "0        10182           13963                 16070                 13629   \n",
       "1         9913           13675                 16070                 13629   \n",
       "2         9643           13387                 16070                 13629   \n",
       "3         9373           13099                 16070                 13629   \n",
       "4         9104           12811                 16070                 13629   \n",
       "..         ...             ...                   ...                   ...   \n",
       "68           0               0                     0                     0   \n",
       "69           0               0                     0                     0   \n",
       "70           0               0                     0                     0   \n",
       "71           0               0                     0                     0   \n",
       "72           0               0                     0                     0   \n",
       "\n",
       "    value.aca  value.CCDF  value.eitc.fed  value.eitc.state  value.eitc  \n",
       "0           0     13626.1            5370              1009        6379  \n",
       "1           0     13586.1            5159              1032        6191  \n",
       "2           0     13546.1            4949               990        5939  \n",
       "3           0     13506.1            4738               948        5686  \n",
       "4           0     13466.1            4528               906        5434  \n",
       "..        ...         ...             ...               ...         ...  \n",
       "68      16345         0.0               0                 0           0  \n",
       "69      16172         0.0               0                 0           0  \n",
       "70      16038         0.0               0                 0           0  \n",
       "71      15946         0.0               0                 0           0  \n",
       "72      15855         0.0               0                 0           0  \n",
       "\n",
       "[73 rows x 9 columns]"
      ]
     },
     "execution_count": 6,
     "metadata": {},
     "output_type": "execute_result"
    }
   ],
   "source": [
    "df_benefits = df.filter(regex='value')\n",
    "\n",
    "# Only interested in plotting benefits which could be producing a cliff, i.e. if it drops to zero at any point \n",
    "df_benefits_filtered = df_benefits.loc[:, ((df_benefits != 0).any(axis=0) & (df_benefits == 0).any(axis=0))] \n",
    "df_benefits_filtered"
   ]
  },
  {
   "cell_type": "markdown",
   "metadata": {},
   "source": [
    "#### 1. Find Cliff Points \n",
    "\n",
    "##### Based on an initial view of the plot..."
   ]
  },
  {
   "cell_type": "code",
   "execution_count": 7,
   "metadata": {},
   "outputs": [
    {
     "data": {
      "application/vnd.plotly.v1+json": {
       "config": {
        "plotlyServerURL": "https://plot.ly"
       },
       "data": [
        {
         "hovertemplate": "income=%{x}<br>NetResources=%{y}<extra></extra>",
         "legendgroup": "",
         "line": {
          "color": "#008080",
          "dash": "solid"
         },
         "marker": {
          "symbol": "circle"
         },
         "mode": "markers+lines",
         "name": "",
         "orientation": "v",
         "showlegend": false,
         "type": "scatter",
         "x": [
          27560,
          28560,
          29560,
          30560,
          31560,
          32560,
          33560,
          34560,
          35560,
          36560,
          37560,
          38560,
          39560,
          40560,
          41560,
          42560,
          43560,
          44560,
          45560,
          46560,
          47560,
          48560,
          49560,
          50560,
          51560,
          52560,
          53560,
          54560,
          55560,
          56560,
          57560,
          58560,
          59560,
          60560,
          61560,
          62560,
          63560,
          64560,
          65560,
          66560,
          67560,
          68560,
          69560,
          70560,
          71560,
          72560,
          73560,
          74560,
          75560,
          76560,
          77560,
          78560,
          79560,
          80560,
          81560,
          82560,
          83560,
          84560,
          85560,
          86560,
          87560,
          88560,
          89560,
          90560,
          91560,
          92560,
          93560,
          94560,
          95560,
          96560,
          97560,
          98560,
          99560
         ],
         "xaxis": "x",
         "y": [
          -3610.59999999999,
          -3629.59999999999,
          -3715.59999999999,
          -3795.59999999999,
          -3864.59999999999,
          -3936.59999999999,
          -4007.59999999999,
          -4137.59999999999,
          -4229.59999999999,
          -4320.59999999999,
          -4412.59999999999,
          -4504.59999999999,
          -4595.59999999999,
          -4688.59999999999,
          -4779.59999999999,
          -4870.59999999999,
          -4962.59999999999,
          -5053.59999999999,
          -5145.59999999999,
          -5237.59999999999,
          -5328.59999999999,
          -7298.59999999999,
          -7495.59999999999,
          -7696.59999999999,
          -7899.59999999999,
          -8104.59999999999,
          -8366.59999999999,
          -8325.59999999999,
          -8287.59999999999,
          -8251.59999999999,
          -8218.59999999999,
          -8187.59999999999,
          -8160.59999999999,
          -8135.59999999999,
          -8112.59999999999,
          -8093.59999999999,
          -8079.59999999999,
          -8075.59999999999,
          -10895.7,
          -10874.7,
          -10852.7,
          -10835.7,
          -10818.7,
          -14275.66,
          -13978.66,
          -13683.66,
          -13390.66,
          -13146.66,
          -12957.66,
          -12471.66,
          -12286.66,
          -12105.66,
          -11924.66,
          -11746.66,
          -11559.66,
          -11371.66,
          -11183.66,
          -10998.66,
          -10814.66,
          -10632.66,
          -10451.66,
          -10024.66,
          -9547.65999999999,
          -9072.65999999999,
          -8598.65999999999,
          -8127.65999999999,
          -7656.65999999999,
          -7188.65999999999,
          -6721.65999999999,
          -6257.65999999999,
          -5753.65999999999,
          -5208.65999999999,
          -4661.65999999999
         ],
         "yaxis": "y"
        },
        {
         "line": {
          "color": "#2B3514"
         },
         "mode": "markers+lines",
         "name": "value.snap",
         "type": "scatter",
         "visible": true,
         "x": [
          27560,
          28560,
          29560,
          30560,
          31560,
          32560,
          33560,
          34560,
          35560,
          36560,
          37560,
          38560,
          39560,
          40560,
          41560,
          42560,
          43560,
          44560,
          45560,
          46560,
          47560,
          48560,
          49560,
          50560,
          51560,
          52560,
          53560,
          54560,
          55560,
          56560,
          57560,
          58560,
          59560,
          60560,
          61560,
          62560,
          63560,
          64560,
          65560,
          66560,
          67560,
          68560,
          69560,
          70560,
          71560,
          72560,
          73560,
          74560,
          75560,
          76560,
          77560,
          78560,
          79560,
          80560,
          81560,
          82560,
          83560,
          84560,
          85560,
          86560,
          87560,
          88560,
          89560,
          90560,
          91560,
          92560,
          93560,
          94560,
          95560,
          96560,
          97560,
          98560,
          99560
         ],
         "y": [
          10182,
          9913,
          9643,
          9373,
          9104,
          8834,
          8564,
          8942,
          8691,
          8440,
          8189,
          7938,
          7687,
          7436,
          7186,
          6935,
          6684,
          6433,
          6182,
          5931,
          5680,
          5429,
          5178,
          4927,
          4676,
          4425,
          4174,
          3923,
          3672,
          3421,
          3170,
          2919,
          2668,
          2417,
          2166,
          1915,
          1664,
          1414,
          4470,
          4185,
          3901,
          3616,
          3331,
          0,
          0,
          0,
          0,
          0,
          0,
          0,
          0,
          0,
          0,
          0,
          0,
          0,
          0,
          0,
          0,
          0,
          0,
          0,
          0,
          0,
          0,
          0,
          0,
          0,
          0,
          0,
          0,
          0,
          0
         ]
        },
        {
         "line": {
          "color": "#6F340D"
         },
         "mode": "markers+lines",
         "name": "value.section8",
         "type": "scatter",
         "visible": "legendonly",
         "x": [
          27560,
          28560,
          29560,
          30560,
          31560,
          32560,
          33560,
          34560,
          35560,
          36560,
          37560,
          38560,
          39560,
          40560,
          41560,
          42560,
          43560,
          44560,
          45560,
          46560,
          47560,
          48560,
          49560,
          50560,
          51560,
          52560,
          53560,
          54560,
          55560,
          56560,
          57560,
          58560,
          59560,
          60560,
          61560,
          62560,
          63560,
          64560,
          65560,
          66560,
          67560,
          68560,
          69560,
          70560,
          71560,
          72560,
          73560,
          74560,
          75560,
          76560,
          77560,
          78560,
          79560,
          80560,
          81560,
          82560,
          83560,
          84560,
          85560,
          86560,
          87560,
          88560,
          89560,
          90560,
          91560,
          92560,
          93560,
          94560,
          95560,
          96560,
          97560,
          98560,
          99560
         ],
         "y": [
          13963,
          13675,
          13387,
          13099,
          12811,
          12523,
          12235,
          12465,
          12192,
          11919,
          11646,
          11373,
          11100,
          10827,
          10554,
          10281,
          10008,
          9735,
          9462,
          9189,
          8916,
          8643,
          8370,
          8097,
          7824,
          7551,
          7278,
          7005,
          6732,
          6459,
          6186,
          5913,
          5640,
          5367,
          5094,
          4821,
          4548,
          4275,
          6651,
          6351,
          6051,
          5751,
          5451,
          5151,
          4851,
          4551,
          4251,
          3951,
          3651,
          3351,
          3051,
          2751,
          2451,
          2151,
          1851,
          1551,
          1251,
          951,
          651,
          351,
          51,
          0,
          0,
          0,
          0,
          0,
          0,
          0,
          0,
          0,
          0,
          0,
          0
         ]
        },
        {
         "line": {
          "color": "#7E1510"
         },
         "mode": "markers+lines",
         "name": "value.medicaid.adult",
         "type": "scatter",
         "visible": true,
         "x": [
          27560,
          28560,
          29560,
          30560,
          31560,
          32560,
          33560,
          34560,
          35560,
          36560,
          37560,
          38560,
          39560,
          40560,
          41560,
          42560,
          43560,
          44560,
          45560,
          46560,
          47560,
          48560,
          49560,
          50560,
          51560,
          52560,
          53560,
          54560,
          55560,
          56560,
          57560,
          58560,
          59560,
          60560,
          61560,
          62560,
          63560,
          64560,
          65560,
          66560,
          67560,
          68560,
          69560,
          70560,
          71560,
          72560,
          73560,
          74560,
          75560,
          76560,
          77560,
          78560,
          79560,
          80560,
          81560,
          82560,
          83560,
          84560,
          85560,
          86560,
          87560,
          88560,
          89560,
          90560,
          91560,
          92560,
          93560,
          94560,
          95560,
          96560,
          97560,
          98560,
          99560
         ],
         "y": [
          16070,
          16070,
          16070,
          16070,
          16070,
          16070,
          16070,
          16070,
          16070,
          16070,
          16070,
          16070,
          16070,
          16070,
          16070,
          16070,
          16070,
          16070,
          16070,
          16070,
          16070,
          0,
          0,
          0,
          0,
          0,
          0,
          0,
          0,
          0,
          0,
          0,
          0,
          0,
          0,
          0,
          0,
          0,
          0,
          0,
          0,
          0,
          0,
          0,
          0,
          0,
          0,
          0,
          0,
          0,
          0,
          0,
          0,
          0,
          0,
          0,
          0,
          0,
          0,
          0,
          0,
          0,
          0,
          0,
          0,
          0,
          0,
          0,
          0,
          0,
          0,
          0,
          0
         ]
        },
        {
         "line": {
          "color": "#9a9a00"
         },
         "mode": "markers+lines",
         "name": "value.medicaid.child",
         "type": "scatter",
         "visible": true,
         "x": [
          27560,
          28560,
          29560,
          30560,
          31560,
          32560,
          33560,
          34560,
          35560,
          36560,
          37560,
          38560,
          39560,
          40560,
          41560,
          42560,
          43560,
          44560,
          45560,
          46560,
          47560,
          48560,
          49560,
          50560,
          51560,
          52560,
          53560,
          54560,
          55560,
          56560,
          57560,
          58560,
          59560,
          60560,
          61560,
          62560,
          63560,
          64560,
          65560,
          66560,
          67560,
          68560,
          69560,
          70560,
          71560,
          72560,
          73560,
          74560,
          75560,
          76560,
          77560,
          78560,
          79560,
          80560,
          81560,
          82560,
          83560,
          84560,
          85560,
          86560,
          87560,
          88560,
          89560,
          90560,
          91560,
          92560,
          93560,
          94560,
          95560,
          96560,
          97560,
          98560,
          99560
         ],
         "y": [
          13629,
          13629,
          13629,
          13629,
          13629,
          13629,
          13629,
          13629,
          13629,
          13629,
          13629,
          13629,
          13629,
          13629,
          13629,
          13629,
          13629,
          13629,
          13629,
          13629,
          13629,
          13629,
          13629,
          13629,
          13629,
          13629,
          13449,
          13449,
          13449,
          13449,
          13449,
          13449,
          13449,
          13449,
          13449,
          13449,
          13449,
          13449,
          13449,
          13449,
          13449,
          13449,
          13449,
          13449,
          13449,
          13449,
          13449,
          13449,
          13449,
          0,
          0,
          0,
          0,
          0,
          0,
          0,
          0,
          0,
          0,
          0,
          0,
          0,
          0,
          0,
          0,
          0,
          0,
          0,
          0,
          0,
          0,
          0,
          0
         ]
        },
        {
         "line": {
          "color": "#91218C"
         },
         "mode": "markers+lines",
         "name": "value.aca",
         "type": "scatter",
         "visible": true,
         "x": [
          27560,
          28560,
          29560,
          30560,
          31560,
          32560,
          33560,
          34560,
          35560,
          36560,
          37560,
          38560,
          39560,
          40560,
          41560,
          42560,
          43560,
          44560,
          45560,
          46560,
          47560,
          48560,
          49560,
          50560,
          51560,
          52560,
          53560,
          54560,
          55560,
          56560,
          57560,
          58560,
          59560,
          60560,
          61560,
          62560,
          63560,
          64560,
          65560,
          66560,
          67560,
          68560,
          69560,
          70560,
          71560,
          72560,
          73560,
          74560,
          75560,
          76560,
          77560,
          78560,
          79560,
          80560,
          81560,
          82560,
          83560,
          84560,
          85560,
          86560,
          87560,
          88560,
          89560,
          90560,
          91560,
          92560,
          93560,
          94560,
          95560,
          96560,
          97560,
          98560,
          99560
         ],
         "y": [
          0,
          0,
          0,
          0,
          0,
          0,
          0,
          0,
          0,
          0,
          0,
          0,
          0,
          0,
          0,
          0,
          0,
          0,
          0,
          0,
          0,
          10527,
          10421,
          10312,
          10201,
          10087,
          9970,
          9850,
          9727,
          9602,
          9474,
          9344,
          9210,
          9074,
          8936,
          8794,
          8650,
          8503,
          8374,
          8243,
          8111,
          7976,
          7840,
          7701,
          7560,
          7418,
          7273,
          7126,
          6977,
          19357,
          19204,
          19048,
          18891,
          18732,
          18581,
          18432,
          18282,
          18130,
          17976,
          17821,
          17664,
          17505,
          17344,
          17182,
          17018,
          16852,
          16685,
          16516,
          16345,
          16172,
          16038,
          15946,
          15855
         ]
        },
        {
         "line": {
          "color": "#463397"
         },
         "mode": "markers+lines",
         "name": "value.CCDF",
         "type": "scatter",
         "visible": true,
         "x": [
          27560,
          28560,
          29560,
          30560,
          31560,
          32560,
          33560,
          34560,
          35560,
          36560,
          37560,
          38560,
          39560,
          40560,
          41560,
          42560,
          43560,
          44560,
          45560,
          46560,
          47560,
          48560,
          49560,
          50560,
          51560,
          52560,
          53560,
          54560,
          55560,
          56560,
          57560,
          58560,
          59560,
          60560,
          61560,
          62560,
          63560,
          64560,
          65560,
          66560,
          67560,
          68560,
          69560,
          70560,
          71560,
          72560,
          73560,
          74560,
          75560,
          76560,
          77560,
          78560,
          79560,
          80560,
          81560,
          82560,
          83560,
          84560,
          85560,
          86560,
          87560,
          88560,
          89560,
          90560,
          91560,
          92560,
          93560,
          94560,
          95560,
          96560,
          97560,
          98560,
          99560
         ],
         "y": [
          13626.1,
          13586.1,
          13546.1,
          13506.1,
          13466.1,
          13426.1,
          13386.1,
          11618.1,
          11528.1,
          11438.1,
          11348.1,
          11258.1,
          11168.1,
          11078.1,
          10988.1,
          10898.1,
          10808.1,
          10718.1,
          10628.1,
          10538.1,
          10448.1,
          10358.1,
          10268.1,
          10178.1,
          10088.1,
          9998.1,
          9908.1,
          9818.1,
          9728.1,
          9638.1,
          9548.1,
          9458.1,
          9368.1,
          9278.1,
          9188.1,
          9098.1,
          9008.1,
          8918.1,
          0,
          0,
          0,
          0,
          0,
          0,
          0,
          0,
          0,
          0,
          0,
          0,
          0,
          0,
          0,
          0,
          0,
          0,
          0,
          0,
          0,
          0,
          0,
          0,
          0,
          0,
          0,
          0,
          0,
          0,
          0,
          0,
          0,
          0,
          0
         ]
        },
        {
         "line": {
          "color": "#BA1C30"
         },
         "mode": "markers+lines",
         "name": "value.eitc.fed",
         "type": "scatter",
         "visible": "legendonly",
         "x": [
          27560,
          28560,
          29560,
          30560,
          31560,
          32560,
          33560,
          34560,
          35560,
          36560,
          37560,
          38560,
          39560,
          40560,
          41560,
          42560,
          43560,
          44560,
          45560,
          46560,
          47560,
          48560,
          49560,
          50560,
          51560,
          52560,
          53560,
          54560,
          55560,
          56560,
          57560,
          58560,
          59560,
          60560,
          61560,
          62560,
          63560,
          64560,
          65560,
          66560,
          67560,
          68560,
          69560,
          70560,
          71560,
          72560,
          73560,
          74560,
          75560,
          76560,
          77560,
          78560,
          79560,
          80560,
          81560,
          82560,
          83560,
          84560,
          85560,
          86560,
          87560,
          88560,
          89560,
          90560,
          91560,
          92560,
          93560,
          94560,
          95560,
          96560,
          97560,
          98560,
          99560
         ],
         "y": [
          5370,
          5159,
          4949,
          4738,
          4528,
          4317,
          4106,
          3896,
          3685,
          3475,
          3264,
          3053,
          2843,
          2632,
          2421,
          2211,
          2000,
          1790,
          1579,
          1368,
          1158,
          947,
          737,
          526,
          315,
          105,
          0,
          0,
          0,
          0,
          0,
          0,
          0,
          0,
          0,
          0,
          0,
          0,
          0,
          0,
          0,
          0,
          0,
          0,
          0,
          0,
          0,
          0,
          0,
          0,
          0,
          0,
          0,
          0,
          0,
          0,
          0,
          0,
          0,
          0,
          0,
          0,
          0,
          0,
          0,
          0,
          0,
          0,
          0,
          0,
          0,
          0,
          0
         ]
        },
        {
         "line": {
          "color": "#96CDE6"
         },
         "mode": "markers+lines",
         "name": "value.eitc.state",
         "type": "scatter",
         "visible": "legendonly",
         "x": [
          27560,
          28560,
          29560,
          30560,
          31560,
          32560,
          33560,
          34560,
          35560,
          36560,
          37560,
          38560,
          39560,
          40560,
          41560,
          42560,
          43560,
          44560,
          45560,
          46560,
          47560,
          48560,
          49560,
          50560,
          51560,
          52560,
          53560,
          54560,
          55560,
          56560,
          57560,
          58560,
          59560,
          60560,
          61560,
          62560,
          63560,
          64560,
          65560,
          66560,
          67560,
          68560,
          69560,
          70560,
          71560,
          72560,
          73560,
          74560,
          75560,
          76560,
          77560,
          78560,
          79560,
          80560,
          81560,
          82560,
          83560,
          84560,
          85560,
          86560,
          87560,
          88560,
          89560,
          90560,
          91560,
          92560,
          93560,
          94560,
          95560,
          96560,
          97560,
          98560,
          99560
         ],
         "y": [
          1009,
          1032,
          990,
          948,
          906,
          863,
          821,
          779,
          737,
          695,
          653,
          611,
          569,
          526,
          484,
          442,
          400,
          358,
          316,
          274,
          232,
          189,
          147,
          105,
          63,
          21,
          0,
          0,
          0,
          0,
          0,
          0,
          0,
          0,
          0,
          0,
          0,
          0,
          0,
          0,
          0,
          0,
          0,
          0,
          0,
          0,
          0,
          0,
          0,
          0,
          0,
          0,
          0,
          0,
          0,
          0,
          0,
          0,
          0,
          0,
          0,
          0,
          0,
          0,
          0,
          0,
          0,
          0,
          0,
          0,
          0,
          0,
          0
         ]
        },
        {
         "line": {
          "color": "#DB6917"
         },
         "mode": "markers+lines",
         "name": "value.eitc",
         "type": "scatter",
         "visible": "legendonly",
         "x": [
          27560,
          28560,
          29560,
          30560,
          31560,
          32560,
          33560,
          34560,
          35560,
          36560,
          37560,
          38560,
          39560,
          40560,
          41560,
          42560,
          43560,
          44560,
          45560,
          46560,
          47560,
          48560,
          49560,
          50560,
          51560,
          52560,
          53560,
          54560,
          55560,
          56560,
          57560,
          58560,
          59560,
          60560,
          61560,
          62560,
          63560,
          64560,
          65560,
          66560,
          67560,
          68560,
          69560,
          70560,
          71560,
          72560,
          73560,
          74560,
          75560,
          76560,
          77560,
          78560,
          79560,
          80560,
          81560,
          82560,
          83560,
          84560,
          85560,
          86560,
          87560,
          88560,
          89560,
          90560,
          91560,
          92560,
          93560,
          94560,
          95560,
          96560,
          97560,
          98560,
          99560
         ],
         "y": [
          6379,
          6191,
          5939,
          5686,
          5434,
          5180,
          4927,
          4675,
          4422,
          4170,
          3917,
          3664,
          3412,
          3158,
          2905,
          2653,
          2400,
          2148,
          1895,
          1642,
          1390,
          1136,
          884,
          631,
          378,
          126,
          0,
          0,
          0,
          0,
          0,
          0,
          0,
          0,
          0,
          0,
          0,
          0,
          0,
          0,
          0,
          0,
          0,
          0,
          0,
          0,
          0,
          0,
          0,
          0,
          0,
          0,
          0,
          0,
          0,
          0,
          0,
          0,
          0,
          0,
          0,
          0,
          0,
          0,
          0,
          0,
          0,
          0,
          0,
          0,
          0,
          0,
          0
         ]
        },
        {
         "line": {
          "color": "grey"
         },
         "mode": "markers+lines",
         "name": "1st Derivative (* 10000)",
         "type": "scatter",
         "x": [
          27560,
          28560,
          29560,
          30560,
          31560,
          32560,
          33560,
          34560,
          35560,
          36560,
          37560,
          38560,
          39560,
          40560,
          41560,
          42560,
          43560,
          44560,
          45560,
          46560,
          47560,
          48560,
          49560,
          50560,
          51560,
          52560,
          53560,
          54560,
          55560,
          56560,
          57560,
          58560,
          59560,
          60560,
          61560,
          62560,
          63560,
          64560,
          65560,
          66560,
          67560,
          68560,
          69560,
          70560,
          71560,
          72560,
          73560,
          74560,
          75560,
          76560,
          77560,
          78560,
          79560,
          80560,
          81560,
          82560,
          83560,
          84560,
          85560,
          86560,
          87560,
          88560,
          89560,
          90560,
          91560,
          92560,
          93560,
          94560,
          95560,
          96560,
          97560,
          98560,
          99560
         ],
         "y": [
          -190,
          -525,
          -830,
          -745,
          -704.9999999999999,
          -714.9999999999999,
          -1005.0000000000023,
          -1110.0000000000023,
          -915,
          -915,
          -920,
          -915,
          -920,
          -920,
          -910,
          -915,
          -915,
          -915,
          -920,
          -915,
          -10305,
          -10834.999999999998,
          -1990,
          -2020.0000000000002,
          -2039.9999999999998,
          -2334.9999999999955,
          -1104.9999999999955,
          395,
          370,
          345.00000000000006,
          319.99999999999545,
          289.99999999999545,
          260,
          240,
          210,
          165,
          90,
          -14080.500000000051,
          -13995.500000000051,
          214.99999999999997,
          195,
          170,
          -17199.799999999996,
          -15799.799999999996,
          2960,
          2940,
          2685,
          2165,
          3375,
          3355,
          1830,
          1810,
          1795,
          1825,
          1875,
          1880,
          1865,
          1845,
          1830,
          1815,
          3040,
          4520.0000000000455,
          4760.0000000000455,
          4745,
          4725.000000000005,
          4710.000000000005,
          4695,
          4675,
          4655,
          4840,
          5245,
          5460,
          5470
         ]
        }
       ],
       "layout": {
        "annotations": [
         {
          "align": "left",
          "bordercolor": "black",
          "borderwidth": 1,
          "showarrow": false,
          "text": "<span style='color:#008080;'><b>Family:</b></span> <i>(Age, Disabled, Blind, Monthly SSDI)<br></i><b>Adult1</b>: 30, False, False, 0<br><b>Adult2</b>: 30, False, False, 0<br><b>Child1</b>: 8, False<br><b>Child2</b>: 5, False<br><b>Child3</b>: 2, False<br><i><br>CHILDCARE, HEADSTART, CCDF, <br>REK, HEALTHCARE, MEDICAID_ADULT, <br>MEDICAID_CHILD, CA, SECTION8, <br>SNAP, SLP, WIC, <br>EITC, TAXES, CTC, <br>CDCTC, TANF, SSI, <br>SSDI</i>",
          "x": 1.4,
          "xref": "paper",
          "y": 0,
          "yref": "paper"
         }
        ],
        "height": 600,
        "legend": {
         "tracegroupgap": 0
        },
        "margin": {
         "b": 80,
         "l": 60,
         "r": 400,
         "t": 60
        },
        "shapes": [
         {
          "line": {
           "color": "red",
           "dash": "dash",
           "width": 4
          },
          "type": "line",
          "x0": 27560,
          "x1": 99560,
          "y0": 0,
          "y1": 0
         }
        ],
        "template": {
         "data": {
          "bar": [
           {
            "error_x": {
             "color": "#2a3f5f"
            },
            "error_y": {
             "color": "#2a3f5f"
            },
            "marker": {
             "line": {
              "color": "#E5ECF6",
              "width": 0.5
             },
             "pattern": {
              "fillmode": "overlay",
              "size": 10,
              "solidity": 0.2
             }
            },
            "type": "bar"
           }
          ],
          "barpolar": [
           {
            "marker": {
             "line": {
              "color": "#E5ECF6",
              "width": 0.5
             },
             "pattern": {
              "fillmode": "overlay",
              "size": 10,
              "solidity": 0.2
             }
            },
            "type": "barpolar"
           }
          ],
          "carpet": [
           {
            "aaxis": {
             "endlinecolor": "#2a3f5f",
             "gridcolor": "white",
             "linecolor": "white",
             "minorgridcolor": "white",
             "startlinecolor": "#2a3f5f"
            },
            "baxis": {
             "endlinecolor": "#2a3f5f",
             "gridcolor": "white",
             "linecolor": "white",
             "minorgridcolor": "white",
             "startlinecolor": "#2a3f5f"
            },
            "type": "carpet"
           }
          ],
          "choropleth": [
           {
            "colorbar": {
             "outlinewidth": 0,
             "ticks": ""
            },
            "type": "choropleth"
           }
          ],
          "contour": [
           {
            "colorbar": {
             "outlinewidth": 0,
             "ticks": ""
            },
            "colorscale": [
             [
              0,
              "#0d0887"
             ],
             [
              0.1111111111111111,
              "#46039f"
             ],
             [
              0.2222222222222222,
              "#7201a8"
             ],
             [
              0.3333333333333333,
              "#9c179e"
             ],
             [
              0.4444444444444444,
              "#bd3786"
             ],
             [
              0.5555555555555556,
              "#d8576b"
             ],
             [
              0.6666666666666666,
              "#ed7953"
             ],
             [
              0.7777777777777778,
              "#fb9f3a"
             ],
             [
              0.8888888888888888,
              "#fdca26"
             ],
             [
              1,
              "#f0f921"
             ]
            ],
            "type": "contour"
           }
          ],
          "contourcarpet": [
           {
            "colorbar": {
             "outlinewidth": 0,
             "ticks": ""
            },
            "type": "contourcarpet"
           }
          ],
          "heatmap": [
           {
            "colorbar": {
             "outlinewidth": 0,
             "ticks": ""
            },
            "colorscale": [
             [
              0,
              "#0d0887"
             ],
             [
              0.1111111111111111,
              "#46039f"
             ],
             [
              0.2222222222222222,
              "#7201a8"
             ],
             [
              0.3333333333333333,
              "#9c179e"
             ],
             [
              0.4444444444444444,
              "#bd3786"
             ],
             [
              0.5555555555555556,
              "#d8576b"
             ],
             [
              0.6666666666666666,
              "#ed7953"
             ],
             [
              0.7777777777777778,
              "#fb9f3a"
             ],
             [
              0.8888888888888888,
              "#fdca26"
             ],
             [
              1,
              "#f0f921"
             ]
            ],
            "type": "heatmap"
           }
          ],
          "heatmapgl": [
           {
            "colorbar": {
             "outlinewidth": 0,
             "ticks": ""
            },
            "colorscale": [
             [
              0,
              "#0d0887"
             ],
             [
              0.1111111111111111,
              "#46039f"
             ],
             [
              0.2222222222222222,
              "#7201a8"
             ],
             [
              0.3333333333333333,
              "#9c179e"
             ],
             [
              0.4444444444444444,
              "#bd3786"
             ],
             [
              0.5555555555555556,
              "#d8576b"
             ],
             [
              0.6666666666666666,
              "#ed7953"
             ],
             [
              0.7777777777777778,
              "#fb9f3a"
             ],
             [
              0.8888888888888888,
              "#fdca26"
             ],
             [
              1,
              "#f0f921"
             ]
            ],
            "type": "heatmapgl"
           }
          ],
          "histogram": [
           {
            "marker": {
             "pattern": {
              "fillmode": "overlay",
              "size": 10,
              "solidity": 0.2
             }
            },
            "type": "histogram"
           }
          ],
          "histogram2d": [
           {
            "colorbar": {
             "outlinewidth": 0,
             "ticks": ""
            },
            "colorscale": [
             [
              0,
              "#0d0887"
             ],
             [
              0.1111111111111111,
              "#46039f"
             ],
             [
              0.2222222222222222,
              "#7201a8"
             ],
             [
              0.3333333333333333,
              "#9c179e"
             ],
             [
              0.4444444444444444,
              "#bd3786"
             ],
             [
              0.5555555555555556,
              "#d8576b"
             ],
             [
              0.6666666666666666,
              "#ed7953"
             ],
             [
              0.7777777777777778,
              "#fb9f3a"
             ],
             [
              0.8888888888888888,
              "#fdca26"
             ],
             [
              1,
              "#f0f921"
             ]
            ],
            "type": "histogram2d"
           }
          ],
          "histogram2dcontour": [
           {
            "colorbar": {
             "outlinewidth": 0,
             "ticks": ""
            },
            "colorscale": [
             [
              0,
              "#0d0887"
             ],
             [
              0.1111111111111111,
              "#46039f"
             ],
             [
              0.2222222222222222,
              "#7201a8"
             ],
             [
              0.3333333333333333,
              "#9c179e"
             ],
             [
              0.4444444444444444,
              "#bd3786"
             ],
             [
              0.5555555555555556,
              "#d8576b"
             ],
             [
              0.6666666666666666,
              "#ed7953"
             ],
             [
              0.7777777777777778,
              "#fb9f3a"
             ],
             [
              0.8888888888888888,
              "#fdca26"
             ],
             [
              1,
              "#f0f921"
             ]
            ],
            "type": "histogram2dcontour"
           }
          ],
          "mesh3d": [
           {
            "colorbar": {
             "outlinewidth": 0,
             "ticks": ""
            },
            "type": "mesh3d"
           }
          ],
          "parcoords": [
           {
            "line": {
             "colorbar": {
              "outlinewidth": 0,
              "ticks": ""
             }
            },
            "type": "parcoords"
           }
          ],
          "pie": [
           {
            "automargin": true,
            "type": "pie"
           }
          ],
          "scatter": [
           {
            "fillpattern": {
             "fillmode": "overlay",
             "size": 10,
             "solidity": 0.2
            },
            "type": "scatter"
           }
          ],
          "scatter3d": [
           {
            "line": {
             "colorbar": {
              "outlinewidth": 0,
              "ticks": ""
             }
            },
            "marker": {
             "colorbar": {
              "outlinewidth": 0,
              "ticks": ""
             }
            },
            "type": "scatter3d"
           }
          ],
          "scattercarpet": [
           {
            "marker": {
             "colorbar": {
              "outlinewidth": 0,
              "ticks": ""
             }
            },
            "type": "scattercarpet"
           }
          ],
          "scattergeo": [
           {
            "marker": {
             "colorbar": {
              "outlinewidth": 0,
              "ticks": ""
             }
            },
            "type": "scattergeo"
           }
          ],
          "scattergl": [
           {
            "marker": {
             "colorbar": {
              "outlinewidth": 0,
              "ticks": ""
             }
            },
            "type": "scattergl"
           }
          ],
          "scattermapbox": [
           {
            "marker": {
             "colorbar": {
              "outlinewidth": 0,
              "ticks": ""
             }
            },
            "type": "scattermapbox"
           }
          ],
          "scatterpolar": [
           {
            "marker": {
             "colorbar": {
              "outlinewidth": 0,
              "ticks": ""
             }
            },
            "type": "scatterpolar"
           }
          ],
          "scatterpolargl": [
           {
            "marker": {
             "colorbar": {
              "outlinewidth": 0,
              "ticks": ""
             }
            },
            "type": "scatterpolargl"
           }
          ],
          "scatterternary": [
           {
            "marker": {
             "colorbar": {
              "outlinewidth": 0,
              "ticks": ""
             }
            },
            "type": "scatterternary"
           }
          ],
          "surface": [
           {
            "colorbar": {
             "outlinewidth": 0,
             "ticks": ""
            },
            "colorscale": [
             [
              0,
              "#0d0887"
             ],
             [
              0.1111111111111111,
              "#46039f"
             ],
             [
              0.2222222222222222,
              "#7201a8"
             ],
             [
              0.3333333333333333,
              "#9c179e"
             ],
             [
              0.4444444444444444,
              "#bd3786"
             ],
             [
              0.5555555555555556,
              "#d8576b"
             ],
             [
              0.6666666666666666,
              "#ed7953"
             ],
             [
              0.7777777777777778,
              "#fb9f3a"
             ],
             [
              0.8888888888888888,
              "#fdca26"
             ],
             [
              1,
              "#f0f921"
             ]
            ],
            "type": "surface"
           }
          ],
          "table": [
           {
            "cells": {
             "fill": {
              "color": "#EBF0F8"
             },
             "line": {
              "color": "white"
             }
            },
            "header": {
             "fill": {
              "color": "#C8D4E3"
             },
             "line": {
              "color": "white"
             }
            },
            "type": "table"
           }
          ]
         },
         "layout": {
          "annotationdefaults": {
           "arrowcolor": "#2a3f5f",
           "arrowhead": 0,
           "arrowwidth": 1
          },
          "autotypenumbers": "strict",
          "coloraxis": {
           "colorbar": {
            "outlinewidth": 0,
            "ticks": ""
           }
          },
          "colorscale": {
           "diverging": [
            [
             0,
             "#8e0152"
            ],
            [
             0.1,
             "#c51b7d"
            ],
            [
             0.2,
             "#de77ae"
            ],
            [
             0.3,
             "#f1b6da"
            ],
            [
             0.4,
             "#fde0ef"
            ],
            [
             0.5,
             "#f7f7f7"
            ],
            [
             0.6,
             "#e6f5d0"
            ],
            [
             0.7,
             "#b8e186"
            ],
            [
             0.8,
             "#7fbc41"
            ],
            [
             0.9,
             "#4d9221"
            ],
            [
             1,
             "#276419"
            ]
           ],
           "sequential": [
            [
             0,
             "#0d0887"
            ],
            [
             0.1111111111111111,
             "#46039f"
            ],
            [
             0.2222222222222222,
             "#7201a8"
            ],
            [
             0.3333333333333333,
             "#9c179e"
            ],
            [
             0.4444444444444444,
             "#bd3786"
            ],
            [
             0.5555555555555556,
             "#d8576b"
            ],
            [
             0.6666666666666666,
             "#ed7953"
            ],
            [
             0.7777777777777778,
             "#fb9f3a"
            ],
            [
             0.8888888888888888,
             "#fdca26"
            ],
            [
             1,
             "#f0f921"
            ]
           ],
           "sequentialminus": [
            [
             0,
             "#0d0887"
            ],
            [
             0.1111111111111111,
             "#46039f"
            ],
            [
             0.2222222222222222,
             "#7201a8"
            ],
            [
             0.3333333333333333,
             "#9c179e"
            ],
            [
             0.4444444444444444,
             "#bd3786"
            ],
            [
             0.5555555555555556,
             "#d8576b"
            ],
            [
             0.6666666666666666,
             "#ed7953"
            ],
            [
             0.7777777777777778,
             "#fb9f3a"
            ],
            [
             0.8888888888888888,
             "#fdca26"
            ],
            [
             1,
             "#f0f921"
            ]
           ]
          },
          "colorway": [
           "#636efa",
           "#EF553B",
           "#00cc96",
           "#ab63fa",
           "#FFA15A",
           "#19d3f3",
           "#FF6692",
           "#B6E880",
           "#FF97FF",
           "#FECB52"
          ],
          "font": {
           "color": "#2a3f5f"
          },
          "geo": {
           "bgcolor": "white",
           "lakecolor": "white",
           "landcolor": "#E5ECF6",
           "showlakes": true,
           "showland": true,
           "subunitcolor": "white"
          },
          "hoverlabel": {
           "align": "left"
          },
          "hovermode": "closest",
          "mapbox": {
           "style": "light"
          },
          "paper_bgcolor": "white",
          "plot_bgcolor": "#E5ECF6",
          "polar": {
           "angularaxis": {
            "gridcolor": "white",
            "linecolor": "white",
            "ticks": ""
           },
           "bgcolor": "#E5ECF6",
           "radialaxis": {
            "gridcolor": "white",
            "linecolor": "white",
            "ticks": ""
           }
          },
          "scene": {
           "xaxis": {
            "backgroundcolor": "#E5ECF6",
            "gridcolor": "white",
            "gridwidth": 2,
            "linecolor": "white",
            "showbackground": true,
            "ticks": "",
            "zerolinecolor": "white"
           },
           "yaxis": {
            "backgroundcolor": "#E5ECF6",
            "gridcolor": "white",
            "gridwidth": 2,
            "linecolor": "white",
            "showbackground": true,
            "ticks": "",
            "zerolinecolor": "white"
           },
           "zaxis": {
            "backgroundcolor": "#E5ECF6",
            "gridcolor": "white",
            "gridwidth": 2,
            "linecolor": "white",
            "showbackground": true,
            "ticks": "",
            "zerolinecolor": "white"
           }
          },
          "shapedefaults": {
           "line": {
            "color": "#2a3f5f"
           }
          },
          "ternary": {
           "aaxis": {
            "gridcolor": "white",
            "linecolor": "white",
            "ticks": ""
           },
           "baxis": {
            "gridcolor": "white",
            "linecolor": "white",
            "ticks": ""
           },
           "bgcolor": "#E5ECF6",
           "caxis": {
            "gridcolor": "white",
            "linecolor": "white",
            "ticks": ""
           }
          },
          "title": {
           "x": 0.05
          },
          "xaxis": {
           "automargin": true,
           "gridcolor": "white",
           "linecolor": "white",
           "ticks": "",
           "title": {
            "standoff": 15
           },
           "zerolinecolor": "white",
           "zerolinewidth": 2
          },
          "yaxis": {
           "automargin": true,
           "gridcolor": "white",
           "linecolor": "white",
           "ticks": "",
           "title": {
            "standoff": 15
           },
           "zerolinecolor": "white",
           "zerolinewidth": 2
          }
         }
        },
        "title": {
         "text": "Net Resources in New Castle County, DE"
        },
        "width": 1200,
        "xaxis": {
         "anchor": "y",
         "domain": [
          0,
          1
         ],
         "title": {
          "text": "income"
         }
        },
        "yaxis": {
         "anchor": "x",
         "domain": [
          0,
          1
         ],
         "title": {
          "text": "NetResources"
         }
        }
       }
      }
     },
     "metadata": {},
     "output_type": "display_data"
    }
   ],
   "source": [
    "import plotly.express as px \n",
    "import plotly.graph_objects as go \n",
    "\n",
    "## Color map for the line plot and the legend \n",
    "\n",
    "## Plot \n",
    "\n",
    "x_var='AfterTaxIncome'\n",
    "x_var='income'\n",
    "## -- Base plot, Net Resources -- ## \n",
    "fig = px.line(df, x=x_var, y='NetResources', \n",
    "              color_discrete_sequence=[plotting.beneficiary_color_palette[1]], \n",
    "              title='Net Resources in New Castle County, DE')\n",
    "\n",
    "fig.update_traces(mode='markers+lines')\n",
    "\n",
    "\n",
    "## -- Benefits Programs  -- ## \n",
    "for n, col in enumerate(df_benefits_filtered): \n",
    "    visibility = 'legendonly' if 'eitc' in col or 'section8' in col else True\n",
    "    fig.add_trace(go.Scatter(x=df[x_var],y=df[col], mode='markers+lines', line=dict(color=plotting.ben_display_map[col][1]), name=col, visible=visibility))\n",
    "\n",
    "\n",
    "## -- Derivative  -- ## \n",
    "x,y = df[x_var], df['NetResources'],\n",
    "derivative_scale = 10000\n",
    "fig.add_trace(go.Scatter(x=x,y=np.gradient(y,x) * derivative_scale, mode='markers+lines', line=dict(color=\"grey\"), name=f'1st Derivative (* {derivative_scale})'))\n",
    "# fig.add_trace(go.Scatter(x=x,y=np.gradient(np.gradient(y, x) * 1000, x) * derivative_scale, mode='markers+lines', line=dict(color=\"black\"), name=f'2nd Derivative (* {derivative_scale})'))\n",
    "\n",
    "\n",
    "## --- Customizing Hover Text --- ## \n",
    "# fig.update_traces()\n",
    "\n",
    "\n",
    "## -- Add baseline (break-even) -- ## \n",
    "fig.add_shape(type=\"line\",\n",
    "              x0=df[x_var].min(),\n",
    "              y0=0,\n",
    "              x1=df[x_var].max(),\n",
    "              y1=0,\n",
    "              line=dict(color=\"red\",width=4,dash=\"dash\"),\n",
    "              )\n",
    "\n",
    "## --- Adding Legend(s) --- ## \n",
    "\n",
    "# legend_text = f'<span style=\"{color_palette[2]}\"><b>Family</b></span> <i>(Age, Disabled, Blind, Monthly SSDI)<br></i>'\n",
    "legend_text = f\"<span style='color:{plotting.beneficiary_color_palette[1]};'><b>Family:</b></span> <i>(Age, Disabled, Blind, Monthly SSDI)<br></i>\"\n",
    "\n",
    "legend_info = p2_child3.get_family()\n",
    "\n",
    "for fam_member, params in legend_info.items():\n",
    "    legend_text = legend_text + f\"<b>{fam_member}</b>: \" \n",
    "    for v in params.values(): \n",
    "        legend_text += f\"{v}, \"\n",
    "    legend_text = legend_text.rstrip(', ') + \"<br>\"\n",
    "    \n",
    "## Add Benefits List\n",
    "legend_text += \"<i>\" \n",
    "ben_list = p2_child3.get_benefits()\n",
    "for i in range(len(ben_list)):\n",
    "    if i % 3 == 0:\n",
    "        legend_text += \"<br>\"\n",
    "    legend_text += ben_list[i] + \", \" \n",
    "legend_text = legend_text.rstrip(\",  \") + \"</i>\"\n",
    "\n",
    "\n",
    "fig.add_annotation(\n",
    "    text=legend_text,\n",
    "    align='left',\n",
    "    showarrow=False,\n",
    "    xref='paper',\n",
    "    yref='paper',\n",
    "    x=1.4,\n",
    "    y=0,\n",
    "\n",
    "    bordercolor='black',\n",
    "    borderwidth=1\n",
    ")\n",
    "\n",
    "# Update layout to adjust the legend position\n",
    "fig.update_layout(\n",
    "    xaxis=dict(title=x_var),\n",
    "    yaxis=dict(title='NetResources'),\n",
    "    margin=dict(l=60, r=400, t=60, b=80), # margins for annotation\n",
    "    height=600,\n",
    "    width=1200\n",
    "\n",
    ")\n",
    "\n",
    "\n",
    "fig.show()\n"
   ]
  },
  {
   "cell_type": "markdown",
   "metadata": {},
   "source": [
    "* Cliff points (in the green trendline) coincide with points where a certain benefits program hits zero.\n",
    "\n",
    "* For this plot,  I've filtered the benefits programs in the legend to those which contain a zero.<br> - Since EITC never has a cliff (it's a percentage up to a maximum), I left it transparent. <br> - Section8 doesn't have a cliff here but I'm not confident that's always the case \n",
    "\n",
    "<!-- Could use local minima of the derivative (where negative), but that could be too broad \n",
    "* E.g. note derivative at $42,452  \n",
    "1. Look at distribution of the (second?) derivative and find outliers?  -->\n",
    "##### **Two-part rule-based approach**: \n",
    "\n",
    "Find points where \n",
    "1. Derivative is negative and a local minimum \n",
    "2. A benefits program just hit zero \n",
    "\n"
   ]
  },
  {
   "cell_type": "code",
   "execution_count": 8,
   "metadata": {},
   "outputs": [
    {
     "name": "stdout",
     "output_type": "stream",
     "text": [
      "Benefits zeros (points where a benefits program is zero) (idx, income level)\n",
      "{0: 27560, 21: 48560, 38: 65560, 43: 70560, 49: 76560, 61: 88560}\n",
      "\n",
      "Cliff Valleys (benefits zeros coinciding with negative local minima of derivative)\n",
      "21    48560\n",
      "38    65560\n",
      "43    70560\n",
      "Name: income, dtype: int64\n",
      "\n",
      "Cliff Peaks (subtract \"valleys\" by one to get the \"peaks\" of the cliffs)\n",
      "20    47560\n",
      "37    64560\n",
      "42    69560\n",
      "Name: income, dtype: int64\n"
     ]
    }
   ],
   "source": [
    "## Find local minima of derivative\n",
    "derivative = np.gradient(y,x)\n",
    "derivative_rel_minima = argrelextrema(derivative, np.less)[0]\n",
    "# drop non-negative local minima (derivative obviously must be negative to be a cliff)\n",
    "derivative_rel_minima = derivative_rel_minima[derivative_rel_minima > 0] \n",
    "\n",
    "## Find zeros of relevant benefits programs \n",
    "\n",
    "# Filter to relevant benefits programs \n",
    "df_benefits = df.filter(regex='value')\n",
    "# Benefits program must have some non-zero values and some zero values \n",
    "df_benefits_filtered = df_benefits.loc[:, ((df_benefits != 0).any(axis=0) & (df_benefits == 0).any(axis=0))]\n",
    "# We exclude EITC programs by name \n",
    "df_benefits_filtered = df_benefits_filtered[[col for col in df_benefits_filtered.columns\n",
    "                                             if 'eitc' not in col]]\n",
    "# Find zeros \n",
    "benefits_zeros = []\n",
    "for col in df_benefits_filtered.columns: \n",
    "    z_index = df_benefits_filtered[col].to_list().index(0)\n",
    "    benefits_zeros.append(z_index)\n",
    "benefits_zeros.sort()\n",
    "\n",
    "## Find overlaps \n",
    "cliff_valleys = []\n",
    "for z in benefits_zeros: \n",
    "    if any(z in pd.Interval(a-1,a+1) for a in derivative_rel_minima): \n",
    "        cliff_valleys.append(z)\n",
    "cliff_peaks = [v - 1 for v in cliff_valleys]\n",
    "\n",
    "print('Benefits zeros (points where a benefits program is zero) (idx, income level)')\n",
    "print(x[benefits_zeros].to_dict())\n",
    "\n",
    "# print('\\nLocal Minima of Derivative (negative only)')\n",
    "# print(x[derivative_rel_minima])\n",
    "\n",
    "print('\\nCliff Valleys (benefits zeros coinciding with negative local minima of derivative)')\n",
    "print(x[cliff_valleys])\n",
    "\n",
    "print('\\nCliff Peaks (subtract \"valleys\" by one to get the \"peaks\" of the cliffs)')\n",
    "print(x[cliff_peaks])"
   ]
  },
  {
   "cell_type": "markdown",
   "metadata": {},
   "source": [
    "##### 2. Adding the Cliff Peaks to the Plot "
   ]
  },
  {
   "cell_type": "code",
   "execution_count": 24,
   "metadata": {},
   "outputs": [
    {
     "name": "stdout",
     "output_type": "stream",
     "text": [
      "{'benefit': 'value.medicaid.adult', 'valley': 21, 'peak': 20}\n",
      "{'benefit': 'value.CCDF', 'valley': 38, 'peak': 37}\n",
      "{'benefit': 'value.snap', 'valley': 43, 'peak': 42}\n"
     ]
    },
    {
     "data": {
      "application/vnd.plotly.v1+json": {
       "config": {
        "plotlyServerURL": "https://plot.ly"
       },
       "data": [
        {
         "hovertemplate": "income=%{x}<br>NetResources=%{y}<extra></extra>",
         "legendgroup": "",
         "line": {
          "color": "#008080",
          "dash": "solid"
         },
         "marker": {
          "symbol": "circle"
         },
         "mode": "markers+lines",
         "name": "",
         "orientation": "v",
         "showlegend": false,
         "type": "scatter",
         "x": [
          27560,
          28560,
          29560,
          30560,
          31560,
          32560,
          33560,
          34560,
          35560,
          36560,
          37560,
          38560,
          39560,
          40560,
          41560,
          42560,
          43560,
          44560,
          45560,
          46560,
          47560,
          48560,
          49560,
          50560,
          51560,
          52560,
          53560,
          54560,
          55560,
          56560,
          57560,
          58560,
          59560,
          60560,
          61560,
          62560,
          63560,
          64560,
          65560,
          66560,
          67560,
          68560,
          69560,
          70560,
          71560,
          72560,
          73560,
          74560,
          75560,
          76560,
          77560,
          78560,
          79560,
          80560,
          81560,
          82560,
          83560,
          84560,
          85560,
          86560,
          87560,
          88560,
          89560,
          90560,
          91560,
          92560,
          93560,
          94560,
          95560,
          96560,
          97560,
          98560,
          99560
         ],
         "xaxis": "x",
         "y": [
          -3610.59999999999,
          -3629.59999999999,
          -3715.59999999999,
          -3795.59999999999,
          -3864.59999999999,
          -3936.59999999999,
          -4007.59999999999,
          -4137.59999999999,
          -4229.59999999999,
          -4320.59999999999,
          -4412.59999999999,
          -4504.59999999999,
          -4595.59999999999,
          -4688.59999999999,
          -4779.59999999999,
          -4870.59999999999,
          -4962.59999999999,
          -5053.59999999999,
          -5145.59999999999,
          -5237.59999999999,
          -5328.59999999999,
          -7298.59999999999,
          -7495.59999999999,
          -7696.59999999999,
          -7899.59999999999,
          -8104.59999999999,
          -8366.59999999999,
          -8325.59999999999,
          -8287.59999999999,
          -8251.59999999999,
          -8218.59999999999,
          -8187.59999999999,
          -8160.59999999999,
          -8135.59999999999,
          -8112.59999999999,
          -8093.59999999999,
          -8079.59999999999,
          -8075.59999999999,
          -10895.7,
          -10874.7,
          -10852.7,
          -10835.7,
          -10818.7,
          -14275.66,
          -13978.66,
          -13683.66,
          -13390.66,
          -13146.66,
          -12957.66,
          -12471.66,
          -12286.66,
          -12105.66,
          -11924.66,
          -11746.66,
          -11559.66,
          -11371.66,
          -11183.66,
          -10998.66,
          -10814.66,
          -10632.66,
          -10451.66,
          -10024.66,
          -9547.65999999999,
          -9072.65999999999,
          -8598.65999999999,
          -8127.65999999999,
          -7656.65999999999,
          -7188.65999999999,
          -6721.65999999999,
          -6257.65999999999,
          -5753.65999999999,
          -5208.65999999999,
          -4661.65999999999
         ],
         "yaxis": "y"
        },
        {
         "line": {
          "color": "#2B3514"
         },
         "mode": "markers+lines",
         "name": "SNAP",
         "type": "scatter",
         "visible": true,
         "x": [
          27560,
          28560,
          29560,
          30560,
          31560,
          32560,
          33560,
          34560,
          35560,
          36560,
          37560,
          38560,
          39560,
          40560,
          41560,
          42560,
          43560,
          44560,
          45560,
          46560,
          47560,
          48560,
          49560,
          50560,
          51560,
          52560,
          53560,
          54560,
          55560,
          56560,
          57560,
          58560,
          59560,
          60560,
          61560,
          62560,
          63560,
          64560,
          65560,
          66560,
          67560,
          68560,
          69560,
          70560,
          71560,
          72560,
          73560,
          74560,
          75560,
          76560,
          77560,
          78560,
          79560,
          80560,
          81560,
          82560,
          83560,
          84560,
          85560,
          86560,
          87560,
          88560,
          89560,
          90560,
          91560,
          92560,
          93560,
          94560,
          95560,
          96560,
          97560,
          98560,
          99560
         ],
         "y": [
          10182,
          9913,
          9643,
          9373,
          9104,
          8834,
          8564,
          8942,
          8691,
          8440,
          8189,
          7938,
          7687,
          7436,
          7186,
          6935,
          6684,
          6433,
          6182,
          5931,
          5680,
          5429,
          5178,
          4927,
          4676,
          4425,
          4174,
          3923,
          3672,
          3421,
          3170,
          2919,
          2668,
          2417,
          2166,
          1915,
          1664,
          1414,
          4470,
          4185,
          3901,
          3616,
          3331,
          0,
          0,
          0,
          0,
          0,
          0,
          0,
          0,
          0,
          0,
          0,
          0,
          0,
          0,
          0,
          0,
          0,
          0,
          0,
          0,
          0,
          0,
          0,
          0,
          0,
          0,
          0,
          0,
          0,
          0
         ]
        },
        {
         "line": {
          "color": "#6F340D"
         },
         "mode": "markers+lines",
         "name": "Section 8",
         "type": "scatter",
         "visible": "legendonly",
         "x": [
          27560,
          28560,
          29560,
          30560,
          31560,
          32560,
          33560,
          34560,
          35560,
          36560,
          37560,
          38560,
          39560,
          40560,
          41560,
          42560,
          43560,
          44560,
          45560,
          46560,
          47560,
          48560,
          49560,
          50560,
          51560,
          52560,
          53560,
          54560,
          55560,
          56560,
          57560,
          58560,
          59560,
          60560,
          61560,
          62560,
          63560,
          64560,
          65560,
          66560,
          67560,
          68560,
          69560,
          70560,
          71560,
          72560,
          73560,
          74560,
          75560,
          76560,
          77560,
          78560,
          79560,
          80560,
          81560,
          82560,
          83560,
          84560,
          85560,
          86560,
          87560,
          88560,
          89560,
          90560,
          91560,
          92560,
          93560,
          94560,
          95560,
          96560,
          97560,
          98560,
          99560
         ],
         "y": [
          13963,
          13675,
          13387,
          13099,
          12811,
          12523,
          12235,
          12465,
          12192,
          11919,
          11646,
          11373,
          11100,
          10827,
          10554,
          10281,
          10008,
          9735,
          9462,
          9189,
          8916,
          8643,
          8370,
          8097,
          7824,
          7551,
          7278,
          7005,
          6732,
          6459,
          6186,
          5913,
          5640,
          5367,
          5094,
          4821,
          4548,
          4275,
          6651,
          6351,
          6051,
          5751,
          5451,
          5151,
          4851,
          4551,
          4251,
          3951,
          3651,
          3351,
          3051,
          2751,
          2451,
          2151,
          1851,
          1551,
          1251,
          951,
          651,
          351,
          51,
          0,
          0,
          0,
          0,
          0,
          0,
          0,
          0,
          0,
          0,
          0,
          0
         ]
        },
        {
         "line": {
          "color": "#7E1510"
         },
         "mode": "markers+lines",
         "name": "Medicaid (Adult)",
         "type": "scatter",
         "visible": true,
         "x": [
          27560,
          28560,
          29560,
          30560,
          31560,
          32560,
          33560,
          34560,
          35560,
          36560,
          37560,
          38560,
          39560,
          40560,
          41560,
          42560,
          43560,
          44560,
          45560,
          46560,
          47560,
          48560,
          49560,
          50560,
          51560,
          52560,
          53560,
          54560,
          55560,
          56560,
          57560,
          58560,
          59560,
          60560,
          61560,
          62560,
          63560,
          64560,
          65560,
          66560,
          67560,
          68560,
          69560,
          70560,
          71560,
          72560,
          73560,
          74560,
          75560,
          76560,
          77560,
          78560,
          79560,
          80560,
          81560,
          82560,
          83560,
          84560,
          85560,
          86560,
          87560,
          88560,
          89560,
          90560,
          91560,
          92560,
          93560,
          94560,
          95560,
          96560,
          97560,
          98560,
          99560
         ],
         "y": [
          16070,
          16070,
          16070,
          16070,
          16070,
          16070,
          16070,
          16070,
          16070,
          16070,
          16070,
          16070,
          16070,
          16070,
          16070,
          16070,
          16070,
          16070,
          16070,
          16070,
          16070,
          0,
          0,
          0,
          0,
          0,
          0,
          0,
          0,
          0,
          0,
          0,
          0,
          0,
          0,
          0,
          0,
          0,
          0,
          0,
          0,
          0,
          0,
          0,
          0,
          0,
          0,
          0,
          0,
          0,
          0,
          0,
          0,
          0,
          0,
          0,
          0,
          0,
          0,
          0,
          0,
          0,
          0,
          0,
          0,
          0,
          0,
          0,
          0,
          0,
          0,
          0,
          0
         ]
        },
        {
         "line": {
          "color": "#9a9a00"
         },
         "mode": "markers+lines",
         "name": "Medicaid (Child)",
         "type": "scatter",
         "visible": true,
         "x": [
          27560,
          28560,
          29560,
          30560,
          31560,
          32560,
          33560,
          34560,
          35560,
          36560,
          37560,
          38560,
          39560,
          40560,
          41560,
          42560,
          43560,
          44560,
          45560,
          46560,
          47560,
          48560,
          49560,
          50560,
          51560,
          52560,
          53560,
          54560,
          55560,
          56560,
          57560,
          58560,
          59560,
          60560,
          61560,
          62560,
          63560,
          64560,
          65560,
          66560,
          67560,
          68560,
          69560,
          70560,
          71560,
          72560,
          73560,
          74560,
          75560,
          76560,
          77560,
          78560,
          79560,
          80560,
          81560,
          82560,
          83560,
          84560,
          85560,
          86560,
          87560,
          88560,
          89560,
          90560,
          91560,
          92560,
          93560,
          94560,
          95560,
          96560,
          97560,
          98560,
          99560
         ],
         "y": [
          13629,
          13629,
          13629,
          13629,
          13629,
          13629,
          13629,
          13629,
          13629,
          13629,
          13629,
          13629,
          13629,
          13629,
          13629,
          13629,
          13629,
          13629,
          13629,
          13629,
          13629,
          13629,
          13629,
          13629,
          13629,
          13629,
          13449,
          13449,
          13449,
          13449,
          13449,
          13449,
          13449,
          13449,
          13449,
          13449,
          13449,
          13449,
          13449,
          13449,
          13449,
          13449,
          13449,
          13449,
          13449,
          13449,
          13449,
          13449,
          13449,
          0,
          0,
          0,
          0,
          0,
          0,
          0,
          0,
          0,
          0,
          0,
          0,
          0,
          0,
          0,
          0,
          0,
          0,
          0,
          0,
          0,
          0,
          0,
          0
         ]
        },
        {
         "line": {
          "color": "#91218C"
         },
         "mode": "markers+lines",
         "name": "ACA",
         "type": "scatter",
         "visible": true,
         "x": [
          27560,
          28560,
          29560,
          30560,
          31560,
          32560,
          33560,
          34560,
          35560,
          36560,
          37560,
          38560,
          39560,
          40560,
          41560,
          42560,
          43560,
          44560,
          45560,
          46560,
          47560,
          48560,
          49560,
          50560,
          51560,
          52560,
          53560,
          54560,
          55560,
          56560,
          57560,
          58560,
          59560,
          60560,
          61560,
          62560,
          63560,
          64560,
          65560,
          66560,
          67560,
          68560,
          69560,
          70560,
          71560,
          72560,
          73560,
          74560,
          75560,
          76560,
          77560,
          78560,
          79560,
          80560,
          81560,
          82560,
          83560,
          84560,
          85560,
          86560,
          87560,
          88560,
          89560,
          90560,
          91560,
          92560,
          93560,
          94560,
          95560,
          96560,
          97560,
          98560,
          99560
         ],
         "y": [
          0,
          0,
          0,
          0,
          0,
          0,
          0,
          0,
          0,
          0,
          0,
          0,
          0,
          0,
          0,
          0,
          0,
          0,
          0,
          0,
          0,
          10527,
          10421,
          10312,
          10201,
          10087,
          9970,
          9850,
          9727,
          9602,
          9474,
          9344,
          9210,
          9074,
          8936,
          8794,
          8650,
          8503,
          8374,
          8243,
          8111,
          7976,
          7840,
          7701,
          7560,
          7418,
          7273,
          7126,
          6977,
          19357,
          19204,
          19048,
          18891,
          18732,
          18581,
          18432,
          18282,
          18130,
          17976,
          17821,
          17664,
          17505,
          17344,
          17182,
          17018,
          16852,
          16685,
          16516,
          16345,
          16172,
          16038,
          15946,
          15855
         ]
        },
        {
         "line": {
          "color": "#463397"
         },
         "mode": "markers+lines",
         "name": "CCDF",
         "type": "scatter",
         "visible": true,
         "x": [
          27560,
          28560,
          29560,
          30560,
          31560,
          32560,
          33560,
          34560,
          35560,
          36560,
          37560,
          38560,
          39560,
          40560,
          41560,
          42560,
          43560,
          44560,
          45560,
          46560,
          47560,
          48560,
          49560,
          50560,
          51560,
          52560,
          53560,
          54560,
          55560,
          56560,
          57560,
          58560,
          59560,
          60560,
          61560,
          62560,
          63560,
          64560,
          65560,
          66560,
          67560,
          68560,
          69560,
          70560,
          71560,
          72560,
          73560,
          74560,
          75560,
          76560,
          77560,
          78560,
          79560,
          80560,
          81560,
          82560,
          83560,
          84560,
          85560,
          86560,
          87560,
          88560,
          89560,
          90560,
          91560,
          92560,
          93560,
          94560,
          95560,
          96560,
          97560,
          98560,
          99560
         ],
         "y": [
          13626.1,
          13586.1,
          13546.1,
          13506.1,
          13466.1,
          13426.1,
          13386.1,
          11618.1,
          11528.1,
          11438.1,
          11348.1,
          11258.1,
          11168.1,
          11078.1,
          10988.1,
          10898.1,
          10808.1,
          10718.1,
          10628.1,
          10538.1,
          10448.1,
          10358.1,
          10268.1,
          10178.1,
          10088.1,
          9998.1,
          9908.1,
          9818.1,
          9728.1,
          9638.1,
          9548.1,
          9458.1,
          9368.1,
          9278.1,
          9188.1,
          9098.1,
          9008.1,
          8918.1,
          0,
          0,
          0,
          0,
          0,
          0,
          0,
          0,
          0,
          0,
          0,
          0,
          0,
          0,
          0,
          0,
          0,
          0,
          0,
          0,
          0,
          0,
          0,
          0,
          0,
          0,
          0,
          0,
          0,
          0,
          0,
          0,
          0,
          0,
          0
         ]
        },
        {
         "line": {
          "color": "#BA1C30"
         },
         "mode": "markers+lines",
         "name": "EITC (Federal)",
         "type": "scatter",
         "visible": "legendonly",
         "x": [
          27560,
          28560,
          29560,
          30560,
          31560,
          32560,
          33560,
          34560,
          35560,
          36560,
          37560,
          38560,
          39560,
          40560,
          41560,
          42560,
          43560,
          44560,
          45560,
          46560,
          47560,
          48560,
          49560,
          50560,
          51560,
          52560,
          53560,
          54560,
          55560,
          56560,
          57560,
          58560,
          59560,
          60560,
          61560,
          62560,
          63560,
          64560,
          65560,
          66560,
          67560,
          68560,
          69560,
          70560,
          71560,
          72560,
          73560,
          74560,
          75560,
          76560,
          77560,
          78560,
          79560,
          80560,
          81560,
          82560,
          83560,
          84560,
          85560,
          86560,
          87560,
          88560,
          89560,
          90560,
          91560,
          92560,
          93560,
          94560,
          95560,
          96560,
          97560,
          98560,
          99560
         ],
         "y": [
          5370,
          5159,
          4949,
          4738,
          4528,
          4317,
          4106,
          3896,
          3685,
          3475,
          3264,
          3053,
          2843,
          2632,
          2421,
          2211,
          2000,
          1790,
          1579,
          1368,
          1158,
          947,
          737,
          526,
          315,
          105,
          0,
          0,
          0,
          0,
          0,
          0,
          0,
          0,
          0,
          0,
          0,
          0,
          0,
          0,
          0,
          0,
          0,
          0,
          0,
          0,
          0,
          0,
          0,
          0,
          0,
          0,
          0,
          0,
          0,
          0,
          0,
          0,
          0,
          0,
          0,
          0,
          0,
          0,
          0,
          0,
          0,
          0,
          0,
          0,
          0,
          0,
          0
         ]
        },
        {
         "line": {
          "color": "#96CDE6"
         },
         "mode": "markers+lines",
         "name": "EITC (State)",
         "type": "scatter",
         "visible": "legendonly",
         "x": [
          27560,
          28560,
          29560,
          30560,
          31560,
          32560,
          33560,
          34560,
          35560,
          36560,
          37560,
          38560,
          39560,
          40560,
          41560,
          42560,
          43560,
          44560,
          45560,
          46560,
          47560,
          48560,
          49560,
          50560,
          51560,
          52560,
          53560,
          54560,
          55560,
          56560,
          57560,
          58560,
          59560,
          60560,
          61560,
          62560,
          63560,
          64560,
          65560,
          66560,
          67560,
          68560,
          69560,
          70560,
          71560,
          72560,
          73560,
          74560,
          75560,
          76560,
          77560,
          78560,
          79560,
          80560,
          81560,
          82560,
          83560,
          84560,
          85560,
          86560,
          87560,
          88560,
          89560,
          90560,
          91560,
          92560,
          93560,
          94560,
          95560,
          96560,
          97560,
          98560,
          99560
         ],
         "y": [
          1009,
          1032,
          990,
          948,
          906,
          863,
          821,
          779,
          737,
          695,
          653,
          611,
          569,
          526,
          484,
          442,
          400,
          358,
          316,
          274,
          232,
          189,
          147,
          105,
          63,
          21,
          0,
          0,
          0,
          0,
          0,
          0,
          0,
          0,
          0,
          0,
          0,
          0,
          0,
          0,
          0,
          0,
          0,
          0,
          0,
          0,
          0,
          0,
          0,
          0,
          0,
          0,
          0,
          0,
          0,
          0,
          0,
          0,
          0,
          0,
          0,
          0,
          0,
          0,
          0,
          0,
          0,
          0,
          0,
          0,
          0,
          0,
          0
         ]
        },
        {
         "line": {
          "color": "#DB6917"
         },
         "mode": "markers+lines",
         "name": "EITC",
         "type": "scatter",
         "visible": "legendonly",
         "x": [
          27560,
          28560,
          29560,
          30560,
          31560,
          32560,
          33560,
          34560,
          35560,
          36560,
          37560,
          38560,
          39560,
          40560,
          41560,
          42560,
          43560,
          44560,
          45560,
          46560,
          47560,
          48560,
          49560,
          50560,
          51560,
          52560,
          53560,
          54560,
          55560,
          56560,
          57560,
          58560,
          59560,
          60560,
          61560,
          62560,
          63560,
          64560,
          65560,
          66560,
          67560,
          68560,
          69560,
          70560,
          71560,
          72560,
          73560,
          74560,
          75560,
          76560,
          77560,
          78560,
          79560,
          80560,
          81560,
          82560,
          83560,
          84560,
          85560,
          86560,
          87560,
          88560,
          89560,
          90560,
          91560,
          92560,
          93560,
          94560,
          95560,
          96560,
          97560,
          98560,
          99560
         ],
         "y": [
          6379,
          6191,
          5939,
          5686,
          5434,
          5180,
          4927,
          4675,
          4422,
          4170,
          3917,
          3664,
          3412,
          3158,
          2905,
          2653,
          2400,
          2148,
          1895,
          1642,
          1390,
          1136,
          884,
          631,
          378,
          126,
          0,
          0,
          0,
          0,
          0,
          0,
          0,
          0,
          0,
          0,
          0,
          0,
          0,
          0,
          0,
          0,
          0,
          0,
          0,
          0,
          0,
          0,
          0,
          0,
          0,
          0,
          0,
          0,
          0,
          0,
          0,
          0,
          0,
          0,
          0,
          0,
          0,
          0,
          0,
          0,
          0,
          0,
          0,
          0,
          0,
          0,
          0
         ]
        }
       ],
       "layout": {
        "annotations": [
         {
          "align": "center",
          "arrowcolor": "#636363",
          "arrowhead": 2,
          "arrowsize": 1,
          "arrowwidth": 2,
          "ax": -40,
          "ay": 40,
          "bgcolor": "#7E1510",
          "bordercolor": "#c7c7c7",
          "borderpad": 4,
          "borderwidth": 2,
          "font": {
           "color": "#ffffff",
           "size": 12
          },
          "opacity": 0.8,
          "showarrow": true,
          "text": "Medicaid (Adult)<br>$47,560",
          "x": 47560,
          "xref": "x",
          "y": -5328.59999999999,
          "yref": "y"
         },
         {
          "align": "center",
          "arrowcolor": "#636363",
          "arrowhead": 2,
          "arrowsize": 1,
          "arrowwidth": 2,
          "ax": -40,
          "ay": 40,
          "bgcolor": "#463397",
          "bordercolor": "#c7c7c7",
          "borderpad": 4,
          "borderwidth": 2,
          "font": {
           "color": "#ffffff",
           "size": 12
          },
          "opacity": 0.8,
          "showarrow": true,
          "text": "CCDF<br>$64,560",
          "x": 64560,
          "xref": "x",
          "y": -8075.59999999999,
          "yref": "y"
         },
         {
          "align": "center",
          "arrowcolor": "#636363",
          "arrowhead": 2,
          "arrowsize": 1,
          "arrowwidth": 2,
          "ax": -40,
          "ay": 40,
          "bgcolor": "#2B3514",
          "bordercolor": "#c7c7c7",
          "borderpad": 4,
          "borderwidth": 2,
          "font": {
           "color": "#ffffff",
           "size": 12
          },
          "opacity": 0.8,
          "showarrow": true,
          "text": "SNAP<br>$69,560",
          "x": 69560,
          "xref": "x",
          "y": -10818.7,
          "yref": "y"
         },
         {
          "align": "left",
          "bordercolor": "black",
          "borderwidth": 1,
          "showarrow": false,
          "text": "<span style='color:#008080;'><b>Family:</b></span> <i>(Age, Disabled, Blind, Monthly SSDI)<br></i><b>Adult1</b>: 30, False, False, 0<br><b>Adult2</b>: 30, False, False, 0<br><b>Child1</b>: 8, False<br><b>Child2</b>: 5, False<br><b>Child3</b>: 2, False<br><i><br>CHILDCARE, HEADSTART, CCDF, <br>REK, HEALTHCARE, MEDICAID_ADULT, <br>MEDICAID_CHILD, CA, SECTION8, <br>SNAP, SLP, WIC, <br>EITC, TAXES, CTC, <br>CDCTC, TANF, SSI, <br>SSDI</i>",
          "x": 1.4,
          "xref": "paper",
          "y": 0,
          "yref": "paper"
         }
        ],
        "height": 600,
        "legend": {
         "tracegroupgap": 0
        },
        "margin": {
         "b": 80,
         "l": 60,
         "r": 400,
         "t": 60
        },
        "shapes": [
         {
          "line": {
           "color": "red",
           "dash": "dash",
           "width": 4
          },
          "type": "line",
          "x0": 27560,
          "x1": 99560,
          "y0": 0,
          "y1": 0
         }
        ],
        "template": {
         "data": {
          "bar": [
           {
            "error_x": {
             "color": "#2a3f5f"
            },
            "error_y": {
             "color": "#2a3f5f"
            },
            "marker": {
             "line": {
              "color": "#E5ECF6",
              "width": 0.5
             },
             "pattern": {
              "fillmode": "overlay",
              "size": 10,
              "solidity": 0.2
             }
            },
            "type": "bar"
           }
          ],
          "barpolar": [
           {
            "marker": {
             "line": {
              "color": "#E5ECF6",
              "width": 0.5
             },
             "pattern": {
              "fillmode": "overlay",
              "size": 10,
              "solidity": 0.2
             }
            },
            "type": "barpolar"
           }
          ],
          "carpet": [
           {
            "aaxis": {
             "endlinecolor": "#2a3f5f",
             "gridcolor": "white",
             "linecolor": "white",
             "minorgridcolor": "white",
             "startlinecolor": "#2a3f5f"
            },
            "baxis": {
             "endlinecolor": "#2a3f5f",
             "gridcolor": "white",
             "linecolor": "white",
             "minorgridcolor": "white",
             "startlinecolor": "#2a3f5f"
            },
            "type": "carpet"
           }
          ],
          "choropleth": [
           {
            "colorbar": {
             "outlinewidth": 0,
             "ticks": ""
            },
            "type": "choropleth"
           }
          ],
          "contour": [
           {
            "colorbar": {
             "outlinewidth": 0,
             "ticks": ""
            },
            "colorscale": [
             [
              0,
              "#0d0887"
             ],
             [
              0.1111111111111111,
              "#46039f"
             ],
             [
              0.2222222222222222,
              "#7201a8"
             ],
             [
              0.3333333333333333,
              "#9c179e"
             ],
             [
              0.4444444444444444,
              "#bd3786"
             ],
             [
              0.5555555555555556,
              "#d8576b"
             ],
             [
              0.6666666666666666,
              "#ed7953"
             ],
             [
              0.7777777777777778,
              "#fb9f3a"
             ],
             [
              0.8888888888888888,
              "#fdca26"
             ],
             [
              1,
              "#f0f921"
             ]
            ],
            "type": "contour"
           }
          ],
          "contourcarpet": [
           {
            "colorbar": {
             "outlinewidth": 0,
             "ticks": ""
            },
            "type": "contourcarpet"
           }
          ],
          "heatmap": [
           {
            "colorbar": {
             "outlinewidth": 0,
             "ticks": ""
            },
            "colorscale": [
             [
              0,
              "#0d0887"
             ],
             [
              0.1111111111111111,
              "#46039f"
             ],
             [
              0.2222222222222222,
              "#7201a8"
             ],
             [
              0.3333333333333333,
              "#9c179e"
             ],
             [
              0.4444444444444444,
              "#bd3786"
             ],
             [
              0.5555555555555556,
              "#d8576b"
             ],
             [
              0.6666666666666666,
              "#ed7953"
             ],
             [
              0.7777777777777778,
              "#fb9f3a"
             ],
             [
              0.8888888888888888,
              "#fdca26"
             ],
             [
              1,
              "#f0f921"
             ]
            ],
            "type": "heatmap"
           }
          ],
          "heatmapgl": [
           {
            "colorbar": {
             "outlinewidth": 0,
             "ticks": ""
            },
            "colorscale": [
             [
              0,
              "#0d0887"
             ],
             [
              0.1111111111111111,
              "#46039f"
             ],
             [
              0.2222222222222222,
              "#7201a8"
             ],
             [
              0.3333333333333333,
              "#9c179e"
             ],
             [
              0.4444444444444444,
              "#bd3786"
             ],
             [
              0.5555555555555556,
              "#d8576b"
             ],
             [
              0.6666666666666666,
              "#ed7953"
             ],
             [
              0.7777777777777778,
              "#fb9f3a"
             ],
             [
              0.8888888888888888,
              "#fdca26"
             ],
             [
              1,
              "#f0f921"
             ]
            ],
            "type": "heatmapgl"
           }
          ],
          "histogram": [
           {
            "marker": {
             "pattern": {
              "fillmode": "overlay",
              "size": 10,
              "solidity": 0.2
             }
            },
            "type": "histogram"
           }
          ],
          "histogram2d": [
           {
            "colorbar": {
             "outlinewidth": 0,
             "ticks": ""
            },
            "colorscale": [
             [
              0,
              "#0d0887"
             ],
             [
              0.1111111111111111,
              "#46039f"
             ],
             [
              0.2222222222222222,
              "#7201a8"
             ],
             [
              0.3333333333333333,
              "#9c179e"
             ],
             [
              0.4444444444444444,
              "#bd3786"
             ],
             [
              0.5555555555555556,
              "#d8576b"
             ],
             [
              0.6666666666666666,
              "#ed7953"
             ],
             [
              0.7777777777777778,
              "#fb9f3a"
             ],
             [
              0.8888888888888888,
              "#fdca26"
             ],
             [
              1,
              "#f0f921"
             ]
            ],
            "type": "histogram2d"
           }
          ],
          "histogram2dcontour": [
           {
            "colorbar": {
             "outlinewidth": 0,
             "ticks": ""
            },
            "colorscale": [
             [
              0,
              "#0d0887"
             ],
             [
              0.1111111111111111,
              "#46039f"
             ],
             [
              0.2222222222222222,
              "#7201a8"
             ],
             [
              0.3333333333333333,
              "#9c179e"
             ],
             [
              0.4444444444444444,
              "#bd3786"
             ],
             [
              0.5555555555555556,
              "#d8576b"
             ],
             [
              0.6666666666666666,
              "#ed7953"
             ],
             [
              0.7777777777777778,
              "#fb9f3a"
             ],
             [
              0.8888888888888888,
              "#fdca26"
             ],
             [
              1,
              "#f0f921"
             ]
            ],
            "type": "histogram2dcontour"
           }
          ],
          "mesh3d": [
           {
            "colorbar": {
             "outlinewidth": 0,
             "ticks": ""
            },
            "type": "mesh3d"
           }
          ],
          "parcoords": [
           {
            "line": {
             "colorbar": {
              "outlinewidth": 0,
              "ticks": ""
             }
            },
            "type": "parcoords"
           }
          ],
          "pie": [
           {
            "automargin": true,
            "type": "pie"
           }
          ],
          "scatter": [
           {
            "fillpattern": {
             "fillmode": "overlay",
             "size": 10,
             "solidity": 0.2
            },
            "type": "scatter"
           }
          ],
          "scatter3d": [
           {
            "line": {
             "colorbar": {
              "outlinewidth": 0,
              "ticks": ""
             }
            },
            "marker": {
             "colorbar": {
              "outlinewidth": 0,
              "ticks": ""
             }
            },
            "type": "scatter3d"
           }
          ],
          "scattercarpet": [
           {
            "marker": {
             "colorbar": {
              "outlinewidth": 0,
              "ticks": ""
             }
            },
            "type": "scattercarpet"
           }
          ],
          "scattergeo": [
           {
            "marker": {
             "colorbar": {
              "outlinewidth": 0,
              "ticks": ""
             }
            },
            "type": "scattergeo"
           }
          ],
          "scattergl": [
           {
            "marker": {
             "colorbar": {
              "outlinewidth": 0,
              "ticks": ""
             }
            },
            "type": "scattergl"
           }
          ],
          "scattermapbox": [
           {
            "marker": {
             "colorbar": {
              "outlinewidth": 0,
              "ticks": ""
             }
            },
            "type": "scattermapbox"
           }
          ],
          "scatterpolar": [
           {
            "marker": {
             "colorbar": {
              "outlinewidth": 0,
              "ticks": ""
             }
            },
            "type": "scatterpolar"
           }
          ],
          "scatterpolargl": [
           {
            "marker": {
             "colorbar": {
              "outlinewidth": 0,
              "ticks": ""
             }
            },
            "type": "scatterpolargl"
           }
          ],
          "scatterternary": [
           {
            "marker": {
             "colorbar": {
              "outlinewidth": 0,
              "ticks": ""
             }
            },
            "type": "scatterternary"
           }
          ],
          "surface": [
           {
            "colorbar": {
             "outlinewidth": 0,
             "ticks": ""
            },
            "colorscale": [
             [
              0,
              "#0d0887"
             ],
             [
              0.1111111111111111,
              "#46039f"
             ],
             [
              0.2222222222222222,
              "#7201a8"
             ],
             [
              0.3333333333333333,
              "#9c179e"
             ],
             [
              0.4444444444444444,
              "#bd3786"
             ],
             [
              0.5555555555555556,
              "#d8576b"
             ],
             [
              0.6666666666666666,
              "#ed7953"
             ],
             [
              0.7777777777777778,
              "#fb9f3a"
             ],
             [
              0.8888888888888888,
              "#fdca26"
             ],
             [
              1,
              "#f0f921"
             ]
            ],
            "type": "surface"
           }
          ],
          "table": [
           {
            "cells": {
             "fill": {
              "color": "#EBF0F8"
             },
             "line": {
              "color": "white"
             }
            },
            "header": {
             "fill": {
              "color": "#C8D4E3"
             },
             "line": {
              "color": "white"
             }
            },
            "type": "table"
           }
          ]
         },
         "layout": {
          "annotationdefaults": {
           "arrowcolor": "#2a3f5f",
           "arrowhead": 0,
           "arrowwidth": 1
          },
          "autotypenumbers": "strict",
          "coloraxis": {
           "colorbar": {
            "outlinewidth": 0,
            "ticks": ""
           }
          },
          "colorscale": {
           "diverging": [
            [
             0,
             "#8e0152"
            ],
            [
             0.1,
             "#c51b7d"
            ],
            [
             0.2,
             "#de77ae"
            ],
            [
             0.3,
             "#f1b6da"
            ],
            [
             0.4,
             "#fde0ef"
            ],
            [
             0.5,
             "#f7f7f7"
            ],
            [
             0.6,
             "#e6f5d0"
            ],
            [
             0.7,
             "#b8e186"
            ],
            [
             0.8,
             "#7fbc41"
            ],
            [
             0.9,
             "#4d9221"
            ],
            [
             1,
             "#276419"
            ]
           ],
           "sequential": [
            [
             0,
             "#0d0887"
            ],
            [
             0.1111111111111111,
             "#46039f"
            ],
            [
             0.2222222222222222,
             "#7201a8"
            ],
            [
             0.3333333333333333,
             "#9c179e"
            ],
            [
             0.4444444444444444,
             "#bd3786"
            ],
            [
             0.5555555555555556,
             "#d8576b"
            ],
            [
             0.6666666666666666,
             "#ed7953"
            ],
            [
             0.7777777777777778,
             "#fb9f3a"
            ],
            [
             0.8888888888888888,
             "#fdca26"
            ],
            [
             1,
             "#f0f921"
            ]
           ],
           "sequentialminus": [
            [
             0,
             "#0d0887"
            ],
            [
             0.1111111111111111,
             "#46039f"
            ],
            [
             0.2222222222222222,
             "#7201a8"
            ],
            [
             0.3333333333333333,
             "#9c179e"
            ],
            [
             0.4444444444444444,
             "#bd3786"
            ],
            [
             0.5555555555555556,
             "#d8576b"
            ],
            [
             0.6666666666666666,
             "#ed7953"
            ],
            [
             0.7777777777777778,
             "#fb9f3a"
            ],
            [
             0.8888888888888888,
             "#fdca26"
            ],
            [
             1,
             "#f0f921"
            ]
           ]
          },
          "colorway": [
           "#636efa",
           "#EF553B",
           "#00cc96",
           "#ab63fa",
           "#FFA15A",
           "#19d3f3",
           "#FF6692",
           "#B6E880",
           "#FF97FF",
           "#FECB52"
          ],
          "font": {
           "color": "#2a3f5f"
          },
          "geo": {
           "bgcolor": "white",
           "lakecolor": "white",
           "landcolor": "#E5ECF6",
           "showlakes": true,
           "showland": true,
           "subunitcolor": "white"
          },
          "hoverlabel": {
           "align": "left"
          },
          "hovermode": "closest",
          "mapbox": {
           "style": "light"
          },
          "paper_bgcolor": "white",
          "plot_bgcolor": "#E5ECF6",
          "polar": {
           "angularaxis": {
            "gridcolor": "white",
            "linecolor": "white",
            "ticks": ""
           },
           "bgcolor": "#E5ECF6",
           "radialaxis": {
            "gridcolor": "white",
            "linecolor": "white",
            "ticks": ""
           }
          },
          "scene": {
           "xaxis": {
            "backgroundcolor": "#E5ECF6",
            "gridcolor": "white",
            "gridwidth": 2,
            "linecolor": "white",
            "showbackground": true,
            "ticks": "",
            "zerolinecolor": "white"
           },
           "yaxis": {
            "backgroundcolor": "#E5ECF6",
            "gridcolor": "white",
            "gridwidth": 2,
            "linecolor": "white",
            "showbackground": true,
            "ticks": "",
            "zerolinecolor": "white"
           },
           "zaxis": {
            "backgroundcolor": "#E5ECF6",
            "gridcolor": "white",
            "gridwidth": 2,
            "linecolor": "white",
            "showbackground": true,
            "ticks": "",
            "zerolinecolor": "white"
           }
          },
          "shapedefaults": {
           "line": {
            "color": "#2a3f5f"
           }
          },
          "ternary": {
           "aaxis": {
            "gridcolor": "white",
            "linecolor": "white",
            "ticks": ""
           },
           "baxis": {
            "gridcolor": "white",
            "linecolor": "white",
            "ticks": ""
           },
           "bgcolor": "#E5ECF6",
           "caxis": {
            "gridcolor": "white",
            "linecolor": "white",
            "ticks": ""
           }
          },
          "title": {
           "x": 0.05
          },
          "xaxis": {
           "automargin": true,
           "gridcolor": "white",
           "linecolor": "white",
           "ticks": "",
           "title": {
            "standoff": 15
           },
           "zerolinecolor": "white",
           "zerolinewidth": 2
          },
          "yaxis": {
           "automargin": true,
           "gridcolor": "white",
           "linecolor": "white",
           "ticks": "",
           "title": {
            "standoff": 15
           },
           "zerolinecolor": "white",
           "zerolinewidth": 2
          }
         }
        },
        "title": {
         "text": "Net Resources and Benefits in ['New Castle County, DE']"
        },
        "width": 1200,
        "xaxis": {
         "anchor": "y",
         "domain": [
          0,
          1
         ],
         "labelalias": {
          "100k": "$100,000 <br>($48.08/h)",
          "30k": "$30,000 <br>($14.42/h)",
          "40k": "$40,000 <br>($19.23/h)",
          "50k": "$50,000 <br>($24.04/h)",
          "60k": "$60,000 <br>($28.85/h)",
          "70k": "$70,000 <br>($33.65/h)",
          "80k": "$80,000 <br>($38.46/h)",
          "90k": "$90,000 <br>($43.27/h)"
         },
         "title": {
          "text": "Income"
         }
        },
        "yaxis": {
         "anchor": "x",
         "domain": [
          0,
          1
         ],
         "title": {
          "text": ""
         }
        }
       }
      }
     },
     "metadata": {},
     "output_type": "display_data"
    }
   ],
   "source": [
    "profile = copy.copy(p2_child3)\n",
    "data = pd.read_csv(profile.output_path)\n",
    "color=plotting.beneficiary_color_palette[1]\n",
    "after_tax = False \n",
    "title = f'Net Resources and Benefits in {profile.locations}'\n",
    "legend_text = plotting.create_profile_legend_text(family_data=profile.get_family(), \n",
    "                                                  ben_list=profile.get_benefits(), \n",
    "                                                  color=plotting.beneficiary_color_palette[1])\n",
    "\n",
    "def plot_single_profile(df, color, title=None, after_tax=False, plot_derivative=False, hide_benefits=False, legend_text=None): \n",
    "    \"\"\"Plot a single profile along with its cliff-causing benefits programs\"\"\"\n",
    "\n",
    "    x_var = 'income' if not after_tax else 'AfterTaxIncome' \n",
    "\n",
    "    ## Base Plot (NetResources)\n",
    "    fig = px.line(df, x=x_var, y='NetResources', \n",
    "                color_discrete_sequence=[color], \n",
    "                title=title, \n",
    "                )\n",
    "    fig.update_traces(mode='markers+lines')\n",
    "\n",
    "    ## Derivative  \n",
    "    x,y = df[x_var], df['NetResources']\n",
    "    derivative = np.gradient(y,x)\n",
    "    derivative_rel_minima = argrelextrema(derivative, np.less)[0]\n",
    "    derivative_rel_minima = derivative_rel_minima[derivative_rel_minima > 0] # non-negative\n",
    "\n",
    "    if plot_derivative: \n",
    "        derivative_scale = 10000\n",
    "        fig.add_trace(go.Scatter(x=x,y=derivative * derivative_scale, \n",
    "                                 mode='markers+lines', line=dict(color=\"grey\"), \n",
    "                                 name=f'1st Derivative (* {derivative_scale})'))\n",
    "\n",
    "    ## Benefits Programs \n",
    "    df_benefits = utils.filter_benefits(df)\n",
    "    for col in df_benefits.columns: \n",
    "        visibility = 'legendonly' if (hide_benefits or 'eitc' in col or 'section8' in col) else True # These shouldn't have cliffs \n",
    "        fig.add_trace(go.Scatter(x=df[x_var],y=df[col],\n",
    "                                mode='markers+lines', \n",
    "                                line=dict(color=plotting.ben_display_map[col][1]),\n",
    "                                name=plotting.ben_display_map[col][0], visible=visibility))\n",
    "\n",
    "    ##  Find Cliff Points & Annotate \n",
    "    df_benefits = df_benefits[[col for col in df_benefits.columns if 'eitc' not in col]] # drop eitc \n",
    "    zeros = utils.find_zeros(df_benefits)\n",
    "    cliffs = [{\"benefit\":list(z.keys())[0],\n",
    "            \"valley\":list(z.values())[0], \n",
    "            \"peak\":list(z.values())[0] - 1}\n",
    "        for z in zeros \n",
    "        if any(list(z.values())[0] in pd.Interval(e-1,e+1, closed='both')\n",
    "            for e in derivative_rel_minima)]\n",
    "\n",
    "\n",
    "    # Add annotation of the program which is lost \n",
    "    for cliff in cliffs:\n",
    "        print(cliff)\n",
    "        try:\n",
    "            income_level = x[cliff['peak']]\n",
    "            income_level_str = utils.format_int_dollars(income_level)\n",
    "            resource_level = y[cliff['peak']]     \n",
    "            \n",
    "            fig.add_annotation(\n",
    "                x=income_level,\n",
    "                y=resource_level,\n",
    "                xref=\"x\",\n",
    "                yref=\"y\",\n",
    "                text=f\"{plotting.ben_display_map[cliff['benefit']][0]}<br>{income_level_str}\",\n",
    "                showarrow=True,\n",
    "                font=dict(\n",
    "                    # family=\"Courier New, monospace\",\n",
    "                    size=12,\n",
    "                    color=\"#ffffff\"\n",
    "                    ),\n",
    "                align=\"center\",\n",
    "                arrowhead=2,\n",
    "                arrowsize=1,\n",
    "                arrowwidth=2,\n",
    "                arrowcolor=\"#636363\",\n",
    "                ax=-40,\n",
    "                ay= 40,\n",
    "                bordercolor=\"#c7c7c7\",\n",
    "                borderwidth=2,\n",
    "                borderpad=4,\n",
    "                bgcolor=plotting.ben_display_map[cliff['benefit']][1],\n",
    "                opacity=0.8\n",
    "                )\n",
    "        except Exception as e: \n",
    "            print(cliffs)\n",
    "            print(cliff['peak'])\n",
    "\n",
    "    ## --- Customizing Hover Text --- ## \n",
    "\n",
    "\n",
    "    ## -- Add baseline (break-even) -- ## \n",
    "    fig.add_shape(type=\"line\",\n",
    "                x0=df[x_var].min(),\n",
    "                y0=0,\n",
    "                x1=df[x_var].max(),\n",
    "                y1=0,\n",
    "                line=dict(color=\"red\",width=4,dash=\"dash\"),\n",
    "                )\n",
    "\n",
    "    ## --- Adding Legend(s) --- ## \n",
    "    if legend_text is not None: \n",
    "        fig.add_annotation(\n",
    "            text=legend_text,\n",
    "            align='left',\n",
    "            showarrow=False,\n",
    "            xref='paper',\n",
    "            yref='paper',\n",
    "            x=1.4,\n",
    "            y=0,\n",
    "            bordercolor='black',\n",
    "            borderwidth=1\n",
    "        )\n",
    "\n",
    "    # Update layout to adjust the legend position\n",
    "    fig.update_layout(\n",
    "        xaxis=dict(title=x_var.title()),\n",
    "        yaxis=dict(title=''),\n",
    "        margin=dict(l=60, r=400, t=60, b=80), # margins for annotation\n",
    "        height=600,\n",
    "        width=1200\n",
    "\n",
    "    )\n",
    "    \n",
    "    ## --- Customize Axis --- ## \n",
    "    fig.update_xaxes(labelalias={f\"{n}k\":f\"${n},000 <br>(${(n * 1000) / (52 * 40):.2f}/h)\" for n in range(30, 110, 10)})\n",
    "    # fig.update_yaxes(labelalias={f\"{n}k\":f\"${n},000\" for n in range(-15, 25, 5)})\n",
    "\n",
    "\n",
    "    ## --- Show Plot --- ## \n",
    "\n",
    "    fig.show()\n",
    "\n",
    "    # for cliff in cliffs: \n",
    "    #     print(cliff)\n",
    "\n",
    "plot_single_profile(data, \n",
    "                    color=color, \n",
    "                    after_tax=after_tax, \n",
    "                    title=title,\n",
    "                    legend_text=legend_text)"
   ]
  },
  {
   "cell_type": "markdown",
   "metadata": {},
   "source": [
    "##### Validating for more beneficiary profiles "
   ]
  },
  {
   "cell_type": "code",
   "execution_count": 15,
   "metadata": {},
   "outputs": [
    {
     "data": {
      "text/plain": [
       "{'p1_child0': '1 Adult, 0 Children',\n",
       " 'p1_child1': '1 Adult, 1 Child',\n",
       " 'p1_child2': '1 Adult, 2 Children',\n",
       " 'p1_child3': '1 Adult, 3 Children',\n",
       " 'p2_child0': '2 Adults, 0 Children',\n",
       " 'p2_child1': '2 Adults, 1 Child',\n",
       " 'p2_child2': '2 Adults, 2 Children',\n",
       " 'p2_child3': '2 Adults, 3 Children'}"
      ]
     },
     "execution_count": 15,
     "metadata": {},
     "output_type": "execute_result"
    }
   ],
   "source": [
    "import re \n",
    "profile_paths = [os.path.join('projects',p) for p in os.listdir('projects') if re.search('p[0-9]_child[0-9]{1}.yaml',p)]\n",
    "profile_paths.sort()\n",
    "\n",
    "def create_profile_title(project_name): \n",
    "    parent, child = project_name.split('_')\n",
    "    n_parent, n_child = parent[-1], child.rstrip('.yaml')[-1]\n",
    "    parent_text = f'{n_parent} Adult'\n",
    "    if int(n_parent) != 1: \n",
    "        parent_text += \"s\"\n",
    "    child_text = f\"{n_child} Child\"\n",
    "    if int(n_child) != 1: \n",
    "        child_text += \"ren\"\n",
    "\n",
    "    return parent_text + \", \" + child_text\n",
    "\n",
    "title_map = {os.path.basename(fp).rstrip('.yaml'):create_profile_title(os.path.basename(fp)) for fp in profile_paths}\n",
    "title_map"
   ]
  },
  {
   "cell_type": "markdown",
   "metadata": {},
   "source": [
    "\n",
    "Bug sometimes with ACA:\n",
    "* ACA can be zero at a point where Medicaid is zero and the derivative is a negative local minimum\n",
    "    * ACA is then counted among the cliff-causing benefit programs \n",
    "    * I find the first zero of ACA for the cliff valley\n",
    "        * It's zero at the first index (inactive if Medicaid is active)\n",
    "        * Subtract one to get peak, that's -1 \n",
    "        * Index error\n",
    "\n",
    "If I error handle by skipping ACA (as I do below) then I might miss actual cliffs with ACA\n",
    "    \n",
    "     "
   ]
  },
  {
   "cell_type": "code",
   "execution_count": 16,
   "metadata": {},
   "outputs": [
    {
     "data": {
      "application/vnd.plotly.v1+json": {
       "config": {
        "plotlyServerURL": "https://plot.ly"
       },
       "data": [
        {
         "hovertemplate": "income=%{x}<br>NetResources=%{y}<extra></extra>",
         "legendgroup": "",
         "line": {
          "color": "#FF6347",
          "dash": "solid"
         },
         "marker": {
          "symbol": "circle"
         },
         "mode": "markers+lines",
         "name": "",
         "orientation": "v",
         "showlegend": false,
         "type": "scatter",
         "x": [
          27560,
          28560,
          29560,
          30560,
          31560,
          32560,
          33560,
          34560,
          35560,
          36560,
          37560,
          38560,
          39560,
          40560,
          41560,
          42560,
          43560,
          44560,
          45560,
          46560,
          47560,
          48560,
          49560,
          50560,
          51560,
          52560,
          53560,
          54560,
          55560,
          56560,
          57560,
          58560,
          59560,
          60560,
          61560,
          62560,
          63560,
          64560,
          65560,
          66560,
          67560,
          68560,
          69560,
          70560,
          71560,
          72560,
          73560,
          74560,
          75560,
          76560,
          77560,
          78560,
          79560,
          80560,
          81560,
          82560,
          83560,
          84560,
          85560,
          86560,
          87560,
          88560,
          89560,
          90560,
          91560,
          92560,
          93560,
          94560,
          95560,
          96560,
          97560,
          98560,
          99560
         ],
         "xaxis": "x",
         "y": [
          2952.39999999999,
          2848.39999999999,
          2737.39999999999,
          2646.39999999999,
          2575.39999999999,
          2503.39999999999,
          2431.39999999999,
          999.399999999994,
          800.399999999994,
          598.399999999994,
          210.399999999994,
          0.399999999994179,
          -214.600000000006,
          -433.600000000006,
          -655.600000000006,
          -881.600000000006,
          -1110.60000000001,
          -1343.60000000001,
          -1581.60000000001,
          -2945.2,
          -3167.2,
          -3390.2,
          -3576.2,
          -10482.8,
          -10176.8,
          -9874.8,
          -9574.8,
          -8978.8,
          -8684.8,
          -8393.8,
          -8102.8,
          -7803.8,
          -7505.8,
          -7210.8,
          -6918.8,
          -6628.8,
          -6343.8,
          -6069.8,
          -5796.8,
          -5527.8,
          -5258.8,
          -4994.8,
          -4541.8,
          -3895.8,
          -3248.8,
          -2602.8,
          -1956.8,
          -1356.8,
          -809.800000000003,
          -263.800000000003,
          283.199999999997,
          828.199999999997,
          1375.2,
          1921.2,
          2468.2,
          3014.2,
          3560.2,
          4106.2,
          4653.2,
          5199.2,
          5746.2,
          6291.2,
          6838.2,
          7384.2,
          7931.2,
          2362.2,
          3000.2,
          3637.2,
          4275.2,
          4912.2,
          5550.2,
          6187.2,
          6825.2
         ],
         "yaxis": "y"
        },
        {
         "line": {
          "color": "grey"
         },
         "mode": "markers+lines",
         "name": "1st Derivative (* 10000)",
         "type": "scatter",
         "x": [
          27560,
          28560,
          29560,
          30560,
          31560,
          32560,
          33560,
          34560,
          35560,
          36560,
          37560,
          38560,
          39560,
          40560,
          41560,
          42560,
          43560,
          44560,
          45560,
          46560,
          47560,
          48560,
          49560,
          50560,
          51560,
          52560,
          53560,
          54560,
          55560,
          56560,
          57560,
          58560,
          59560,
          60560,
          61560,
          62560,
          63560,
          64560,
          65560,
          66560,
          67560,
          68560,
          69560,
          70560,
          71560,
          72560,
          73560,
          74560,
          75560,
          76560,
          77560,
          78560,
          79560,
          80560,
          81560,
          82560,
          83560,
          84560,
          85560,
          86560,
          87560,
          88560,
          89560,
          90560,
          91560,
          92560,
          93560,
          94560,
          95560,
          96560,
          97560,
          98560,
          99560
         ],
         "y": [
          -1040,
          -1075,
          -1010.0000000000001,
          -810,
          -714.9999999999999,
          -720,
          -7519.999999999981,
          -8154.999999999981,
          -2005.0000000000002,
          -2950,
          -2989.9999999999986,
          -2125,
          -2170.000000000001,
          -2205.0000000000005,
          -2240.0000000000005,
          -2275.000000000019,
          -2310.000000000019,
          -2355,
          -8007.99999999995,
          -7927.99999999995,
          -2225,
          -2044.9999999999998,
          -35462.99999999999,
          -33002.99999999999,
          3040,
          3010,
          4480,
          4450,
          2925,
          2909.9999999999955,
          2949.9999999999955,
          2985,
          2965,
          2935,
          2910,
          2875,
          2795.0000000000005,
          2735,
          2710,
          2690,
          2665,
          3585,
          5495,
          6465,
          6465,
          6460.000000000001,
          6230.000000000001,
          5734.9999999999845,
          5464.9999999999845,
          5465,
          5460,
          5460.000000000016,
          5465.0000000000155,
          5464.999999999999,
          5464.999999999999,
          5460,
          5460,
          5465,
          5465,
          5465,
          5460,
          5460,
          5465,
          5465,
          -25110,
          -24655,
          6375,
          6375,
          6375,
          6375,
          6375,
          6375,
          6380
         ]
        },
        {
         "line": {
          "color": "#2B3514"
         },
         "mode": "markers+lines",
         "name": "SNAP",
         "type": "scatter",
         "visible": "legendonly",
         "x": [
          27560,
          28560,
          29560,
          30560,
          31560,
          32560,
          33560,
          34560,
          35560,
          36560,
          37560,
          38560,
          39560,
          40560,
          41560,
          42560,
          43560,
          44560,
          45560,
          46560,
          47560,
          48560,
          49560,
          50560,
          51560,
          52560,
          53560,
          54560,
          55560,
          56560,
          57560,
          58560,
          59560,
          60560,
          61560,
          62560,
          63560,
          64560,
          65560,
          66560,
          67560,
          68560,
          69560,
          70560,
          71560,
          72560,
          73560,
          74560,
          75560,
          76560,
          77560,
          78560,
          79560,
          80560,
          81560,
          82560,
          83560,
          84560,
          85560,
          86560,
          87560,
          88560,
          89560,
          90560,
          91560,
          92560,
          93560,
          94560,
          95560,
          96560,
          97560,
          98560,
          99560
         ],
         "y": [
          5698,
          5447,
          5195,
          4944,
          4693,
          4442,
          4190,
          3939,
          3688,
          3437,
          3185,
          2934,
          2683,
          2432,
          2180,
          1929,
          1678,
          1427,
          1176,
          2864,
          2579,
          2294,
          2009,
          0,
          0,
          0,
          0,
          0,
          0,
          0,
          0,
          0,
          0,
          0,
          0,
          0,
          0,
          0,
          0,
          0,
          0,
          0,
          0,
          0,
          0,
          0,
          0,
          0,
          0,
          0,
          0,
          0,
          0,
          0,
          0,
          0,
          0,
          0,
          0,
          0,
          0,
          0,
          0,
          0,
          0,
          0,
          0,
          0,
          0,
          0,
          0,
          0,
          0
         ]
        },
        {
         "line": {
          "color": "#D32B1E"
         },
         "mode": "markers+lines",
         "name": "School Meals",
         "type": "scatter",
         "visible": "legendonly",
         "x": [
          27560,
          28560,
          29560,
          30560,
          31560,
          32560,
          33560,
          34560,
          35560,
          36560,
          37560,
          38560,
          39560,
          40560,
          41560,
          42560,
          43560,
          44560,
          45560,
          46560,
          47560,
          48560,
          49560,
          50560,
          51560,
          52560,
          53560,
          54560,
          55560,
          56560,
          57560,
          58560,
          59560,
          60560,
          61560,
          62560,
          63560,
          64560,
          65560,
          66560,
          67560,
          68560,
          69560,
          70560,
          71560,
          72560,
          73560,
          74560,
          75560,
          76560,
          77560,
          78560,
          79560,
          80560,
          81560,
          82560,
          83560,
          84560,
          85560,
          86560,
          87560,
          88560,
          89560,
          90560,
          91560,
          92560,
          93560,
          94560,
          95560,
          96560,
          97560,
          98560,
          99560
         ],
         "y": [
          5205.6,
          5205.6,
          5205.6,
          5205.6,
          5205.6,
          5205.6,
          5205.6,
          5205.6,
          5205.6,
          5205.6,
          5205.6,
          5205.6,
          5205.6,
          5205.6,
          5205.6,
          5205.6,
          5205.6,
          5205.6,
          5205.6,
          5205.6,
          5205.6,
          5205.6,
          5205.6,
          0,
          0,
          0,
          0,
          0,
          0,
          0,
          0,
          0,
          0,
          0,
          0,
          0,
          0,
          0,
          0,
          0,
          0,
          0,
          0,
          0,
          0,
          0,
          0,
          0,
          0,
          0,
          0,
          0,
          0,
          0,
          0,
          0,
          0,
          0,
          0,
          0,
          0,
          0,
          0,
          0,
          0,
          0,
          0,
          0,
          0,
          0,
          0,
          0,
          0
         ]
        },
        {
         "line": {
          "color": "#6F340D"
         },
         "mode": "markers+lines",
         "name": "Section 8",
         "type": "scatter",
         "visible": "legendonly",
         "x": [
          27560,
          28560,
          29560,
          30560,
          31560,
          32560,
          33560,
          34560,
          35560,
          36560,
          37560,
          38560,
          39560,
          40560,
          41560,
          42560,
          43560,
          44560,
          45560,
          46560,
          47560,
          48560,
          49560,
          50560,
          51560,
          52560,
          53560,
          54560,
          55560,
          56560,
          57560,
          58560,
          59560,
          60560,
          61560,
          62560,
          63560,
          64560,
          65560,
          66560,
          67560,
          68560,
          69560,
          70560,
          71560,
          72560,
          73560,
          74560,
          75560,
          76560,
          77560,
          78560,
          79560,
          80560,
          81560,
          82560,
          83560,
          84560,
          85560,
          86560,
          87560,
          88560,
          89560,
          90560,
          91560,
          92560,
          93560,
          94560,
          95560,
          96560,
          97560,
          98560,
          99560
         ],
         "y": [
          10404,
          10131,
          9858,
          9585,
          9312,
          9039,
          8766,
          8493,
          8220,
          7947,
          7674,
          7401,
          7128,
          6855,
          6582,
          6309,
          6036,
          5763,
          5490,
          6769,
          6469,
          6169,
          5869,
          5569,
          5269,
          4969,
          4669,
          4369,
          4069,
          3769,
          3469,
          3169,
          2869,
          2569,
          2269,
          1969,
          1669,
          1369,
          1069,
          769,
          469,
          169,
          0,
          0,
          0,
          0,
          0,
          0,
          0,
          0,
          0,
          0,
          0,
          0,
          0,
          0,
          0,
          0,
          0,
          0,
          0,
          0,
          0,
          0,
          0,
          0,
          0,
          0,
          0,
          0,
          0,
          0,
          0
         ]
        },
        {
         "line": {
          "color": "#7E1510"
         },
         "mode": "markers+lines",
         "name": "Medicaid (Adult)",
         "type": "scatter",
         "visible": "legendonly",
         "x": [
          27560,
          28560,
          29560,
          30560,
          31560,
          32560,
          33560,
          34560,
          35560,
          36560,
          37560,
          38560,
          39560,
          40560,
          41560,
          42560,
          43560,
          44560,
          45560,
          46560,
          47560,
          48560,
          49560,
          50560,
          51560,
          52560,
          53560,
          54560,
          55560,
          56560,
          57560,
          58560,
          59560,
          60560,
          61560,
          62560,
          63560,
          64560,
          65560,
          66560,
          67560,
          68560,
          69560,
          70560,
          71560,
          72560,
          73560,
          74560,
          75560,
          76560,
          77560,
          78560,
          79560,
          80560,
          81560,
          82560,
          83560,
          84560,
          85560,
          86560,
          87560,
          88560,
          89560,
          90560,
          91560,
          92560,
          93560,
          94560,
          95560,
          96560,
          97560,
          98560,
          99560
         ],
         "y": [
          8035,
          8035,
          8035,
          8035,
          8035,
          8035,
          8035,
          0,
          0,
          0,
          0,
          0,
          0,
          0,
          0,
          0,
          0,
          0,
          0,
          0,
          0,
          0,
          0,
          0,
          0,
          0,
          0,
          0,
          0,
          0,
          0,
          0,
          0,
          0,
          0,
          0,
          0,
          0,
          0,
          0,
          0,
          0,
          0,
          0,
          0,
          0,
          0,
          0,
          0,
          0,
          0,
          0,
          0,
          0,
          0,
          0,
          0,
          0,
          0,
          0,
          0,
          0,
          0,
          0,
          0,
          0,
          0,
          0,
          0,
          0,
          0,
          0,
          0
         ]
        },
        {
         "line": {
          "color": "#9a9a00"
         },
         "mode": "markers+lines",
         "name": "Medicaid (Child)",
         "type": "scatter",
         "visible": "legendonly",
         "x": [
          27560,
          28560,
          29560,
          30560,
          31560,
          32560,
          33560,
          34560,
          35560,
          36560,
          37560,
          38560,
          39560,
          40560,
          41560,
          42560,
          43560,
          44560,
          45560,
          46560,
          47560,
          48560,
          49560,
          50560,
          51560,
          52560,
          53560,
          54560,
          55560,
          56560,
          57560,
          58560,
          59560,
          60560,
          61560,
          62560,
          63560,
          64560,
          65560,
          66560,
          67560,
          68560,
          69560,
          70560,
          71560,
          72560,
          73560,
          74560,
          75560,
          76560,
          77560,
          78560,
          79560,
          80560,
          81560,
          82560,
          83560,
          84560,
          85560,
          86560,
          87560,
          88560,
          89560,
          90560,
          91560,
          92560,
          93560,
          94560,
          95560,
          96560,
          97560,
          98560,
          99560
         ],
         "y": [
          9046,
          9046,
          9046,
          9046,
          9046,
          9046,
          9046,
          9046,
          9046,
          9046,
          8866,
          8866,
          8866,
          8866,
          8866,
          8866,
          8866,
          8866,
          8866,
          8866,
          8866,
          8866,
          8866,
          8866,
          8866,
          8866,
          8866,
          0,
          0,
          0,
          0,
          0,
          0,
          0,
          0,
          0,
          0,
          0,
          0,
          0,
          0,
          0,
          0,
          0,
          0,
          0,
          0,
          0,
          0,
          0,
          0,
          0,
          0,
          0,
          0,
          0,
          0,
          0,
          0,
          0,
          0,
          0,
          0,
          0,
          0,
          0,
          0,
          0,
          0,
          0,
          0,
          0,
          0
         ]
        },
        {
         "line": {
          "color": "#91218C"
         },
         "mode": "markers+lines",
         "name": "ACA",
         "type": "scatter",
         "visible": "legendonly",
         "x": [
          27560,
          28560,
          29560,
          30560,
          31560,
          32560,
          33560,
          34560,
          35560,
          36560,
          37560,
          38560,
          39560,
          40560,
          41560,
          42560,
          43560,
          44560,
          45560,
          46560,
          47560,
          48560,
          49560,
          50560,
          51560,
          52560,
          53560,
          54560,
          55560,
          56560,
          57560,
          58560,
          59560,
          60560,
          61560,
          62560,
          63560,
          64560,
          65560,
          66560,
          67560,
          68560,
          69560,
          70560,
          71560,
          72560,
          73560,
          74560,
          75560,
          76560,
          77560,
          78560,
          79560,
          80560,
          81560,
          82560,
          83560,
          84560,
          85560,
          86560,
          87560,
          88560,
          89560,
          90560,
          91560,
          92560,
          93560,
          94560,
          95560,
          96560,
          97560,
          98560,
          99560
         ],
         "y": [
          0,
          0,
          0,
          0,
          0,
          0,
          0,
          4859,
          4752,
          4641,
          4526,
          4407,
          4285,
          4158,
          4028,
          3894,
          3756,
          3615,
          3469,
          3336,
          3205,
          3071,
          2934,
          2794,
          2652,
          2506,
          2358,
          10560,
          10406,
          10249,
          10092,
          9943,
          9793,
          9640,
          9484,
          9326,
          9166,
          9003,
          8838,
          8670,
          8501,
          8328,
          8212,
          8121,
          8030,
          7939,
          7847,
          7756,
          7665,
          7574,
          7483,
          7391,
          7300,
          7209,
          7118,
          7027,
          6935,
          6844,
          6753,
          6662,
          6571,
          6479,
          6388,
          6297,
          6206,
          0,
          0,
          0,
          0,
          0,
          0,
          0,
          0
         ]
        },
        {
         "line": {
          "color": "#463397"
         },
         "mode": "markers+lines",
         "name": "CCDF",
         "type": "scatter",
         "visible": "legendonly",
         "x": [
          27560,
          28560,
          29560,
          30560,
          31560,
          32560,
          33560,
          34560,
          35560,
          36560,
          37560,
          38560,
          39560,
          40560,
          41560,
          42560,
          43560,
          44560,
          45560,
          46560,
          47560,
          48560,
          49560,
          50560,
          51560,
          52560,
          53560,
          54560,
          55560,
          56560,
          57560,
          58560,
          59560,
          60560,
          61560,
          62560,
          63560,
          64560,
          65560,
          66560,
          67560,
          68560,
          69560,
          70560,
          71560,
          72560,
          73560,
          74560,
          75560,
          76560,
          77560,
          78560,
          79560,
          80560,
          81560,
          82560,
          83560,
          84560,
          85560,
          86560,
          87560,
          88560,
          89560,
          90560,
          91560,
          92560,
          93560,
          94560,
          95560,
          96560,
          97560,
          98560,
          99560
         ],
         "y": [
          6883.6,
          6793.6,
          6703.6,
          6613.6,
          6523.6,
          6433.6,
          6343.6,
          6253.6,
          6163.6,
          6073.6,
          5983.6,
          5893.6,
          5803.6,
          5713.6,
          5623.6,
          5533.6,
          5443.6,
          5353.6,
          5263.6,
          0,
          0,
          0,
          0,
          0,
          0,
          0,
          0,
          0,
          0,
          0,
          0,
          0,
          0,
          0,
          0,
          0,
          0,
          0,
          0,
          0,
          0,
          0,
          0,
          0,
          0,
          0,
          0,
          0,
          0,
          0,
          0,
          0,
          0,
          0,
          0,
          0,
          0,
          0,
          0,
          0,
          0,
          0,
          0,
          0,
          0,
          0,
          0,
          0,
          0,
          0,
          0,
          0,
          0
         ]
        },
        {
         "line": {
          "color": "#BA1C30"
         },
         "mode": "markers+lines",
         "name": "EITC (Federal)",
         "type": "scatter",
         "visible": "legendonly",
         "x": [
          27560,
          28560,
          29560,
          30560,
          31560,
          32560,
          33560,
          34560,
          35560,
          36560,
          37560,
          38560,
          39560,
          40560,
          41560,
          42560,
          43560,
          44560,
          45560,
          46560,
          47560,
          48560,
          49560,
          50560,
          51560,
          52560,
          53560,
          54560,
          55560,
          56560,
          57560,
          58560,
          59560,
          60560,
          61560,
          62560,
          63560,
          64560,
          65560,
          66560,
          67560,
          68560,
          69560,
          70560,
          71560,
          72560,
          73560,
          74560,
          75560,
          76560,
          77560,
          78560,
          79560,
          80560,
          81560,
          82560,
          83560,
          84560,
          85560,
          86560,
          87560,
          88560,
          89560,
          90560,
          91560,
          92560,
          93560,
          94560,
          95560,
          96560,
          97560,
          98560,
          99560
         ],
         "y": [
          4599,
          4389,
          4178,
          3967,
          3757,
          3546,
          3336,
          3125,
          2914,
          2704,
          2493,
          2283,
          2072,
          1861,
          1651,
          1440,
          1230,
          1019,
          808,
          598,
          387,
          177,
          0,
          0,
          0,
          0,
          0,
          0,
          0,
          0,
          0,
          0,
          0,
          0,
          0,
          0,
          0,
          0,
          0,
          0,
          0,
          0,
          0,
          0,
          0,
          0,
          0,
          0,
          0,
          0,
          0,
          0,
          0,
          0,
          0,
          0,
          0,
          0,
          0,
          0,
          0,
          0,
          0,
          0,
          0,
          0,
          0,
          0,
          0,
          0,
          0,
          0,
          0
         ]
        },
        {
         "line": {
          "color": "#96CDE6"
         },
         "mode": "markers+lines",
         "name": "EITC (State)",
         "type": "scatter",
         "visible": "legendonly",
         "x": [
          27560,
          28560,
          29560,
          30560,
          31560,
          32560,
          33560,
          34560,
          35560,
          36560,
          37560,
          38560,
          39560,
          40560,
          41560,
          42560,
          43560,
          44560,
          45560,
          46560,
          47560,
          48560,
          49560,
          50560,
          51560,
          52560,
          53560,
          54560,
          55560,
          56560,
          57560,
          58560,
          59560,
          60560,
          61560,
          62560,
          63560,
          64560,
          65560,
          66560,
          67560,
          68560,
          69560,
          70560,
          71560,
          72560,
          73560,
          74560,
          75560,
          76560,
          77560,
          78560,
          79560,
          80560,
          81560,
          82560,
          83560,
          84560,
          85560,
          86560,
          87560,
          88560,
          89560,
          90560,
          91560,
          92560,
          93560,
          94560,
          95560,
          96560,
          97560,
          98560,
          99560
         ],
         "y": [
          920,
          878,
          836,
          793,
          751,
          709,
          667,
          625,
          583,
          541,
          499,
          457,
          414,
          372,
          330,
          288,
          246,
          204,
          162,
          120,
          77,
          35,
          0,
          0,
          0,
          0,
          0,
          0,
          0,
          0,
          0,
          0,
          0,
          0,
          0,
          0,
          0,
          0,
          0,
          0,
          0,
          0,
          0,
          0,
          0,
          0,
          0,
          0,
          0,
          0,
          0,
          0,
          0,
          0,
          0,
          0,
          0,
          0,
          0,
          0,
          0,
          0,
          0,
          0,
          0,
          0,
          0,
          0,
          0,
          0,
          0,
          0,
          0
         ]
        },
        {
         "line": {
          "color": "#DB6917"
         },
         "mode": "markers+lines",
         "name": "EITC",
         "type": "scatter",
         "visible": "legendonly",
         "x": [
          27560,
          28560,
          29560,
          30560,
          31560,
          32560,
          33560,
          34560,
          35560,
          36560,
          37560,
          38560,
          39560,
          40560,
          41560,
          42560,
          43560,
          44560,
          45560,
          46560,
          47560,
          48560,
          49560,
          50560,
          51560,
          52560,
          53560,
          54560,
          55560,
          56560,
          57560,
          58560,
          59560,
          60560,
          61560,
          62560,
          63560,
          64560,
          65560,
          66560,
          67560,
          68560,
          69560,
          70560,
          71560,
          72560,
          73560,
          74560,
          75560,
          76560,
          77560,
          78560,
          79560,
          80560,
          81560,
          82560,
          83560,
          84560,
          85560,
          86560,
          87560,
          88560,
          89560,
          90560,
          91560,
          92560,
          93560,
          94560,
          95560,
          96560,
          97560,
          98560,
          99560
         ],
         "y": [
          5519,
          5267,
          5014,
          4760,
          4508,
          4255,
          4003,
          3750,
          3497,
          3245,
          2992,
          2740,
          2486,
          2233,
          1981,
          1728,
          1476,
          1223,
          970,
          718,
          464,
          212,
          0,
          0,
          0,
          0,
          0,
          0,
          0,
          0,
          0,
          0,
          0,
          0,
          0,
          0,
          0,
          0,
          0,
          0,
          0,
          0,
          0,
          0,
          0,
          0,
          0,
          0,
          0,
          0,
          0,
          0,
          0,
          0,
          0,
          0,
          0,
          0,
          0,
          0,
          0,
          0,
          0,
          0,
          0,
          0,
          0,
          0,
          0,
          0,
          0,
          0,
          0
         ]
        }
       ],
       "layout": {
        "annotations": [
         {
          "align": "center",
          "arrowcolor": "#636363",
          "arrowhead": 2,
          "arrowsize": 1,
          "arrowwidth": 2,
          "ax": -40,
          "ay": 40,
          "bgcolor": "#7E1510",
          "bordercolor": "#c7c7c7",
          "borderpad": 4,
          "borderwidth": 2,
          "font": {
           "color": "#ffffff",
           "size": 12
          },
          "opacity": 0.8,
          "showarrow": true,
          "text": "Medicaid (Adult)<br>$33,560",
          "x": 33560,
          "xref": "x",
          "y": 2431.39999999999,
          "yref": "y"
         },
         {
          "align": "center",
          "arrowcolor": "#636363",
          "arrowhead": 2,
          "arrowsize": 1,
          "arrowwidth": 2,
          "ax": -40,
          "ay": 40,
          "bgcolor": "#463397",
          "bordercolor": "#c7c7c7",
          "borderpad": 4,
          "borderwidth": 2,
          "font": {
           "color": "#ffffff",
           "size": 12
          },
          "opacity": 0.8,
          "showarrow": true,
          "text": "CCDF<br>$45,560",
          "x": 45560,
          "xref": "x",
          "y": -1581.60000000001,
          "yref": "y"
         },
         {
          "align": "center",
          "arrowcolor": "#636363",
          "arrowhead": 2,
          "arrowsize": 1,
          "arrowwidth": 2,
          "ax": -40,
          "ay": 40,
          "bgcolor": "#2B3514",
          "bordercolor": "#c7c7c7",
          "borderpad": 4,
          "borderwidth": 2,
          "font": {
           "color": "#ffffff",
           "size": 12
          },
          "opacity": 0.8,
          "showarrow": true,
          "text": "SNAP<br>$49,560",
          "x": 49560,
          "xref": "x",
          "y": -3576.2,
          "yref": "y"
         },
         {
          "align": "center",
          "arrowcolor": "#636363",
          "arrowhead": 2,
          "arrowsize": 1,
          "arrowwidth": 2,
          "ax": -40,
          "ay": 40,
          "bgcolor": "#D32B1E",
          "bordercolor": "#c7c7c7",
          "borderpad": 4,
          "borderwidth": 2,
          "font": {
           "color": "#ffffff",
           "size": 12
          },
          "opacity": 0.8,
          "showarrow": true,
          "text": "School Meals<br>$49,560",
          "x": 49560,
          "xref": "x",
          "y": -3576.2,
          "yref": "y"
         },
         {
          "align": "left",
          "bordercolor": "black",
          "borderwidth": 1,
          "showarrow": false,
          "text": "<span style='color:#FF6347;'><b>Family:</b></span> <i>(Age, Disabled, Blind, Monthly SSDI)<br></i><b>Adult1</b>: 30, False, False, 0<br><b>Child1</b>: 8, False<br><b>Child2</b>: 5, False<br><i><br>CHILDCARE, HEADSTART, CCDF, <br>REK, HEALTHCARE, MEDICAID_ADULT, <br>MEDICAID_CHILD, CA, SECTION8, <br>SNAP, SLP, WIC, <br>EITC, TAXES, CTC, <br>CDCTC, TANF, SSI, <br>SSDI</i>",
          "x": 1.4,
          "xref": "paper",
          "y": 0,
          "yref": "paper"
         }
        ],
        "height": 600,
        "legend": {
         "tracegroupgap": 0
        },
        "margin": {
         "b": 80,
         "l": 60,
         "r": 400,
         "t": 60
        },
        "shapes": [
         {
          "line": {
           "color": "red",
           "dash": "dash",
           "width": 4
          },
          "type": "line",
          "x0": 27560,
          "x1": 99560,
          "y0": 0,
          "y1": 0
         }
        ],
        "template": {
         "data": {
          "bar": [
           {
            "error_x": {
             "color": "#2a3f5f"
            },
            "error_y": {
             "color": "#2a3f5f"
            },
            "marker": {
             "line": {
              "color": "#E5ECF6",
              "width": 0.5
             },
             "pattern": {
              "fillmode": "overlay",
              "size": 10,
              "solidity": 0.2
             }
            },
            "type": "bar"
           }
          ],
          "barpolar": [
           {
            "marker": {
             "line": {
              "color": "#E5ECF6",
              "width": 0.5
             },
             "pattern": {
              "fillmode": "overlay",
              "size": 10,
              "solidity": 0.2
             }
            },
            "type": "barpolar"
           }
          ],
          "carpet": [
           {
            "aaxis": {
             "endlinecolor": "#2a3f5f",
             "gridcolor": "white",
             "linecolor": "white",
             "minorgridcolor": "white",
             "startlinecolor": "#2a3f5f"
            },
            "baxis": {
             "endlinecolor": "#2a3f5f",
             "gridcolor": "white",
             "linecolor": "white",
             "minorgridcolor": "white",
             "startlinecolor": "#2a3f5f"
            },
            "type": "carpet"
           }
          ],
          "choropleth": [
           {
            "colorbar": {
             "outlinewidth": 0,
             "ticks": ""
            },
            "type": "choropleth"
           }
          ],
          "contour": [
           {
            "colorbar": {
             "outlinewidth": 0,
             "ticks": ""
            },
            "colorscale": [
             [
              0,
              "#0d0887"
             ],
             [
              0.1111111111111111,
              "#46039f"
             ],
             [
              0.2222222222222222,
              "#7201a8"
             ],
             [
              0.3333333333333333,
              "#9c179e"
             ],
             [
              0.4444444444444444,
              "#bd3786"
             ],
             [
              0.5555555555555556,
              "#d8576b"
             ],
             [
              0.6666666666666666,
              "#ed7953"
             ],
             [
              0.7777777777777778,
              "#fb9f3a"
             ],
             [
              0.8888888888888888,
              "#fdca26"
             ],
             [
              1,
              "#f0f921"
             ]
            ],
            "type": "contour"
           }
          ],
          "contourcarpet": [
           {
            "colorbar": {
             "outlinewidth": 0,
             "ticks": ""
            },
            "type": "contourcarpet"
           }
          ],
          "heatmap": [
           {
            "colorbar": {
             "outlinewidth": 0,
             "ticks": ""
            },
            "colorscale": [
             [
              0,
              "#0d0887"
             ],
             [
              0.1111111111111111,
              "#46039f"
             ],
             [
              0.2222222222222222,
              "#7201a8"
             ],
             [
              0.3333333333333333,
              "#9c179e"
             ],
             [
              0.4444444444444444,
              "#bd3786"
             ],
             [
              0.5555555555555556,
              "#d8576b"
             ],
             [
              0.6666666666666666,
              "#ed7953"
             ],
             [
              0.7777777777777778,
              "#fb9f3a"
             ],
             [
              0.8888888888888888,
              "#fdca26"
             ],
             [
              1,
              "#f0f921"
             ]
            ],
            "type": "heatmap"
           }
          ],
          "heatmapgl": [
           {
            "colorbar": {
             "outlinewidth": 0,
             "ticks": ""
            },
            "colorscale": [
             [
              0,
              "#0d0887"
             ],
             [
              0.1111111111111111,
              "#46039f"
             ],
             [
              0.2222222222222222,
              "#7201a8"
             ],
             [
              0.3333333333333333,
              "#9c179e"
             ],
             [
              0.4444444444444444,
              "#bd3786"
             ],
             [
              0.5555555555555556,
              "#d8576b"
             ],
             [
              0.6666666666666666,
              "#ed7953"
             ],
             [
              0.7777777777777778,
              "#fb9f3a"
             ],
             [
              0.8888888888888888,
              "#fdca26"
             ],
             [
              1,
              "#f0f921"
             ]
            ],
            "type": "heatmapgl"
           }
          ],
          "histogram": [
           {
            "marker": {
             "pattern": {
              "fillmode": "overlay",
              "size": 10,
              "solidity": 0.2
             }
            },
            "type": "histogram"
           }
          ],
          "histogram2d": [
           {
            "colorbar": {
             "outlinewidth": 0,
             "ticks": ""
            },
            "colorscale": [
             [
              0,
              "#0d0887"
             ],
             [
              0.1111111111111111,
              "#46039f"
             ],
             [
              0.2222222222222222,
              "#7201a8"
             ],
             [
              0.3333333333333333,
              "#9c179e"
             ],
             [
              0.4444444444444444,
              "#bd3786"
             ],
             [
              0.5555555555555556,
              "#d8576b"
             ],
             [
              0.6666666666666666,
              "#ed7953"
             ],
             [
              0.7777777777777778,
              "#fb9f3a"
             ],
             [
              0.8888888888888888,
              "#fdca26"
             ],
             [
              1,
              "#f0f921"
             ]
            ],
            "type": "histogram2d"
           }
          ],
          "histogram2dcontour": [
           {
            "colorbar": {
             "outlinewidth": 0,
             "ticks": ""
            },
            "colorscale": [
             [
              0,
              "#0d0887"
             ],
             [
              0.1111111111111111,
              "#46039f"
             ],
             [
              0.2222222222222222,
              "#7201a8"
             ],
             [
              0.3333333333333333,
              "#9c179e"
             ],
             [
              0.4444444444444444,
              "#bd3786"
             ],
             [
              0.5555555555555556,
              "#d8576b"
             ],
             [
              0.6666666666666666,
              "#ed7953"
             ],
             [
              0.7777777777777778,
              "#fb9f3a"
             ],
             [
              0.8888888888888888,
              "#fdca26"
             ],
             [
              1,
              "#f0f921"
             ]
            ],
            "type": "histogram2dcontour"
           }
          ],
          "mesh3d": [
           {
            "colorbar": {
             "outlinewidth": 0,
             "ticks": ""
            },
            "type": "mesh3d"
           }
          ],
          "parcoords": [
           {
            "line": {
             "colorbar": {
              "outlinewidth": 0,
              "ticks": ""
             }
            },
            "type": "parcoords"
           }
          ],
          "pie": [
           {
            "automargin": true,
            "type": "pie"
           }
          ],
          "scatter": [
           {
            "fillpattern": {
             "fillmode": "overlay",
             "size": 10,
             "solidity": 0.2
            },
            "type": "scatter"
           }
          ],
          "scatter3d": [
           {
            "line": {
             "colorbar": {
              "outlinewidth": 0,
              "ticks": ""
             }
            },
            "marker": {
             "colorbar": {
              "outlinewidth": 0,
              "ticks": ""
             }
            },
            "type": "scatter3d"
           }
          ],
          "scattercarpet": [
           {
            "marker": {
             "colorbar": {
              "outlinewidth": 0,
              "ticks": ""
             }
            },
            "type": "scattercarpet"
           }
          ],
          "scattergeo": [
           {
            "marker": {
             "colorbar": {
              "outlinewidth": 0,
              "ticks": ""
             }
            },
            "type": "scattergeo"
           }
          ],
          "scattergl": [
           {
            "marker": {
             "colorbar": {
              "outlinewidth": 0,
              "ticks": ""
             }
            },
            "type": "scattergl"
           }
          ],
          "scattermapbox": [
           {
            "marker": {
             "colorbar": {
              "outlinewidth": 0,
              "ticks": ""
             }
            },
            "type": "scattermapbox"
           }
          ],
          "scatterpolar": [
           {
            "marker": {
             "colorbar": {
              "outlinewidth": 0,
              "ticks": ""
             }
            },
            "type": "scatterpolar"
           }
          ],
          "scatterpolargl": [
           {
            "marker": {
             "colorbar": {
              "outlinewidth": 0,
              "ticks": ""
             }
            },
            "type": "scatterpolargl"
           }
          ],
          "scatterternary": [
           {
            "marker": {
             "colorbar": {
              "outlinewidth": 0,
              "ticks": ""
             }
            },
            "type": "scatterternary"
           }
          ],
          "surface": [
           {
            "colorbar": {
             "outlinewidth": 0,
             "ticks": ""
            },
            "colorscale": [
             [
              0,
              "#0d0887"
             ],
             [
              0.1111111111111111,
              "#46039f"
             ],
             [
              0.2222222222222222,
              "#7201a8"
             ],
             [
              0.3333333333333333,
              "#9c179e"
             ],
             [
              0.4444444444444444,
              "#bd3786"
             ],
             [
              0.5555555555555556,
              "#d8576b"
             ],
             [
              0.6666666666666666,
              "#ed7953"
             ],
             [
              0.7777777777777778,
              "#fb9f3a"
             ],
             [
              0.8888888888888888,
              "#fdca26"
             ],
             [
              1,
              "#f0f921"
             ]
            ],
            "type": "surface"
           }
          ],
          "table": [
           {
            "cells": {
             "fill": {
              "color": "#EBF0F8"
             },
             "line": {
              "color": "white"
             }
            },
            "header": {
             "fill": {
              "color": "#C8D4E3"
             },
             "line": {
              "color": "white"
             }
            },
            "type": "table"
           }
          ]
         },
         "layout": {
          "annotationdefaults": {
           "arrowcolor": "#2a3f5f",
           "arrowhead": 0,
           "arrowwidth": 1
          },
          "autotypenumbers": "strict",
          "coloraxis": {
           "colorbar": {
            "outlinewidth": 0,
            "ticks": ""
           }
          },
          "colorscale": {
           "diverging": [
            [
             0,
             "#8e0152"
            ],
            [
             0.1,
             "#c51b7d"
            ],
            [
             0.2,
             "#de77ae"
            ],
            [
             0.3,
             "#f1b6da"
            ],
            [
             0.4,
             "#fde0ef"
            ],
            [
             0.5,
             "#f7f7f7"
            ],
            [
             0.6,
             "#e6f5d0"
            ],
            [
             0.7,
             "#b8e186"
            ],
            [
             0.8,
             "#7fbc41"
            ],
            [
             0.9,
             "#4d9221"
            ],
            [
             1,
             "#276419"
            ]
           ],
           "sequential": [
            [
             0,
             "#0d0887"
            ],
            [
             0.1111111111111111,
             "#46039f"
            ],
            [
             0.2222222222222222,
             "#7201a8"
            ],
            [
             0.3333333333333333,
             "#9c179e"
            ],
            [
             0.4444444444444444,
             "#bd3786"
            ],
            [
             0.5555555555555556,
             "#d8576b"
            ],
            [
             0.6666666666666666,
             "#ed7953"
            ],
            [
             0.7777777777777778,
             "#fb9f3a"
            ],
            [
             0.8888888888888888,
             "#fdca26"
            ],
            [
             1,
             "#f0f921"
            ]
           ],
           "sequentialminus": [
            [
             0,
             "#0d0887"
            ],
            [
             0.1111111111111111,
             "#46039f"
            ],
            [
             0.2222222222222222,
             "#7201a8"
            ],
            [
             0.3333333333333333,
             "#9c179e"
            ],
            [
             0.4444444444444444,
             "#bd3786"
            ],
            [
             0.5555555555555556,
             "#d8576b"
            ],
            [
             0.6666666666666666,
             "#ed7953"
            ],
            [
             0.7777777777777778,
             "#fb9f3a"
            ],
            [
             0.8888888888888888,
             "#fdca26"
            ],
            [
             1,
             "#f0f921"
            ]
           ]
          },
          "colorway": [
           "#636efa",
           "#EF553B",
           "#00cc96",
           "#ab63fa",
           "#FFA15A",
           "#19d3f3",
           "#FF6692",
           "#B6E880",
           "#FF97FF",
           "#FECB52"
          ],
          "font": {
           "color": "#2a3f5f"
          },
          "geo": {
           "bgcolor": "white",
           "lakecolor": "white",
           "landcolor": "#E5ECF6",
           "showlakes": true,
           "showland": true,
           "subunitcolor": "white"
          },
          "hoverlabel": {
           "align": "left"
          },
          "hovermode": "closest",
          "mapbox": {
           "style": "light"
          },
          "paper_bgcolor": "white",
          "plot_bgcolor": "#E5ECF6",
          "polar": {
           "angularaxis": {
            "gridcolor": "white",
            "linecolor": "white",
            "ticks": ""
           },
           "bgcolor": "#E5ECF6",
           "radialaxis": {
            "gridcolor": "white",
            "linecolor": "white",
            "ticks": ""
           }
          },
          "scene": {
           "xaxis": {
            "backgroundcolor": "#E5ECF6",
            "gridcolor": "white",
            "gridwidth": 2,
            "linecolor": "white",
            "showbackground": true,
            "ticks": "",
            "zerolinecolor": "white"
           },
           "yaxis": {
            "backgroundcolor": "#E5ECF6",
            "gridcolor": "white",
            "gridwidth": 2,
            "linecolor": "white",
            "showbackground": true,
            "ticks": "",
            "zerolinecolor": "white"
           },
           "zaxis": {
            "backgroundcolor": "#E5ECF6",
            "gridcolor": "white",
            "gridwidth": 2,
            "linecolor": "white",
            "showbackground": true,
            "ticks": "",
            "zerolinecolor": "white"
           }
          },
          "shapedefaults": {
           "line": {
            "color": "#2a3f5f"
           }
          },
          "ternary": {
           "aaxis": {
            "gridcolor": "white",
            "linecolor": "white",
            "ticks": ""
           },
           "baxis": {
            "gridcolor": "white",
            "linecolor": "white",
            "ticks": ""
           },
           "bgcolor": "#E5ECF6",
           "caxis": {
            "gridcolor": "white",
            "linecolor": "white",
            "ticks": ""
           }
          },
          "title": {
           "x": 0.05
          },
          "xaxis": {
           "automargin": true,
           "gridcolor": "white",
           "linecolor": "white",
           "ticks": "",
           "title": {
            "standoff": 15
           },
           "zerolinecolor": "white",
           "zerolinewidth": 2
          },
          "yaxis": {
           "automargin": true,
           "gridcolor": "white",
           "linecolor": "white",
           "ticks": "",
           "title": {
            "standoff": 15
           },
           "zerolinecolor": "white",
           "zerolinewidth": 2
          }
         }
        },
        "title": {
         "text": "Net Resources and Benefits in New Castle County, DE (1 Adult, 2 Children)"
        },
        "width": 1200,
        "xaxis": {
         "anchor": "y",
         "domain": [
          0,
          1
         ],
         "labelalias": {
          "100k": "$100,000 <br>($48.08/h)",
          "30k": "$30,000 <br>($14.42/h)",
          "40k": "$40,000 <br>($19.23/h)",
          "50k": "$50,000 <br>($24.04/h)",
          "60k": "$60,000 <br>($28.85/h)",
          "70k": "$70,000 <br>($33.65/h)",
          "80k": "$80,000 <br>($38.46/h)",
          "90k": "$90,000 <br>($43.27/h)"
         },
         "title": {
          "text": "Income"
         }
        },
        "yaxis": {
         "anchor": "x",
         "domain": [
          0,
          1
         ],
         "title": {
          "text": ""
         }
        }
       }
      }
     },
     "metadata": {},
     "output_type": "display_data"
    },
    {
     "data": {
      "application/vnd.plotly.v1+json": {
       "config": {
        "plotlyServerURL": "https://plot.ly"
       },
       "data": [
        {
         "hovertemplate": "income=%{x}<br>NetResources=%{y}<extra></extra>",
         "legendgroup": "",
         "line": {
          "color": "#008080",
          "dash": "solid"
         },
         "marker": {
          "symbol": "circle"
         },
         "mode": "markers+lines",
         "name": "",
         "orientation": "v",
         "showlegend": false,
         "type": "scatter",
         "x": [
          27560,
          28560,
          29560,
          30560,
          31560,
          32560,
          33560,
          34560,
          35560,
          36560,
          37560,
          38560,
          39560,
          40560,
          41560,
          42560,
          43560,
          44560,
          45560,
          46560,
          47560,
          48560,
          49560,
          50560,
          51560,
          52560,
          53560,
          54560,
          55560,
          56560,
          57560,
          58560,
          59560,
          60560,
          61560,
          62560,
          63560,
          64560,
          65560,
          66560,
          67560,
          68560,
          69560,
          70560,
          71560,
          72560,
          73560,
          74560,
          75560,
          76560,
          77560,
          78560,
          79560,
          80560,
          81560,
          82560,
          83560,
          84560,
          85560,
          86560,
          87560,
          88560,
          89560,
          90560,
          91560,
          92560,
          93560,
          94560,
          95560,
          96560,
          97560,
          98560,
          99560
         ],
         "xaxis": "x",
         "y": [
          -5788.39999999999,
          -5832.39999999999,
          -5882.39999999999,
          -5911.39999999999,
          -5921.39999999999,
          -5932.39999999999,
          -5950.39999999999,
          -7348.39999999999,
          -7513.39999999999,
          -7680.39999999999,
          -8034.39999999999,
          -8211.39999999999,
          -8391.39999999999,
          -8575.39999999999,
          -8764.39999999999,
          -8956.39999999999,
          -9139.39999999999,
          -9146.39999999999,
          -9158.39999999999,
          -9317,
          -9285,
          -9256,
          -9230,
          -10513.4,
          -10207.4,
          -9905.39999999999,
          -9605.39999999999,
          -9009.39999999999,
          -8715.39999999999,
          -8424.39999999999,
          -8133.39999999999,
          -7834.39999999999,
          -7536.39999999999,
          -7241.39999999999,
          -6949.39999999999,
          -6659.39999999999,
          -6374.39999999999,
          -5921.39999999999,
          -5348.39999999999,
          -4779.39999999999,
          -4210.39999999999,
          -3646.39999999999,
          -3024.39999999999,
          -2378.39999999999,
          -1731.39999999999,
          -1085.39999999999,
          -439.399999999994,
          160.600000000006,
          707.600000000006,
          1253.60000000001,
          1800.60000000001,
          2345.60000000001,
          2892.60000000001,
          3438.60000000001,
          3985.60000000001,
          4531.60000000001,
          5077.60000000001,
          5623.60000000001,
          6170.60000000001,
          6716.60000000001,
          7263.60000000001,
          7808.60000000001,
          8355.60000000001,
          8901.60000000001,
          9448.60000000001,
          1854.60000000001,
          2492.60000000001,
          3129.60000000001,
          3767.60000000001,
          4404.60000000001,
          5042.60000000001,
          5679.60000000001,
          6317.60000000001
         ],
         "yaxis": "y"
        },
        {
         "line": {
          "color": "#2B3514"
         },
         "mode": "markers+lines",
         "name": "SNAP",
         "type": "scatter",
         "visible": "legendonly",
         "x": [
          27560,
          28560,
          29560,
          30560,
          31560,
          32560,
          33560,
          34560,
          35560,
          36560,
          37560,
          38560,
          39560,
          40560,
          41560,
          42560,
          43560,
          44560,
          45560,
          46560,
          47560,
          48560,
          49560,
          50560,
          51560,
          52560,
          53560,
          54560,
          55560,
          56560,
          57560,
          58560,
          59560,
          60560,
          61560,
          62560,
          63560,
          64560,
          65560,
          66560,
          67560,
          68560,
          69560,
          70560,
          71560,
          72560,
          73560,
          74560,
          75560,
          76560,
          77560,
          78560,
          79560,
          80560,
          81560,
          82560,
          83560,
          84560,
          85560,
          86560,
          87560,
          88560,
          89560,
          90560,
          91560,
          92560,
          93560,
          94560,
          95560,
          96560,
          97560,
          98560,
          99560
         ],
         "y": [
          5734,
          5483,
          5231,
          4980,
          4729,
          4478,
          4226,
          3975,
          3724,
          3473,
          3221,
          2970,
          2719,
          2468,
          2216,
          1965,
          1714,
          1463,
          1212,
          1145,
          860,
          575,
          290,
          0,
          0,
          0,
          0,
          0,
          0,
          0,
          0,
          0,
          0,
          0,
          0,
          0,
          0,
          0,
          0,
          0,
          0,
          0,
          0,
          0,
          0,
          0,
          0,
          0,
          0,
          0,
          0,
          0,
          0,
          0,
          0,
          0,
          0,
          0,
          0,
          0,
          0,
          0,
          0,
          0,
          0,
          0,
          0,
          0,
          0,
          0,
          0,
          0,
          0
         ]
        },
        {
         "line": {
          "color": "#D32B1E"
         },
         "mode": "markers+lines",
         "name": "School Meals",
         "type": "scatter",
         "visible": "legendonly",
         "x": [
          27560,
          28560,
          29560,
          30560,
          31560,
          32560,
          33560,
          34560,
          35560,
          36560,
          37560,
          38560,
          39560,
          40560,
          41560,
          42560,
          43560,
          44560,
          45560,
          46560,
          47560,
          48560,
          49560,
          50560,
          51560,
          52560,
          53560,
          54560,
          55560,
          56560,
          57560,
          58560,
          59560,
          60560,
          61560,
          62560,
          63560,
          64560,
          65560,
          66560,
          67560,
          68560,
          69560,
          70560,
          71560,
          72560,
          73560,
          74560,
          75560,
          76560,
          77560,
          78560,
          79560,
          80560,
          81560,
          82560,
          83560,
          84560,
          85560,
          86560,
          87560,
          88560,
          89560,
          90560,
          91560,
          92560,
          93560,
          94560,
          95560,
          96560,
          97560,
          98560,
          99560
         ],
         "y": [
          1301.4,
          1301.4,
          1301.4,
          1301.4,
          1301.4,
          1301.4,
          1301.4,
          1301.4,
          1301.4,
          1301.4,
          1301.4,
          1301.4,
          1301.4,
          1301.4,
          1301.4,
          1301.4,
          1301.4,
          1301.4,
          1301.4,
          1301.4,
          1301.4,
          1301.4,
          1301.4,
          0,
          0,
          0,
          0,
          0,
          0,
          0,
          0,
          0,
          0,
          0,
          0,
          0,
          0,
          0,
          0,
          0,
          0,
          0,
          0,
          0,
          0,
          0,
          0,
          0,
          0,
          0,
          0,
          0,
          0,
          0,
          0,
          0,
          0,
          0,
          0,
          0,
          0,
          0,
          0,
          0,
          0,
          0,
          0,
          0,
          0,
          0,
          0,
          0,
          0
         ]
        },
        {
         "line": {
          "color": "#6F340D"
         },
         "mode": "markers+lines",
         "name": "Section 8",
         "type": "scatter",
         "visible": "legendonly",
         "x": [
          27560,
          28560,
          29560,
          30560,
          31560,
          32560,
          33560,
          34560,
          35560,
          36560,
          37560,
          38560,
          39560,
          40560,
          41560,
          42560,
          43560,
          44560,
          45560,
          46560,
          47560,
          48560,
          49560,
          50560,
          51560,
          52560,
          53560,
          54560,
          55560,
          56560,
          57560,
          58560,
          59560,
          60560,
          61560,
          62560,
          63560,
          64560,
          65560,
          66560,
          67560,
          68560,
          69560,
          70560,
          71560,
          72560,
          73560,
          74560,
          75560,
          76560,
          77560,
          78560,
          79560,
          80560,
          81560,
          82560,
          83560,
          84560,
          85560,
          86560,
          87560,
          88560,
          89560,
          90560,
          91560,
          92560,
          93560,
          94560,
          95560,
          96560,
          97560,
          98560,
          99560
         ],
         "y": [
          10260,
          9987,
          9714,
          9441,
          9168,
          8895,
          8622,
          8349,
          8076,
          7803,
          7530,
          7257,
          6984,
          6711,
          6438,
          6165,
          5892,
          5619,
          5346,
          5221,
          4921,
          4621,
          4321,
          4021,
          3721,
          3421,
          3121,
          2821,
          2521,
          2221,
          1921,
          1621,
          1321,
          1021,
          721,
          421,
          121,
          0,
          0,
          0,
          0,
          0,
          0,
          0,
          0,
          0,
          0,
          0,
          0,
          0,
          0,
          0,
          0,
          0,
          0,
          0,
          0,
          0,
          0,
          0,
          0,
          0,
          0,
          0,
          0,
          0,
          0,
          0,
          0,
          0,
          0,
          0,
          0
         ]
        },
        {
         "line": {
          "color": "#7E1510"
         },
         "mode": "markers+lines",
         "name": "Medicaid (Adult)",
         "type": "scatter",
         "visible": "legendonly",
         "x": [
          27560,
          28560,
          29560,
          30560,
          31560,
          32560,
          33560,
          34560,
          35560,
          36560,
          37560,
          38560,
          39560,
          40560,
          41560,
          42560,
          43560,
          44560,
          45560,
          46560,
          47560,
          48560,
          49560,
          50560,
          51560,
          52560,
          53560,
          54560,
          55560,
          56560,
          57560,
          58560,
          59560,
          60560,
          61560,
          62560,
          63560,
          64560,
          65560,
          66560,
          67560,
          68560,
          69560,
          70560,
          71560,
          72560,
          73560,
          74560,
          75560,
          76560,
          77560,
          78560,
          79560,
          80560,
          81560,
          82560,
          83560,
          84560,
          85560,
          86560,
          87560,
          88560,
          89560,
          90560,
          91560,
          92560,
          93560,
          94560,
          95560,
          96560,
          97560,
          98560,
          99560
         ],
         "y": [
          16070,
          16070,
          16070,
          16070,
          16070,
          16070,
          16070,
          0,
          0,
          0,
          0,
          0,
          0,
          0,
          0,
          0,
          0,
          0,
          0,
          0,
          0,
          0,
          0,
          0,
          0,
          0,
          0,
          0,
          0,
          0,
          0,
          0,
          0,
          0,
          0,
          0,
          0,
          0,
          0,
          0,
          0,
          0,
          0,
          0,
          0,
          0,
          0,
          0,
          0,
          0,
          0,
          0,
          0,
          0,
          0,
          0,
          0,
          0,
          0,
          0,
          0,
          0,
          0,
          0,
          0,
          0,
          0,
          0,
          0,
          0,
          0,
          0,
          0
         ]
        },
        {
         "line": {
          "color": "#9a9a00"
         },
         "mode": "markers+lines",
         "name": "Medicaid (Child)",
         "type": "scatter",
         "visible": "legendonly",
         "x": [
          27560,
          28560,
          29560,
          30560,
          31560,
          32560,
          33560,
          34560,
          35560,
          36560,
          37560,
          38560,
          39560,
          40560,
          41560,
          42560,
          43560,
          44560,
          45560,
          46560,
          47560,
          48560,
          49560,
          50560,
          51560,
          52560,
          53560,
          54560,
          55560,
          56560,
          57560,
          58560,
          59560,
          60560,
          61560,
          62560,
          63560,
          64560,
          65560,
          66560,
          67560,
          68560,
          69560,
          70560,
          71560,
          72560,
          73560,
          74560,
          75560,
          76560,
          77560,
          78560,
          79560,
          80560,
          81560,
          82560,
          83560,
          84560,
          85560,
          86560,
          87560,
          88560,
          89560,
          90560,
          91560,
          92560,
          93560,
          94560,
          95560,
          96560,
          97560,
          98560,
          99560
         ],
         "y": [
          4463,
          4463,
          4463,
          4463,
          4463,
          4463,
          4463,
          4463,
          4463,
          4463,
          4283,
          4283,
          4283,
          4283,
          4283,
          4283,
          4283,
          4283,
          4283,
          4283,
          4283,
          4283,
          4283,
          4283,
          4283,
          4283,
          4283,
          0,
          0,
          0,
          0,
          0,
          0,
          0,
          0,
          0,
          0,
          0,
          0,
          0,
          0,
          0,
          0,
          0,
          0,
          0,
          0,
          0,
          0,
          0,
          0,
          0,
          0,
          0,
          0,
          0,
          0,
          0,
          0,
          0,
          0,
          0,
          0,
          0,
          0,
          0,
          0,
          0,
          0,
          0,
          0,
          0,
          0
         ]
        },
        {
         "line": {
          "color": "#91218C"
         },
         "mode": "markers+lines",
         "name": "ACA",
         "type": "scatter",
         "visible": "legendonly",
         "x": [
          27560,
          28560,
          29560,
          30560,
          31560,
          32560,
          33560,
          34560,
          35560,
          36560,
          37560,
          38560,
          39560,
          40560,
          41560,
          42560,
          43560,
          44560,
          45560,
          46560,
          47560,
          48560,
          49560,
          50560,
          51560,
          52560,
          53560,
          54560,
          55560,
          56560,
          57560,
          58560,
          59560,
          60560,
          61560,
          62560,
          63560,
          64560,
          65560,
          66560,
          67560,
          68560,
          69560,
          70560,
          71560,
          72560,
          73560,
          74560,
          75560,
          76560,
          77560,
          78560,
          79560,
          80560,
          81560,
          82560,
          83560,
          84560,
          85560,
          86560,
          87560,
          88560,
          89560,
          90560,
          91560,
          92560,
          93560,
          94560,
          95560,
          96560,
          97560,
          98560,
          99560
         ],
         "y": [
          0,
          0,
          0,
          0,
          0,
          0,
          0,
          11061,
          10954,
          10843,
          10728,
          10609,
          10487,
          10360,
          10230,
          10096,
          9958,
          9817,
          9671,
          9538,
          9407,
          9273,
          9136,
          8996,
          8854,
          8708,
          8560,
          12585,
          12431,
          12274,
          12117,
          11968,
          11818,
          11665,
          11509,
          11351,
          11191,
          11028,
          10863,
          10695,
          10526,
          10353,
          10237,
          10146,
          10055,
          9964,
          9872,
          9781,
          9690,
          9599,
          9508,
          9416,
          9325,
          9234,
          9143,
          9052,
          8960,
          8869,
          8778,
          8687,
          8596,
          8504,
          8413,
          8322,
          8231,
          0,
          0,
          0,
          0,
          0,
          0,
          0,
          0
         ]
        },
        {
         "line": {
          "color": "#463397"
         },
         "mode": "markers+lines",
         "name": "CCDF",
         "type": "scatter",
         "visible": "legendonly",
         "x": [
          27560,
          28560,
          29560,
          30560,
          31560,
          32560,
          33560,
          34560,
          35560,
          36560,
          37560,
          38560,
          39560,
          40560,
          41560,
          42560,
          43560,
          44560,
          45560,
          46560,
          47560,
          48560,
          49560,
          50560,
          51560,
          52560,
          53560,
          54560,
          55560,
          56560,
          57560,
          58560,
          59560,
          60560,
          61560,
          62560,
          63560,
          64560,
          65560,
          66560,
          67560,
          68560,
          69560,
          70560,
          71560,
          72560,
          73560,
          74560,
          75560,
          76560,
          77560,
          78560,
          79560,
          80560,
          81560,
          82560,
          83560,
          84560,
          85560,
          86560,
          87560,
          88560,
          89560,
          90560,
          91560,
          92560,
          93560,
          94560,
          95560,
          96560,
          97560,
          98560,
          99560
         ],
         "y": [
          2201.6,
          2111.6,
          2021.6,
          1931.6,
          1841.6,
          1751.6,
          1661.6,
          1571.6,
          1481.6,
          1391.6,
          1301.6,
          1211.6,
          1121.6,
          1031.6,
          941.6,
          851.6,
          761.6,
          671.6,
          581.6,
          0,
          0,
          0,
          0,
          0,
          0,
          0,
          0,
          0,
          0,
          0,
          0,
          0,
          0,
          0,
          0,
          0,
          0,
          0,
          0,
          0,
          0,
          0,
          0,
          0,
          0,
          0,
          0,
          0,
          0,
          0,
          0,
          0,
          0,
          0,
          0,
          0,
          0,
          0,
          0,
          0,
          0,
          0,
          0,
          0,
          0,
          0,
          0,
          0,
          0,
          0,
          0,
          0,
          0
         ]
        },
        {
         "line": {
          "color": "#BA1C30"
         },
         "mode": "markers+lines",
         "name": "EITC (Federal)",
         "type": "scatter",
         "visible": "legendonly",
         "x": [
          27560,
          28560,
          29560,
          30560,
          31560,
          32560,
          33560,
          34560,
          35560,
          36560,
          37560,
          38560,
          39560,
          40560,
          41560,
          42560,
          43560,
          44560,
          45560,
          46560,
          47560,
          48560,
          49560,
          50560,
          51560,
          52560,
          53560,
          54560,
          55560,
          56560,
          57560,
          58560,
          59560,
          60560,
          61560,
          62560,
          63560,
          64560,
          65560,
          66560,
          67560,
          68560,
          69560,
          70560,
          71560,
          72560,
          73560,
          74560,
          75560,
          76560,
          77560,
          78560,
          79560,
          80560,
          81560,
          82560,
          83560,
          84560,
          85560,
          86560,
          87560,
          88560,
          89560,
          90560,
          91560,
          92560,
          93560,
          94560,
          95560,
          96560,
          97560,
          98560,
          99560
         ],
         "y": [
          2546,
          2386,
          2226,
          2066,
          1907,
          1747,
          1587,
          1427,
          1267,
          1108,
          948,
          788,
          628,
          469,
          309,
          149,
          0,
          0,
          0,
          0,
          0,
          0,
          0,
          0,
          0,
          0,
          0,
          0,
          0,
          0,
          0,
          0,
          0,
          0,
          0,
          0,
          0,
          0,
          0,
          0,
          0,
          0,
          0,
          0,
          0,
          0,
          0,
          0,
          0,
          0,
          0,
          0,
          0,
          0,
          0,
          0,
          0,
          0,
          0,
          0,
          0,
          0,
          0,
          0,
          0,
          0,
          0,
          0,
          0,
          0,
          0,
          0,
          0
         ]
        },
        {
         "line": {
          "color": "#96CDE6"
         },
         "mode": "markers+lines",
         "name": "EITC (State)",
         "type": "scatter",
         "visible": "legendonly",
         "x": [
          27560,
          28560,
          29560,
          30560,
          31560,
          32560,
          33560,
          34560,
          35560,
          36560,
          37560,
          38560,
          39560,
          40560,
          41560,
          42560,
          43560,
          44560,
          45560,
          46560,
          47560,
          48560,
          49560,
          50560,
          51560,
          52560,
          53560,
          54560,
          55560,
          56560,
          57560,
          58560,
          59560,
          60560,
          61560,
          62560,
          63560,
          64560,
          65560,
          66560,
          67560,
          68560,
          69560,
          70560,
          71560,
          72560,
          73560,
          74560,
          75560,
          76560,
          77560,
          78560,
          79560,
          80560,
          81560,
          82560,
          83560,
          84560,
          85560,
          86560,
          87560,
          88560,
          89560,
          90560,
          91560,
          92560,
          93560,
          94560,
          95560,
          96560,
          97560,
          98560,
          99560
         ],
         "y": [
          509,
          477,
          445,
          413,
          381,
          349,
          317,
          285,
          253,
          222,
          190,
          158,
          126,
          94,
          62,
          30,
          0,
          0,
          0,
          0,
          0,
          0,
          0,
          0,
          0,
          0,
          0,
          0,
          0,
          0,
          0,
          0,
          0,
          0,
          0,
          0,
          0,
          0,
          0,
          0,
          0,
          0,
          0,
          0,
          0,
          0,
          0,
          0,
          0,
          0,
          0,
          0,
          0,
          0,
          0,
          0,
          0,
          0,
          0,
          0,
          0,
          0,
          0,
          0,
          0,
          0,
          0,
          0,
          0,
          0,
          0,
          0,
          0
         ]
        },
        {
         "line": {
          "color": "#DB6917"
         },
         "mode": "markers+lines",
         "name": "EITC",
         "type": "scatter",
         "visible": "legendonly",
         "x": [
          27560,
          28560,
          29560,
          30560,
          31560,
          32560,
          33560,
          34560,
          35560,
          36560,
          37560,
          38560,
          39560,
          40560,
          41560,
          42560,
          43560,
          44560,
          45560,
          46560,
          47560,
          48560,
          49560,
          50560,
          51560,
          52560,
          53560,
          54560,
          55560,
          56560,
          57560,
          58560,
          59560,
          60560,
          61560,
          62560,
          63560,
          64560,
          65560,
          66560,
          67560,
          68560,
          69560,
          70560,
          71560,
          72560,
          73560,
          74560,
          75560,
          76560,
          77560,
          78560,
          79560,
          80560,
          81560,
          82560,
          83560,
          84560,
          85560,
          86560,
          87560,
          88560,
          89560,
          90560,
          91560,
          92560,
          93560,
          94560,
          95560,
          96560,
          97560,
          98560,
          99560
         ],
         "y": [
          3055,
          2863,
          2671,
          2479,
          2288,
          2096,
          1904,
          1712,
          1520,
          1330,
          1138,
          946,
          754,
          563,
          371,
          179,
          0,
          0,
          0,
          0,
          0,
          0,
          0,
          0,
          0,
          0,
          0,
          0,
          0,
          0,
          0,
          0,
          0,
          0,
          0,
          0,
          0,
          0,
          0,
          0,
          0,
          0,
          0,
          0,
          0,
          0,
          0,
          0,
          0,
          0,
          0,
          0,
          0,
          0,
          0,
          0,
          0,
          0,
          0,
          0,
          0,
          0,
          0,
          0,
          0,
          0,
          0,
          0,
          0,
          0,
          0,
          0,
          0
         ]
        }
       ],
       "layout": {
        "annotations": [
         {
          "align": "center",
          "arrowcolor": "#636363",
          "arrowhead": 2,
          "arrowsize": 1,
          "arrowwidth": 2,
          "ax": -40,
          "ay": 40,
          "bgcolor": "#7E1510",
          "bordercolor": "#c7c7c7",
          "borderpad": 4,
          "borderwidth": 2,
          "font": {
           "color": "#ffffff",
           "size": 12
          },
          "opacity": 0.8,
          "showarrow": true,
          "text": "Medicaid (Adult)<br>$33,560",
          "x": 33560,
          "xref": "x",
          "y": -5950.39999999999,
          "yref": "y"
         },
         {
          "align": "center",
          "arrowcolor": "#636363",
          "arrowhead": 2,
          "arrowsize": 1,
          "arrowwidth": 2,
          "ax": -40,
          "ay": 40,
          "bgcolor": "#463397",
          "bordercolor": "#c7c7c7",
          "borderpad": 4,
          "borderwidth": 2,
          "font": {
           "color": "#ffffff",
           "size": 12
          },
          "opacity": 0.8,
          "showarrow": true,
          "text": "CCDF<br>$45,560",
          "x": 45560,
          "xref": "x",
          "y": -9158.39999999999,
          "yref": "y"
         },
         {
          "align": "center",
          "arrowcolor": "#636363",
          "arrowhead": 2,
          "arrowsize": 1,
          "arrowwidth": 2,
          "ax": -40,
          "ay": 40,
          "bgcolor": "#2B3514",
          "bordercolor": "#c7c7c7",
          "borderpad": 4,
          "borderwidth": 2,
          "font": {
           "color": "#ffffff",
           "size": 12
          },
          "opacity": 0.8,
          "showarrow": true,
          "text": "SNAP<br>$49,560",
          "x": 49560,
          "xref": "x",
          "y": -9230,
          "yref": "y"
         },
         {
          "align": "center",
          "arrowcolor": "#636363",
          "arrowhead": 2,
          "arrowsize": 1,
          "arrowwidth": 2,
          "ax": -40,
          "ay": 40,
          "bgcolor": "#D32B1E",
          "bordercolor": "#c7c7c7",
          "borderpad": 4,
          "borderwidth": 2,
          "font": {
           "color": "#ffffff",
           "size": 12
          },
          "opacity": 0.8,
          "showarrow": true,
          "text": "School Meals<br>$49,560",
          "x": 49560,
          "xref": "x",
          "y": -9230,
          "yref": "y"
         },
         {
          "align": "left",
          "bordercolor": "black",
          "borderwidth": 1,
          "showarrow": false,
          "text": "<span style='color:#008080;'><b>Family:</b></span> <i>(Age, Disabled, Blind, Monthly SSDI)<br></i><b>Adult1</b>: 30, False, False, 0<br><b>Adult2</b>: 30, False, False, 0<br><b>Child1</b>: 8, False<br><i><br>CHILDCARE, HEADSTART, CCDF, <br>REK, HEALTHCARE, MEDICAID_ADULT, <br>MEDICAID_CHILD, CA, SECTION8, <br>SNAP, SLP, WIC, <br>EITC, TAXES, CTC, <br>CDCTC, TANF, SSI, <br>SSDI</i>",
          "x": 1.4,
          "xref": "paper",
          "y": 0,
          "yref": "paper"
         }
        ],
        "height": 600,
        "legend": {
         "tracegroupgap": 0
        },
        "margin": {
         "b": 80,
         "l": 60,
         "r": 400,
         "t": 60
        },
        "shapes": [
         {
          "line": {
           "color": "red",
           "dash": "dash",
           "width": 4
          },
          "type": "line",
          "x0": 27560,
          "x1": 99560,
          "y0": 0,
          "y1": 0
         }
        ],
        "template": {
         "data": {
          "bar": [
           {
            "error_x": {
             "color": "#2a3f5f"
            },
            "error_y": {
             "color": "#2a3f5f"
            },
            "marker": {
             "line": {
              "color": "#E5ECF6",
              "width": 0.5
             },
             "pattern": {
              "fillmode": "overlay",
              "size": 10,
              "solidity": 0.2
             }
            },
            "type": "bar"
           }
          ],
          "barpolar": [
           {
            "marker": {
             "line": {
              "color": "#E5ECF6",
              "width": 0.5
             },
             "pattern": {
              "fillmode": "overlay",
              "size": 10,
              "solidity": 0.2
             }
            },
            "type": "barpolar"
           }
          ],
          "carpet": [
           {
            "aaxis": {
             "endlinecolor": "#2a3f5f",
             "gridcolor": "white",
             "linecolor": "white",
             "minorgridcolor": "white",
             "startlinecolor": "#2a3f5f"
            },
            "baxis": {
             "endlinecolor": "#2a3f5f",
             "gridcolor": "white",
             "linecolor": "white",
             "minorgridcolor": "white",
             "startlinecolor": "#2a3f5f"
            },
            "type": "carpet"
           }
          ],
          "choropleth": [
           {
            "colorbar": {
             "outlinewidth": 0,
             "ticks": ""
            },
            "type": "choropleth"
           }
          ],
          "contour": [
           {
            "colorbar": {
             "outlinewidth": 0,
             "ticks": ""
            },
            "colorscale": [
             [
              0,
              "#0d0887"
             ],
             [
              0.1111111111111111,
              "#46039f"
             ],
             [
              0.2222222222222222,
              "#7201a8"
             ],
             [
              0.3333333333333333,
              "#9c179e"
             ],
             [
              0.4444444444444444,
              "#bd3786"
             ],
             [
              0.5555555555555556,
              "#d8576b"
             ],
             [
              0.6666666666666666,
              "#ed7953"
             ],
             [
              0.7777777777777778,
              "#fb9f3a"
             ],
             [
              0.8888888888888888,
              "#fdca26"
             ],
             [
              1,
              "#f0f921"
             ]
            ],
            "type": "contour"
           }
          ],
          "contourcarpet": [
           {
            "colorbar": {
             "outlinewidth": 0,
             "ticks": ""
            },
            "type": "contourcarpet"
           }
          ],
          "heatmap": [
           {
            "colorbar": {
             "outlinewidth": 0,
             "ticks": ""
            },
            "colorscale": [
             [
              0,
              "#0d0887"
             ],
             [
              0.1111111111111111,
              "#46039f"
             ],
             [
              0.2222222222222222,
              "#7201a8"
             ],
             [
              0.3333333333333333,
              "#9c179e"
             ],
             [
              0.4444444444444444,
              "#bd3786"
             ],
             [
              0.5555555555555556,
              "#d8576b"
             ],
             [
              0.6666666666666666,
              "#ed7953"
             ],
             [
              0.7777777777777778,
              "#fb9f3a"
             ],
             [
              0.8888888888888888,
              "#fdca26"
             ],
             [
              1,
              "#f0f921"
             ]
            ],
            "type": "heatmap"
           }
          ],
          "heatmapgl": [
           {
            "colorbar": {
             "outlinewidth": 0,
             "ticks": ""
            },
            "colorscale": [
             [
              0,
              "#0d0887"
             ],
             [
              0.1111111111111111,
              "#46039f"
             ],
             [
              0.2222222222222222,
              "#7201a8"
             ],
             [
              0.3333333333333333,
              "#9c179e"
             ],
             [
              0.4444444444444444,
              "#bd3786"
             ],
             [
              0.5555555555555556,
              "#d8576b"
             ],
             [
              0.6666666666666666,
              "#ed7953"
             ],
             [
              0.7777777777777778,
              "#fb9f3a"
             ],
             [
              0.8888888888888888,
              "#fdca26"
             ],
             [
              1,
              "#f0f921"
             ]
            ],
            "type": "heatmapgl"
           }
          ],
          "histogram": [
           {
            "marker": {
             "pattern": {
              "fillmode": "overlay",
              "size": 10,
              "solidity": 0.2
             }
            },
            "type": "histogram"
           }
          ],
          "histogram2d": [
           {
            "colorbar": {
             "outlinewidth": 0,
             "ticks": ""
            },
            "colorscale": [
             [
              0,
              "#0d0887"
             ],
             [
              0.1111111111111111,
              "#46039f"
             ],
             [
              0.2222222222222222,
              "#7201a8"
             ],
             [
              0.3333333333333333,
              "#9c179e"
             ],
             [
              0.4444444444444444,
              "#bd3786"
             ],
             [
              0.5555555555555556,
              "#d8576b"
             ],
             [
              0.6666666666666666,
              "#ed7953"
             ],
             [
              0.7777777777777778,
              "#fb9f3a"
             ],
             [
              0.8888888888888888,
              "#fdca26"
             ],
             [
              1,
              "#f0f921"
             ]
            ],
            "type": "histogram2d"
           }
          ],
          "histogram2dcontour": [
           {
            "colorbar": {
             "outlinewidth": 0,
             "ticks": ""
            },
            "colorscale": [
             [
              0,
              "#0d0887"
             ],
             [
              0.1111111111111111,
              "#46039f"
             ],
             [
              0.2222222222222222,
              "#7201a8"
             ],
             [
              0.3333333333333333,
              "#9c179e"
             ],
             [
              0.4444444444444444,
              "#bd3786"
             ],
             [
              0.5555555555555556,
              "#d8576b"
             ],
             [
              0.6666666666666666,
              "#ed7953"
             ],
             [
              0.7777777777777778,
              "#fb9f3a"
             ],
             [
              0.8888888888888888,
              "#fdca26"
             ],
             [
              1,
              "#f0f921"
             ]
            ],
            "type": "histogram2dcontour"
           }
          ],
          "mesh3d": [
           {
            "colorbar": {
             "outlinewidth": 0,
             "ticks": ""
            },
            "type": "mesh3d"
           }
          ],
          "parcoords": [
           {
            "line": {
             "colorbar": {
              "outlinewidth": 0,
              "ticks": ""
             }
            },
            "type": "parcoords"
           }
          ],
          "pie": [
           {
            "automargin": true,
            "type": "pie"
           }
          ],
          "scatter": [
           {
            "fillpattern": {
             "fillmode": "overlay",
             "size": 10,
             "solidity": 0.2
            },
            "type": "scatter"
           }
          ],
          "scatter3d": [
           {
            "line": {
             "colorbar": {
              "outlinewidth": 0,
              "ticks": ""
             }
            },
            "marker": {
             "colorbar": {
              "outlinewidth": 0,
              "ticks": ""
             }
            },
            "type": "scatter3d"
           }
          ],
          "scattercarpet": [
           {
            "marker": {
             "colorbar": {
              "outlinewidth": 0,
              "ticks": ""
             }
            },
            "type": "scattercarpet"
           }
          ],
          "scattergeo": [
           {
            "marker": {
             "colorbar": {
              "outlinewidth": 0,
              "ticks": ""
             }
            },
            "type": "scattergeo"
           }
          ],
          "scattergl": [
           {
            "marker": {
             "colorbar": {
              "outlinewidth": 0,
              "ticks": ""
             }
            },
            "type": "scattergl"
           }
          ],
          "scattermapbox": [
           {
            "marker": {
             "colorbar": {
              "outlinewidth": 0,
              "ticks": ""
             }
            },
            "type": "scattermapbox"
           }
          ],
          "scatterpolar": [
           {
            "marker": {
             "colorbar": {
              "outlinewidth": 0,
              "ticks": ""
             }
            },
            "type": "scatterpolar"
           }
          ],
          "scatterpolargl": [
           {
            "marker": {
             "colorbar": {
              "outlinewidth": 0,
              "ticks": ""
             }
            },
            "type": "scatterpolargl"
           }
          ],
          "scatterternary": [
           {
            "marker": {
             "colorbar": {
              "outlinewidth": 0,
              "ticks": ""
             }
            },
            "type": "scatterternary"
           }
          ],
          "surface": [
           {
            "colorbar": {
             "outlinewidth": 0,
             "ticks": ""
            },
            "colorscale": [
             [
              0,
              "#0d0887"
             ],
             [
              0.1111111111111111,
              "#46039f"
             ],
             [
              0.2222222222222222,
              "#7201a8"
             ],
             [
              0.3333333333333333,
              "#9c179e"
             ],
             [
              0.4444444444444444,
              "#bd3786"
             ],
             [
              0.5555555555555556,
              "#d8576b"
             ],
             [
              0.6666666666666666,
              "#ed7953"
             ],
             [
              0.7777777777777778,
              "#fb9f3a"
             ],
             [
              0.8888888888888888,
              "#fdca26"
             ],
             [
              1,
              "#f0f921"
             ]
            ],
            "type": "surface"
           }
          ],
          "table": [
           {
            "cells": {
             "fill": {
              "color": "#EBF0F8"
             },
             "line": {
              "color": "white"
             }
            },
            "header": {
             "fill": {
              "color": "#C8D4E3"
             },
             "line": {
              "color": "white"
             }
            },
            "type": "table"
           }
          ]
         },
         "layout": {
          "annotationdefaults": {
           "arrowcolor": "#2a3f5f",
           "arrowhead": 0,
           "arrowwidth": 1
          },
          "autotypenumbers": "strict",
          "coloraxis": {
           "colorbar": {
            "outlinewidth": 0,
            "ticks": ""
           }
          },
          "colorscale": {
           "diverging": [
            [
             0,
             "#8e0152"
            ],
            [
             0.1,
             "#c51b7d"
            ],
            [
             0.2,
             "#de77ae"
            ],
            [
             0.3,
             "#f1b6da"
            ],
            [
             0.4,
             "#fde0ef"
            ],
            [
             0.5,
             "#f7f7f7"
            ],
            [
             0.6,
             "#e6f5d0"
            ],
            [
             0.7,
             "#b8e186"
            ],
            [
             0.8,
             "#7fbc41"
            ],
            [
             0.9,
             "#4d9221"
            ],
            [
             1,
             "#276419"
            ]
           ],
           "sequential": [
            [
             0,
             "#0d0887"
            ],
            [
             0.1111111111111111,
             "#46039f"
            ],
            [
             0.2222222222222222,
             "#7201a8"
            ],
            [
             0.3333333333333333,
             "#9c179e"
            ],
            [
             0.4444444444444444,
             "#bd3786"
            ],
            [
             0.5555555555555556,
             "#d8576b"
            ],
            [
             0.6666666666666666,
             "#ed7953"
            ],
            [
             0.7777777777777778,
             "#fb9f3a"
            ],
            [
             0.8888888888888888,
             "#fdca26"
            ],
            [
             1,
             "#f0f921"
            ]
           ],
           "sequentialminus": [
            [
             0,
             "#0d0887"
            ],
            [
             0.1111111111111111,
             "#46039f"
            ],
            [
             0.2222222222222222,
             "#7201a8"
            ],
            [
             0.3333333333333333,
             "#9c179e"
            ],
            [
             0.4444444444444444,
             "#bd3786"
            ],
            [
             0.5555555555555556,
             "#d8576b"
            ],
            [
             0.6666666666666666,
             "#ed7953"
            ],
            [
             0.7777777777777778,
             "#fb9f3a"
            ],
            [
             0.8888888888888888,
             "#fdca26"
            ],
            [
             1,
             "#f0f921"
            ]
           ]
          },
          "colorway": [
           "#636efa",
           "#EF553B",
           "#00cc96",
           "#ab63fa",
           "#FFA15A",
           "#19d3f3",
           "#FF6692",
           "#B6E880",
           "#FF97FF",
           "#FECB52"
          ],
          "font": {
           "color": "#2a3f5f"
          },
          "geo": {
           "bgcolor": "white",
           "lakecolor": "white",
           "landcolor": "#E5ECF6",
           "showlakes": true,
           "showland": true,
           "subunitcolor": "white"
          },
          "hoverlabel": {
           "align": "left"
          },
          "hovermode": "closest",
          "mapbox": {
           "style": "light"
          },
          "paper_bgcolor": "white",
          "plot_bgcolor": "#E5ECF6",
          "polar": {
           "angularaxis": {
            "gridcolor": "white",
            "linecolor": "white",
            "ticks": ""
           },
           "bgcolor": "#E5ECF6",
           "radialaxis": {
            "gridcolor": "white",
            "linecolor": "white",
            "ticks": ""
           }
          },
          "scene": {
           "xaxis": {
            "backgroundcolor": "#E5ECF6",
            "gridcolor": "white",
            "gridwidth": 2,
            "linecolor": "white",
            "showbackground": true,
            "ticks": "",
            "zerolinecolor": "white"
           },
           "yaxis": {
            "backgroundcolor": "#E5ECF6",
            "gridcolor": "white",
            "gridwidth": 2,
            "linecolor": "white",
            "showbackground": true,
            "ticks": "",
            "zerolinecolor": "white"
           },
           "zaxis": {
            "backgroundcolor": "#E5ECF6",
            "gridcolor": "white",
            "gridwidth": 2,
            "linecolor": "white",
            "showbackground": true,
            "ticks": "",
            "zerolinecolor": "white"
           }
          },
          "shapedefaults": {
           "line": {
            "color": "#2a3f5f"
           }
          },
          "ternary": {
           "aaxis": {
            "gridcolor": "white",
            "linecolor": "white",
            "ticks": ""
           },
           "baxis": {
            "gridcolor": "white",
            "linecolor": "white",
            "ticks": ""
           },
           "bgcolor": "#E5ECF6",
           "caxis": {
            "gridcolor": "white",
            "linecolor": "white",
            "ticks": ""
           }
          },
          "title": {
           "x": 0.05
          },
          "xaxis": {
           "automargin": true,
           "gridcolor": "white",
           "linecolor": "white",
           "ticks": "",
           "title": {
            "standoff": 15
           },
           "zerolinecolor": "white",
           "zerolinewidth": 2
          },
          "yaxis": {
           "automargin": true,
           "gridcolor": "white",
           "linecolor": "white",
           "ticks": "",
           "title": {
            "standoff": 15
           },
           "zerolinecolor": "white",
           "zerolinewidth": 2
          }
         }
        },
        "title": {
         "text": "Net Resources and Benefits in New Castle County, DE (2 Adults, 1 Child)"
        },
        "width": 1200,
        "xaxis": {
         "anchor": "y",
         "domain": [
          0,
          1
         ],
         "labelalias": {
          "100k": "$100,000 <br>($48.08/h)",
          "30k": "$30,000 <br>($14.42/h)",
          "40k": "$40,000 <br>($19.23/h)",
          "50k": "$50,000 <br>($24.04/h)",
          "60k": "$60,000 <br>($28.85/h)",
          "70k": "$70,000 <br>($33.65/h)",
          "80k": "$80,000 <br>($38.46/h)",
          "90k": "$90,000 <br>($43.27/h)"
         },
         "title": {
          "text": "Income"
         }
        },
        "yaxis": {
         "anchor": "x",
         "domain": [
          0,
          1
         ],
         "title": {
          "text": ""
         }
        }
       }
      }
     },
     "metadata": {},
     "output_type": "display_data"
    }
   ],
   "source": [
    "for n,fp in enumerate(profile_paths):\n",
    "\n",
    "    if n not in (2,5):\n",
    "        continue\n",
    "\n",
    "    p = Beneficiary.from_yaml(fp)\n",
    "\n",
    "    plot_derivative = False if n != 2 else True \n",
    "    \n",
    "\n",
    "\n",
    "    df = pd.read_csv(p.output_path)\n",
    "    color = plotting.beneficiary_color_palette[n % len(plotting.beneficiary_color_palette)] # I only have four colors \n",
    "\n",
    "    legend_text = plotting.create_profile_legend_text(family_data=p.get_family(), \n",
    "                                                      ben_list=p.get_benefits(), \n",
    "                                                      color=color)\n",
    "\n",
    "    plot_single_profile(df, \n",
    "                    color,\n",
    "                    after_tax=False,\n",
    "                    hide_benefits=True,\n",
    "                    plot_derivative=plot_derivative,\n",
    "                    title=f'Net Resources and Benefits in {p.locations[0]} ({title_map[p.project_name]})', \n",
    "                    legend_text=legend_text)\n",
    "\n",
    "    "
   ]
  },
  {
   "cell_type": "markdown",
   "metadata": {},
   "source": [
    "##### **Fix second step in method**\n",
    "Find points where \n",
    "1. Derivative is negative and a local minimum \n",
    "2. A benefits program *just hit* zero\n",
    "    * Require that previous point is non-zero"
   ]
  },
  {
   "cell_type": "code",
   "execution_count": 17,
   "metadata": {},
   "outputs": [
    {
     "name": "stdout",
     "output_type": "stream",
     "text": [
      "[0, 0, 0, 0, 0, 0, 0, 0, 0, 0, 0, 0, 0, 0, 0, 0, 0, 0, 0, 4, 2, 3, 0, 4, 2, 1, 1, 2, 0, 1, 1, 2, 4, 2, 2, 4, 0, 0, 0]\n",
      "[22, 28, 36] [3, 2, 4]\n"
     ]
    }
   ],
   "source": [
    "## Fixing algorithm to find zeros \n",
    "def find_zero_intercepts(ls:list):\n",
    "    \"\"\"Get points of curve (iterable) which first intersect with x-axis (0) (i.e. previous value must be non-zero)\"\"\" \n",
    "\n",
    "    zero_indices = []\n",
    "    on_zero = True  # treat first element in list as if we're already on zero (there's no previous point)\n",
    "    for n in range(len(ls)):\n",
    "        if ls[n] == 0:\n",
    "            if not on_zero: # i.e. we found a zero and we're not already on the axis \n",
    "                zero_indices.append(n)\n",
    "                on_zero = True\n",
    "            else: \n",
    "                continue\n",
    "        else: \n",
    "            on_zero = False\n",
    "\n",
    "    return zero_indices\n",
    "\n",
    "## Example data \n",
    "len_ls = 20\n",
    "my_ls = [np.random.randint(low=0, high=5) for i in range(len_ls)]\n",
    "zero_inserts = [np.random.randint(low=0, high=n) for n in range(1,len_ls)]\n",
    "for n in zero_inserts: \n",
    "    my_ls.insert(n,0)\n",
    "\n",
    "print(my_ls)\n",
    "print(find_zero_intercepts(my_ls), [my_ls[x-1] for x in find_zero_intercepts(my_ls)])"
   ]
  },
  {
   "cell_type": "code",
   "execution_count": null,
   "metadata": {},
   "outputs": [],
   "source": [
    "## Create function to calculate derivative rel minima \n",
    "## Replace old function to find benefits zeros and cliffs using new find zeros function (consolidate into one function)"
   ]
  },
  {
   "cell_type": "code",
   "execution_count": 31,
   "metadata": {},
   "outputs": [
    {
     "name": "stdout",
     "output_type": "stream",
     "text": [
      "49560\n",
      "-9230.0\n",
      "49560\n",
      "-9230.0\n",
      "33560\n",
      "-5950.39999999999\n",
      "91560\n",
      "9448.60000000001\n",
      "45560\n",
      "-9158.39999999999\n"
     ]
    },
    {
     "data": {
      "application/vnd.plotly.v1+json": {
       "config": {
        "plotlyServerURL": "https://plot.ly"
       },
       "data": [
        {
         "hovertemplate": "income=%{x}<br>NetResources=%{y}<extra></extra>",
         "legendgroup": "",
         "line": {
          "color": "#008080",
          "dash": "solid"
         },
         "marker": {
          "symbol": "circle"
         },
         "mode": "markers+lines",
         "name": "",
         "orientation": "v",
         "showlegend": false,
         "type": "scatter",
         "x": [
          27560,
          28560,
          29560,
          30560,
          31560,
          32560,
          33560,
          34560,
          35560,
          36560,
          37560,
          38560,
          39560,
          40560,
          41560,
          42560,
          43560,
          44560,
          45560,
          46560,
          47560,
          48560,
          49560,
          50560,
          51560,
          52560,
          53560,
          54560,
          55560,
          56560,
          57560,
          58560,
          59560,
          60560,
          61560,
          62560,
          63560,
          64560,
          65560,
          66560,
          67560,
          68560,
          69560,
          70560,
          71560,
          72560,
          73560,
          74560,
          75560,
          76560,
          77560,
          78560,
          79560,
          80560,
          81560,
          82560,
          83560,
          84560,
          85560,
          86560,
          87560,
          88560,
          89560,
          90560,
          91560,
          92560,
          93560,
          94560,
          95560,
          96560,
          97560,
          98560,
          99560
         ],
         "xaxis": "x",
         "y": [
          -5788.39999999999,
          -5832.39999999999,
          -5882.39999999999,
          -5911.39999999999,
          -5921.39999999999,
          -5932.39999999999,
          -5950.39999999999,
          -7348.39999999999,
          -7513.39999999999,
          -7680.39999999999,
          -8034.39999999999,
          -8211.39999999999,
          -8391.39999999999,
          -8575.39999999999,
          -8764.39999999999,
          -8956.39999999999,
          -9139.39999999999,
          -9146.39999999999,
          -9158.39999999999,
          -9317,
          -9285,
          -9256,
          -9230,
          -10513.4,
          -10207.4,
          -9905.39999999999,
          -9605.39999999999,
          -9009.39999999999,
          -8715.39999999999,
          -8424.39999999999,
          -8133.39999999999,
          -7834.39999999999,
          -7536.39999999999,
          -7241.39999999999,
          -6949.39999999999,
          -6659.39999999999,
          -6374.39999999999,
          -5921.39999999999,
          -5348.39999999999,
          -4779.39999999999,
          -4210.39999999999,
          -3646.39999999999,
          -3024.39999999999,
          -2378.39999999999,
          -1731.39999999999,
          -1085.39999999999,
          -439.399999999994,
          160.600000000006,
          707.600000000006,
          1253.60000000001,
          1800.60000000001,
          2345.60000000001,
          2892.60000000001,
          3438.60000000001,
          3985.60000000001,
          4531.60000000001,
          5077.60000000001,
          5623.60000000001,
          6170.60000000001,
          6716.60000000001,
          7263.60000000001,
          7808.60000000001,
          8355.60000000001,
          8901.60000000001,
          9448.60000000001,
          1854.60000000001,
          2492.60000000001,
          3129.60000000001,
          3767.60000000001,
          4404.60000000001,
          5042.60000000001,
          5679.60000000001,
          6317.60000000001
         ],
         "yaxis": "y"
        },
        {
         "line": {
          "color": "#2B3514"
         },
         "mode": "markers+lines",
         "name": "SNAP",
         "type": "scatter",
         "visible": true,
         "x": [
          27560,
          28560,
          29560,
          30560,
          31560,
          32560,
          33560,
          34560,
          35560,
          36560,
          37560,
          38560,
          39560,
          40560,
          41560,
          42560,
          43560,
          44560,
          45560,
          46560,
          47560,
          48560,
          49560,
          50560,
          51560,
          52560,
          53560,
          54560,
          55560,
          56560,
          57560,
          58560,
          59560,
          60560,
          61560,
          62560,
          63560,
          64560,
          65560,
          66560,
          67560,
          68560,
          69560,
          70560,
          71560,
          72560,
          73560,
          74560,
          75560,
          76560,
          77560,
          78560,
          79560,
          80560,
          81560,
          82560,
          83560,
          84560,
          85560,
          86560,
          87560,
          88560,
          89560,
          90560,
          91560,
          92560,
          93560,
          94560,
          95560,
          96560,
          97560,
          98560,
          99560
         ],
         "y": [
          5734,
          5483,
          5231,
          4980,
          4729,
          4478,
          4226,
          3975,
          3724,
          3473,
          3221,
          2970,
          2719,
          2468,
          2216,
          1965,
          1714,
          1463,
          1212,
          1145,
          860,
          575,
          290,
          0,
          0,
          0,
          0,
          0,
          0,
          0,
          0,
          0,
          0,
          0,
          0,
          0,
          0,
          0,
          0,
          0,
          0,
          0,
          0,
          0,
          0,
          0,
          0,
          0,
          0,
          0,
          0,
          0,
          0,
          0,
          0,
          0,
          0,
          0,
          0,
          0,
          0,
          0,
          0,
          0,
          0,
          0,
          0,
          0,
          0,
          0,
          0,
          0,
          0
         ]
        },
        {
         "line": {
          "color": "#D32B1E"
         },
         "mode": "markers+lines",
         "name": "School Meals",
         "type": "scatter",
         "visible": true,
         "x": [
          27560,
          28560,
          29560,
          30560,
          31560,
          32560,
          33560,
          34560,
          35560,
          36560,
          37560,
          38560,
          39560,
          40560,
          41560,
          42560,
          43560,
          44560,
          45560,
          46560,
          47560,
          48560,
          49560,
          50560,
          51560,
          52560,
          53560,
          54560,
          55560,
          56560,
          57560,
          58560,
          59560,
          60560,
          61560,
          62560,
          63560,
          64560,
          65560,
          66560,
          67560,
          68560,
          69560,
          70560,
          71560,
          72560,
          73560,
          74560,
          75560,
          76560,
          77560,
          78560,
          79560,
          80560,
          81560,
          82560,
          83560,
          84560,
          85560,
          86560,
          87560,
          88560,
          89560,
          90560,
          91560,
          92560,
          93560,
          94560,
          95560,
          96560,
          97560,
          98560,
          99560
         ],
         "y": [
          1301.4,
          1301.4,
          1301.4,
          1301.4,
          1301.4,
          1301.4,
          1301.4,
          1301.4,
          1301.4,
          1301.4,
          1301.4,
          1301.4,
          1301.4,
          1301.4,
          1301.4,
          1301.4,
          1301.4,
          1301.4,
          1301.4,
          1301.4,
          1301.4,
          1301.4,
          1301.4,
          0,
          0,
          0,
          0,
          0,
          0,
          0,
          0,
          0,
          0,
          0,
          0,
          0,
          0,
          0,
          0,
          0,
          0,
          0,
          0,
          0,
          0,
          0,
          0,
          0,
          0,
          0,
          0,
          0,
          0,
          0,
          0,
          0,
          0,
          0,
          0,
          0,
          0,
          0,
          0,
          0,
          0,
          0,
          0,
          0,
          0,
          0,
          0,
          0,
          0
         ]
        },
        {
         "line": {
          "color": "#6F340D"
         },
         "mode": "markers+lines",
         "name": "Section 8",
         "type": "scatter",
         "visible": "legendonly",
         "x": [
          27560,
          28560,
          29560,
          30560,
          31560,
          32560,
          33560,
          34560,
          35560,
          36560,
          37560,
          38560,
          39560,
          40560,
          41560,
          42560,
          43560,
          44560,
          45560,
          46560,
          47560,
          48560,
          49560,
          50560,
          51560,
          52560,
          53560,
          54560,
          55560,
          56560,
          57560,
          58560,
          59560,
          60560,
          61560,
          62560,
          63560,
          64560,
          65560,
          66560,
          67560,
          68560,
          69560,
          70560,
          71560,
          72560,
          73560,
          74560,
          75560,
          76560,
          77560,
          78560,
          79560,
          80560,
          81560,
          82560,
          83560,
          84560,
          85560,
          86560,
          87560,
          88560,
          89560,
          90560,
          91560,
          92560,
          93560,
          94560,
          95560,
          96560,
          97560,
          98560,
          99560
         ],
         "y": [
          10260,
          9987,
          9714,
          9441,
          9168,
          8895,
          8622,
          8349,
          8076,
          7803,
          7530,
          7257,
          6984,
          6711,
          6438,
          6165,
          5892,
          5619,
          5346,
          5221,
          4921,
          4621,
          4321,
          4021,
          3721,
          3421,
          3121,
          2821,
          2521,
          2221,
          1921,
          1621,
          1321,
          1021,
          721,
          421,
          121,
          0,
          0,
          0,
          0,
          0,
          0,
          0,
          0,
          0,
          0,
          0,
          0,
          0,
          0,
          0,
          0,
          0,
          0,
          0,
          0,
          0,
          0,
          0,
          0,
          0,
          0,
          0,
          0,
          0,
          0,
          0,
          0,
          0,
          0,
          0,
          0
         ]
        },
        {
         "line": {
          "color": "#7E1510"
         },
         "mode": "markers+lines",
         "name": "Medicaid (Adult)",
         "type": "scatter",
         "visible": true,
         "x": [
          27560,
          28560,
          29560,
          30560,
          31560,
          32560,
          33560,
          34560,
          35560,
          36560,
          37560,
          38560,
          39560,
          40560,
          41560,
          42560,
          43560,
          44560,
          45560,
          46560,
          47560,
          48560,
          49560,
          50560,
          51560,
          52560,
          53560,
          54560,
          55560,
          56560,
          57560,
          58560,
          59560,
          60560,
          61560,
          62560,
          63560,
          64560,
          65560,
          66560,
          67560,
          68560,
          69560,
          70560,
          71560,
          72560,
          73560,
          74560,
          75560,
          76560,
          77560,
          78560,
          79560,
          80560,
          81560,
          82560,
          83560,
          84560,
          85560,
          86560,
          87560,
          88560,
          89560,
          90560,
          91560,
          92560,
          93560,
          94560,
          95560,
          96560,
          97560,
          98560,
          99560
         ],
         "y": [
          16070,
          16070,
          16070,
          16070,
          16070,
          16070,
          16070,
          0,
          0,
          0,
          0,
          0,
          0,
          0,
          0,
          0,
          0,
          0,
          0,
          0,
          0,
          0,
          0,
          0,
          0,
          0,
          0,
          0,
          0,
          0,
          0,
          0,
          0,
          0,
          0,
          0,
          0,
          0,
          0,
          0,
          0,
          0,
          0,
          0,
          0,
          0,
          0,
          0,
          0,
          0,
          0,
          0,
          0,
          0,
          0,
          0,
          0,
          0,
          0,
          0,
          0,
          0,
          0,
          0,
          0,
          0,
          0,
          0,
          0,
          0,
          0,
          0,
          0
         ]
        },
        {
         "line": {
          "color": "#9a9a00"
         },
         "mode": "markers+lines",
         "name": "Medicaid (Child)",
         "type": "scatter",
         "visible": true,
         "x": [
          27560,
          28560,
          29560,
          30560,
          31560,
          32560,
          33560,
          34560,
          35560,
          36560,
          37560,
          38560,
          39560,
          40560,
          41560,
          42560,
          43560,
          44560,
          45560,
          46560,
          47560,
          48560,
          49560,
          50560,
          51560,
          52560,
          53560,
          54560,
          55560,
          56560,
          57560,
          58560,
          59560,
          60560,
          61560,
          62560,
          63560,
          64560,
          65560,
          66560,
          67560,
          68560,
          69560,
          70560,
          71560,
          72560,
          73560,
          74560,
          75560,
          76560,
          77560,
          78560,
          79560,
          80560,
          81560,
          82560,
          83560,
          84560,
          85560,
          86560,
          87560,
          88560,
          89560,
          90560,
          91560,
          92560,
          93560,
          94560,
          95560,
          96560,
          97560,
          98560,
          99560
         ],
         "y": [
          4463,
          4463,
          4463,
          4463,
          4463,
          4463,
          4463,
          4463,
          4463,
          4463,
          4283,
          4283,
          4283,
          4283,
          4283,
          4283,
          4283,
          4283,
          4283,
          4283,
          4283,
          4283,
          4283,
          4283,
          4283,
          4283,
          4283,
          0,
          0,
          0,
          0,
          0,
          0,
          0,
          0,
          0,
          0,
          0,
          0,
          0,
          0,
          0,
          0,
          0,
          0,
          0,
          0,
          0,
          0,
          0,
          0,
          0,
          0,
          0,
          0,
          0,
          0,
          0,
          0,
          0,
          0,
          0,
          0,
          0,
          0,
          0,
          0,
          0,
          0,
          0,
          0,
          0,
          0
         ]
        },
        {
         "line": {
          "color": "#91218C"
         },
         "mode": "markers+lines",
         "name": "ACA",
         "type": "scatter",
         "visible": true,
         "x": [
          27560,
          28560,
          29560,
          30560,
          31560,
          32560,
          33560,
          34560,
          35560,
          36560,
          37560,
          38560,
          39560,
          40560,
          41560,
          42560,
          43560,
          44560,
          45560,
          46560,
          47560,
          48560,
          49560,
          50560,
          51560,
          52560,
          53560,
          54560,
          55560,
          56560,
          57560,
          58560,
          59560,
          60560,
          61560,
          62560,
          63560,
          64560,
          65560,
          66560,
          67560,
          68560,
          69560,
          70560,
          71560,
          72560,
          73560,
          74560,
          75560,
          76560,
          77560,
          78560,
          79560,
          80560,
          81560,
          82560,
          83560,
          84560,
          85560,
          86560,
          87560,
          88560,
          89560,
          90560,
          91560,
          92560,
          93560,
          94560,
          95560,
          96560,
          97560,
          98560,
          99560
         ],
         "y": [
          0,
          0,
          0,
          0,
          0,
          0,
          0,
          11061,
          10954,
          10843,
          10728,
          10609,
          10487,
          10360,
          10230,
          10096,
          9958,
          9817,
          9671,
          9538,
          9407,
          9273,
          9136,
          8996,
          8854,
          8708,
          8560,
          12585,
          12431,
          12274,
          12117,
          11968,
          11818,
          11665,
          11509,
          11351,
          11191,
          11028,
          10863,
          10695,
          10526,
          10353,
          10237,
          10146,
          10055,
          9964,
          9872,
          9781,
          9690,
          9599,
          9508,
          9416,
          9325,
          9234,
          9143,
          9052,
          8960,
          8869,
          8778,
          8687,
          8596,
          8504,
          8413,
          8322,
          8231,
          0,
          0,
          0,
          0,
          0,
          0,
          0,
          0
         ]
        },
        {
         "line": {
          "color": "#463397"
         },
         "mode": "markers+lines",
         "name": "CCDF",
         "type": "scatter",
         "visible": true,
         "x": [
          27560,
          28560,
          29560,
          30560,
          31560,
          32560,
          33560,
          34560,
          35560,
          36560,
          37560,
          38560,
          39560,
          40560,
          41560,
          42560,
          43560,
          44560,
          45560,
          46560,
          47560,
          48560,
          49560,
          50560,
          51560,
          52560,
          53560,
          54560,
          55560,
          56560,
          57560,
          58560,
          59560,
          60560,
          61560,
          62560,
          63560,
          64560,
          65560,
          66560,
          67560,
          68560,
          69560,
          70560,
          71560,
          72560,
          73560,
          74560,
          75560,
          76560,
          77560,
          78560,
          79560,
          80560,
          81560,
          82560,
          83560,
          84560,
          85560,
          86560,
          87560,
          88560,
          89560,
          90560,
          91560,
          92560,
          93560,
          94560,
          95560,
          96560,
          97560,
          98560,
          99560
         ],
         "y": [
          2201.6,
          2111.6,
          2021.6,
          1931.6,
          1841.6,
          1751.6,
          1661.6,
          1571.6,
          1481.6,
          1391.6,
          1301.6,
          1211.6,
          1121.6,
          1031.6,
          941.6,
          851.6,
          761.6,
          671.6,
          581.6,
          0,
          0,
          0,
          0,
          0,
          0,
          0,
          0,
          0,
          0,
          0,
          0,
          0,
          0,
          0,
          0,
          0,
          0,
          0,
          0,
          0,
          0,
          0,
          0,
          0,
          0,
          0,
          0,
          0,
          0,
          0,
          0,
          0,
          0,
          0,
          0,
          0,
          0,
          0,
          0,
          0,
          0,
          0,
          0,
          0,
          0,
          0,
          0,
          0,
          0,
          0,
          0,
          0,
          0
         ]
        },
        {
         "line": {
          "color": "#BA1C30"
         },
         "mode": "markers+lines",
         "name": "EITC (Federal)",
         "type": "scatter",
         "visible": "legendonly",
         "x": [
          27560,
          28560,
          29560,
          30560,
          31560,
          32560,
          33560,
          34560,
          35560,
          36560,
          37560,
          38560,
          39560,
          40560,
          41560,
          42560,
          43560,
          44560,
          45560,
          46560,
          47560,
          48560,
          49560,
          50560,
          51560,
          52560,
          53560,
          54560,
          55560,
          56560,
          57560,
          58560,
          59560,
          60560,
          61560,
          62560,
          63560,
          64560,
          65560,
          66560,
          67560,
          68560,
          69560,
          70560,
          71560,
          72560,
          73560,
          74560,
          75560,
          76560,
          77560,
          78560,
          79560,
          80560,
          81560,
          82560,
          83560,
          84560,
          85560,
          86560,
          87560,
          88560,
          89560,
          90560,
          91560,
          92560,
          93560,
          94560,
          95560,
          96560,
          97560,
          98560,
          99560
         ],
         "y": [
          2546,
          2386,
          2226,
          2066,
          1907,
          1747,
          1587,
          1427,
          1267,
          1108,
          948,
          788,
          628,
          469,
          309,
          149,
          0,
          0,
          0,
          0,
          0,
          0,
          0,
          0,
          0,
          0,
          0,
          0,
          0,
          0,
          0,
          0,
          0,
          0,
          0,
          0,
          0,
          0,
          0,
          0,
          0,
          0,
          0,
          0,
          0,
          0,
          0,
          0,
          0,
          0,
          0,
          0,
          0,
          0,
          0,
          0,
          0,
          0,
          0,
          0,
          0,
          0,
          0,
          0,
          0,
          0,
          0,
          0,
          0,
          0,
          0,
          0,
          0
         ]
        },
        {
         "line": {
          "color": "#96CDE6"
         },
         "mode": "markers+lines",
         "name": "EITC (State)",
         "type": "scatter",
         "visible": "legendonly",
         "x": [
          27560,
          28560,
          29560,
          30560,
          31560,
          32560,
          33560,
          34560,
          35560,
          36560,
          37560,
          38560,
          39560,
          40560,
          41560,
          42560,
          43560,
          44560,
          45560,
          46560,
          47560,
          48560,
          49560,
          50560,
          51560,
          52560,
          53560,
          54560,
          55560,
          56560,
          57560,
          58560,
          59560,
          60560,
          61560,
          62560,
          63560,
          64560,
          65560,
          66560,
          67560,
          68560,
          69560,
          70560,
          71560,
          72560,
          73560,
          74560,
          75560,
          76560,
          77560,
          78560,
          79560,
          80560,
          81560,
          82560,
          83560,
          84560,
          85560,
          86560,
          87560,
          88560,
          89560,
          90560,
          91560,
          92560,
          93560,
          94560,
          95560,
          96560,
          97560,
          98560,
          99560
         ],
         "y": [
          509,
          477,
          445,
          413,
          381,
          349,
          317,
          285,
          253,
          222,
          190,
          158,
          126,
          94,
          62,
          30,
          0,
          0,
          0,
          0,
          0,
          0,
          0,
          0,
          0,
          0,
          0,
          0,
          0,
          0,
          0,
          0,
          0,
          0,
          0,
          0,
          0,
          0,
          0,
          0,
          0,
          0,
          0,
          0,
          0,
          0,
          0,
          0,
          0,
          0,
          0,
          0,
          0,
          0,
          0,
          0,
          0,
          0,
          0,
          0,
          0,
          0,
          0,
          0,
          0,
          0,
          0,
          0,
          0,
          0,
          0,
          0,
          0
         ]
        },
        {
         "line": {
          "color": "#DB6917"
         },
         "mode": "markers+lines",
         "name": "EITC",
         "type": "scatter",
         "visible": "legendonly",
         "x": [
          27560,
          28560,
          29560,
          30560,
          31560,
          32560,
          33560,
          34560,
          35560,
          36560,
          37560,
          38560,
          39560,
          40560,
          41560,
          42560,
          43560,
          44560,
          45560,
          46560,
          47560,
          48560,
          49560,
          50560,
          51560,
          52560,
          53560,
          54560,
          55560,
          56560,
          57560,
          58560,
          59560,
          60560,
          61560,
          62560,
          63560,
          64560,
          65560,
          66560,
          67560,
          68560,
          69560,
          70560,
          71560,
          72560,
          73560,
          74560,
          75560,
          76560,
          77560,
          78560,
          79560,
          80560,
          81560,
          82560,
          83560,
          84560,
          85560,
          86560,
          87560,
          88560,
          89560,
          90560,
          91560,
          92560,
          93560,
          94560,
          95560,
          96560,
          97560,
          98560,
          99560
         ],
         "y": [
          3055,
          2863,
          2671,
          2479,
          2288,
          2096,
          1904,
          1712,
          1520,
          1330,
          1138,
          946,
          754,
          563,
          371,
          179,
          0,
          0,
          0,
          0,
          0,
          0,
          0,
          0,
          0,
          0,
          0,
          0,
          0,
          0,
          0,
          0,
          0,
          0,
          0,
          0,
          0,
          0,
          0,
          0,
          0,
          0,
          0,
          0,
          0,
          0,
          0,
          0,
          0,
          0,
          0,
          0,
          0,
          0,
          0,
          0,
          0,
          0,
          0,
          0,
          0,
          0,
          0,
          0,
          0,
          0,
          0,
          0,
          0,
          0,
          0,
          0,
          0
         ]
        }
       ],
       "layout": {
        "annotations": [
         {
          "align": "center",
          "arrowcolor": "#636363",
          "arrowhead": 2,
          "arrowsize": 1,
          "arrowwidth": 2,
          "ax": -40,
          "ay": 40,
          "bgcolor": "#2B3514",
          "bordercolor": "#c7c7c7",
          "borderpad": 4,
          "borderwidth": 2,
          "font": {
           "color": "#ffffff",
           "size": 12
          },
          "opacity": 0.8,
          "showarrow": true,
          "text": "SNAP<br>$49,560",
          "x": 49560,
          "xref": "x",
          "y": -9230,
          "yref": "y"
         },
         {
          "align": "center",
          "arrowcolor": "#636363",
          "arrowhead": 2,
          "arrowsize": 1,
          "arrowwidth": 2,
          "ax": -40,
          "ay": 40,
          "bgcolor": "#D32B1E",
          "bordercolor": "#c7c7c7",
          "borderpad": 4,
          "borderwidth": 2,
          "font": {
           "color": "#ffffff",
           "size": 12
          },
          "opacity": 0.8,
          "showarrow": true,
          "text": "School Meals<br>$49,560",
          "x": 49560,
          "xref": "x",
          "y": -9230,
          "yref": "y"
         },
         {
          "align": "center",
          "arrowcolor": "#636363",
          "arrowhead": 2,
          "arrowsize": 1,
          "arrowwidth": 2,
          "ax": -40,
          "ay": 40,
          "bgcolor": "#7E1510",
          "bordercolor": "#c7c7c7",
          "borderpad": 4,
          "borderwidth": 2,
          "font": {
           "color": "#ffffff",
           "size": 12
          },
          "opacity": 0.8,
          "showarrow": true,
          "text": "Medicaid (Adult)<br>$33,560",
          "x": 33560,
          "xref": "x",
          "y": -5950.39999999999,
          "yref": "y"
         },
         {
          "align": "center",
          "arrowcolor": "#636363",
          "arrowhead": 2,
          "arrowsize": 1,
          "arrowwidth": 2,
          "ax": -40,
          "ay": 40,
          "bgcolor": "#91218C",
          "bordercolor": "#c7c7c7",
          "borderpad": 4,
          "borderwidth": 2,
          "font": {
           "color": "#ffffff",
           "size": 12
          },
          "opacity": 0.8,
          "showarrow": true,
          "text": "ACA<br>$91,560",
          "x": 91560,
          "xref": "x",
          "y": 9448.60000000001,
          "yref": "y"
         },
         {
          "align": "center",
          "arrowcolor": "#636363",
          "arrowhead": 2,
          "arrowsize": 1,
          "arrowwidth": 2,
          "ax": -40,
          "ay": 40,
          "bgcolor": "#463397",
          "bordercolor": "#c7c7c7",
          "borderpad": 4,
          "borderwidth": 2,
          "font": {
           "color": "#ffffff",
           "size": 12
          },
          "opacity": 0.8,
          "showarrow": true,
          "text": "CCDF<br>$45,560",
          "x": 45560,
          "xref": "x",
          "y": -9158.39999999999,
          "yref": "y"
         },
         {
          "align": "left",
          "bordercolor": "black",
          "borderwidth": 1,
          "showarrow": false,
          "text": "<span style='color:#008080;'><b>Family:</b></span> <i>(Age, Disabled, Blind, Monthly SSDI)<br></i><b>Adult1</b>: 30, False, False, 0<br><b>Adult2</b>: 30, False, False, 0<br><b>Child1</b>: 8, False<br><b>Child2</b>: 5, False<br><b>Child3</b>: 2, False<br><i><br>CHILDCARE, HEADSTART, CCDF, <br>REK, HEALTHCARE, MEDICAID_ADULT, <br>MEDICAID_CHILD, CA, SECTION8, <br>SNAP, SLP, WIC, <br>EITC, TAXES, CTC, <br>CDCTC, TANF, SSI, <br>SSDI</i>",
          "x": 1.4,
          "xref": "paper",
          "y": 0,
          "yref": "paper"
         }
        ],
        "height": 600,
        "legend": {
         "tracegroupgap": 0
        },
        "margin": {
         "b": 80,
         "l": 60,
         "r": 400,
         "t": 60
        },
        "shapes": [
         {
          "line": {
           "color": "red",
           "dash": "dash",
           "width": 4
          },
          "type": "line",
          "x0": 27560,
          "x1": 99560,
          "y0": 0,
          "y1": 0
         }
        ],
        "template": {
         "data": {
          "bar": [
           {
            "error_x": {
             "color": "#2a3f5f"
            },
            "error_y": {
             "color": "#2a3f5f"
            },
            "marker": {
             "line": {
              "color": "#E5ECF6",
              "width": 0.5
             },
             "pattern": {
              "fillmode": "overlay",
              "size": 10,
              "solidity": 0.2
             }
            },
            "type": "bar"
           }
          ],
          "barpolar": [
           {
            "marker": {
             "line": {
              "color": "#E5ECF6",
              "width": 0.5
             },
             "pattern": {
              "fillmode": "overlay",
              "size": 10,
              "solidity": 0.2
             }
            },
            "type": "barpolar"
           }
          ],
          "carpet": [
           {
            "aaxis": {
             "endlinecolor": "#2a3f5f",
             "gridcolor": "white",
             "linecolor": "white",
             "minorgridcolor": "white",
             "startlinecolor": "#2a3f5f"
            },
            "baxis": {
             "endlinecolor": "#2a3f5f",
             "gridcolor": "white",
             "linecolor": "white",
             "minorgridcolor": "white",
             "startlinecolor": "#2a3f5f"
            },
            "type": "carpet"
           }
          ],
          "choropleth": [
           {
            "colorbar": {
             "outlinewidth": 0,
             "ticks": ""
            },
            "type": "choropleth"
           }
          ],
          "contour": [
           {
            "colorbar": {
             "outlinewidth": 0,
             "ticks": ""
            },
            "colorscale": [
             [
              0,
              "#0d0887"
             ],
             [
              0.1111111111111111,
              "#46039f"
             ],
             [
              0.2222222222222222,
              "#7201a8"
             ],
             [
              0.3333333333333333,
              "#9c179e"
             ],
             [
              0.4444444444444444,
              "#bd3786"
             ],
             [
              0.5555555555555556,
              "#d8576b"
             ],
             [
              0.6666666666666666,
              "#ed7953"
             ],
             [
              0.7777777777777778,
              "#fb9f3a"
             ],
             [
              0.8888888888888888,
              "#fdca26"
             ],
             [
              1,
              "#f0f921"
             ]
            ],
            "type": "contour"
           }
          ],
          "contourcarpet": [
           {
            "colorbar": {
             "outlinewidth": 0,
             "ticks": ""
            },
            "type": "contourcarpet"
           }
          ],
          "heatmap": [
           {
            "colorbar": {
             "outlinewidth": 0,
             "ticks": ""
            },
            "colorscale": [
             [
              0,
              "#0d0887"
             ],
             [
              0.1111111111111111,
              "#46039f"
             ],
             [
              0.2222222222222222,
              "#7201a8"
             ],
             [
              0.3333333333333333,
              "#9c179e"
             ],
             [
              0.4444444444444444,
              "#bd3786"
             ],
             [
              0.5555555555555556,
              "#d8576b"
             ],
             [
              0.6666666666666666,
              "#ed7953"
             ],
             [
              0.7777777777777778,
              "#fb9f3a"
             ],
             [
              0.8888888888888888,
              "#fdca26"
             ],
             [
              1,
              "#f0f921"
             ]
            ],
            "type": "heatmap"
           }
          ],
          "heatmapgl": [
           {
            "colorbar": {
             "outlinewidth": 0,
             "ticks": ""
            },
            "colorscale": [
             [
              0,
              "#0d0887"
             ],
             [
              0.1111111111111111,
              "#46039f"
             ],
             [
              0.2222222222222222,
              "#7201a8"
             ],
             [
              0.3333333333333333,
              "#9c179e"
             ],
             [
              0.4444444444444444,
              "#bd3786"
             ],
             [
              0.5555555555555556,
              "#d8576b"
             ],
             [
              0.6666666666666666,
              "#ed7953"
             ],
             [
              0.7777777777777778,
              "#fb9f3a"
             ],
             [
              0.8888888888888888,
              "#fdca26"
             ],
             [
              1,
              "#f0f921"
             ]
            ],
            "type": "heatmapgl"
           }
          ],
          "histogram": [
           {
            "marker": {
             "pattern": {
              "fillmode": "overlay",
              "size": 10,
              "solidity": 0.2
             }
            },
            "type": "histogram"
           }
          ],
          "histogram2d": [
           {
            "colorbar": {
             "outlinewidth": 0,
             "ticks": ""
            },
            "colorscale": [
             [
              0,
              "#0d0887"
             ],
             [
              0.1111111111111111,
              "#46039f"
             ],
             [
              0.2222222222222222,
              "#7201a8"
             ],
             [
              0.3333333333333333,
              "#9c179e"
             ],
             [
              0.4444444444444444,
              "#bd3786"
             ],
             [
              0.5555555555555556,
              "#d8576b"
             ],
             [
              0.6666666666666666,
              "#ed7953"
             ],
             [
              0.7777777777777778,
              "#fb9f3a"
             ],
             [
              0.8888888888888888,
              "#fdca26"
             ],
             [
              1,
              "#f0f921"
             ]
            ],
            "type": "histogram2d"
           }
          ],
          "histogram2dcontour": [
           {
            "colorbar": {
             "outlinewidth": 0,
             "ticks": ""
            },
            "colorscale": [
             [
              0,
              "#0d0887"
             ],
             [
              0.1111111111111111,
              "#46039f"
             ],
             [
              0.2222222222222222,
              "#7201a8"
             ],
             [
              0.3333333333333333,
              "#9c179e"
             ],
             [
              0.4444444444444444,
              "#bd3786"
             ],
             [
              0.5555555555555556,
              "#d8576b"
             ],
             [
              0.6666666666666666,
              "#ed7953"
             ],
             [
              0.7777777777777778,
              "#fb9f3a"
             ],
             [
              0.8888888888888888,
              "#fdca26"
             ],
             [
              1,
              "#f0f921"
             ]
            ],
            "type": "histogram2dcontour"
           }
          ],
          "mesh3d": [
           {
            "colorbar": {
             "outlinewidth": 0,
             "ticks": ""
            },
            "type": "mesh3d"
           }
          ],
          "parcoords": [
           {
            "line": {
             "colorbar": {
              "outlinewidth": 0,
              "ticks": ""
             }
            },
            "type": "parcoords"
           }
          ],
          "pie": [
           {
            "automargin": true,
            "type": "pie"
           }
          ],
          "scatter": [
           {
            "fillpattern": {
             "fillmode": "overlay",
             "size": 10,
             "solidity": 0.2
            },
            "type": "scatter"
           }
          ],
          "scatter3d": [
           {
            "line": {
             "colorbar": {
              "outlinewidth": 0,
              "ticks": ""
             }
            },
            "marker": {
             "colorbar": {
              "outlinewidth": 0,
              "ticks": ""
             }
            },
            "type": "scatter3d"
           }
          ],
          "scattercarpet": [
           {
            "marker": {
             "colorbar": {
              "outlinewidth": 0,
              "ticks": ""
             }
            },
            "type": "scattercarpet"
           }
          ],
          "scattergeo": [
           {
            "marker": {
             "colorbar": {
              "outlinewidth": 0,
              "ticks": ""
             }
            },
            "type": "scattergeo"
           }
          ],
          "scattergl": [
           {
            "marker": {
             "colorbar": {
              "outlinewidth": 0,
              "ticks": ""
             }
            },
            "type": "scattergl"
           }
          ],
          "scattermapbox": [
           {
            "marker": {
             "colorbar": {
              "outlinewidth": 0,
              "ticks": ""
             }
            },
            "type": "scattermapbox"
           }
          ],
          "scatterpolar": [
           {
            "marker": {
             "colorbar": {
              "outlinewidth": 0,
              "ticks": ""
             }
            },
            "type": "scatterpolar"
           }
          ],
          "scatterpolargl": [
           {
            "marker": {
             "colorbar": {
              "outlinewidth": 0,
              "ticks": ""
             }
            },
            "type": "scatterpolargl"
           }
          ],
          "scatterternary": [
           {
            "marker": {
             "colorbar": {
              "outlinewidth": 0,
              "ticks": ""
             }
            },
            "type": "scatterternary"
           }
          ],
          "surface": [
           {
            "colorbar": {
             "outlinewidth": 0,
             "ticks": ""
            },
            "colorscale": [
             [
              0,
              "#0d0887"
             ],
             [
              0.1111111111111111,
              "#46039f"
             ],
             [
              0.2222222222222222,
              "#7201a8"
             ],
             [
              0.3333333333333333,
              "#9c179e"
             ],
             [
              0.4444444444444444,
              "#bd3786"
             ],
             [
              0.5555555555555556,
              "#d8576b"
             ],
             [
              0.6666666666666666,
              "#ed7953"
             ],
             [
              0.7777777777777778,
              "#fb9f3a"
             ],
             [
              0.8888888888888888,
              "#fdca26"
             ],
             [
              1,
              "#f0f921"
             ]
            ],
            "type": "surface"
           }
          ],
          "table": [
           {
            "cells": {
             "fill": {
              "color": "#EBF0F8"
             },
             "line": {
              "color": "white"
             }
            },
            "header": {
             "fill": {
              "color": "#C8D4E3"
             },
             "line": {
              "color": "white"
             }
            },
            "type": "table"
           }
          ]
         },
         "layout": {
          "annotationdefaults": {
           "arrowcolor": "#2a3f5f",
           "arrowhead": 0,
           "arrowwidth": 1
          },
          "autotypenumbers": "strict",
          "coloraxis": {
           "colorbar": {
            "outlinewidth": 0,
            "ticks": ""
           }
          },
          "colorscale": {
           "diverging": [
            [
             0,
             "#8e0152"
            ],
            [
             0.1,
             "#c51b7d"
            ],
            [
             0.2,
             "#de77ae"
            ],
            [
             0.3,
             "#f1b6da"
            ],
            [
             0.4,
             "#fde0ef"
            ],
            [
             0.5,
             "#f7f7f7"
            ],
            [
             0.6,
             "#e6f5d0"
            ],
            [
             0.7,
             "#b8e186"
            ],
            [
             0.8,
             "#7fbc41"
            ],
            [
             0.9,
             "#4d9221"
            ],
            [
             1,
             "#276419"
            ]
           ],
           "sequential": [
            [
             0,
             "#0d0887"
            ],
            [
             0.1111111111111111,
             "#46039f"
            ],
            [
             0.2222222222222222,
             "#7201a8"
            ],
            [
             0.3333333333333333,
             "#9c179e"
            ],
            [
             0.4444444444444444,
             "#bd3786"
            ],
            [
             0.5555555555555556,
             "#d8576b"
            ],
            [
             0.6666666666666666,
             "#ed7953"
            ],
            [
             0.7777777777777778,
             "#fb9f3a"
            ],
            [
             0.8888888888888888,
             "#fdca26"
            ],
            [
             1,
             "#f0f921"
            ]
           ],
           "sequentialminus": [
            [
             0,
             "#0d0887"
            ],
            [
             0.1111111111111111,
             "#46039f"
            ],
            [
             0.2222222222222222,
             "#7201a8"
            ],
            [
             0.3333333333333333,
             "#9c179e"
            ],
            [
             0.4444444444444444,
             "#bd3786"
            ],
            [
             0.5555555555555556,
             "#d8576b"
            ],
            [
             0.6666666666666666,
             "#ed7953"
            ],
            [
             0.7777777777777778,
             "#fb9f3a"
            ],
            [
             0.8888888888888888,
             "#fdca26"
            ],
            [
             1,
             "#f0f921"
            ]
           ]
          },
          "colorway": [
           "#636efa",
           "#EF553B",
           "#00cc96",
           "#ab63fa",
           "#FFA15A",
           "#19d3f3",
           "#FF6692",
           "#B6E880",
           "#FF97FF",
           "#FECB52"
          ],
          "font": {
           "color": "#2a3f5f"
          },
          "geo": {
           "bgcolor": "white",
           "lakecolor": "white",
           "landcolor": "#E5ECF6",
           "showlakes": true,
           "showland": true,
           "subunitcolor": "white"
          },
          "hoverlabel": {
           "align": "left"
          },
          "hovermode": "closest",
          "mapbox": {
           "style": "light"
          },
          "paper_bgcolor": "white",
          "plot_bgcolor": "#E5ECF6",
          "polar": {
           "angularaxis": {
            "gridcolor": "white",
            "linecolor": "white",
            "ticks": ""
           },
           "bgcolor": "#E5ECF6",
           "radialaxis": {
            "gridcolor": "white",
            "linecolor": "white",
            "ticks": ""
           }
          },
          "scene": {
           "xaxis": {
            "backgroundcolor": "#E5ECF6",
            "gridcolor": "white",
            "gridwidth": 2,
            "linecolor": "white",
            "showbackground": true,
            "ticks": "",
            "zerolinecolor": "white"
           },
           "yaxis": {
            "backgroundcolor": "#E5ECF6",
            "gridcolor": "white",
            "gridwidth": 2,
            "linecolor": "white",
            "showbackground": true,
            "ticks": "",
            "zerolinecolor": "white"
           },
           "zaxis": {
            "backgroundcolor": "#E5ECF6",
            "gridcolor": "white",
            "gridwidth": 2,
            "linecolor": "white",
            "showbackground": true,
            "ticks": "",
            "zerolinecolor": "white"
           }
          },
          "shapedefaults": {
           "line": {
            "color": "#2a3f5f"
           }
          },
          "ternary": {
           "aaxis": {
            "gridcolor": "white",
            "linecolor": "white",
            "ticks": ""
           },
           "baxis": {
            "gridcolor": "white",
            "linecolor": "white",
            "ticks": ""
           },
           "bgcolor": "#E5ECF6",
           "caxis": {
            "gridcolor": "white",
            "linecolor": "white",
            "ticks": ""
           }
          },
          "title": {
           "x": 0.05
          },
          "xaxis": {
           "automargin": true,
           "gridcolor": "white",
           "linecolor": "white",
           "ticks": "",
           "title": {
            "standoff": 15
           },
           "zerolinecolor": "white",
           "zerolinewidth": 2
          },
          "yaxis": {
           "automargin": true,
           "gridcolor": "white",
           "linecolor": "white",
           "ticks": "",
           "title": {
            "standoff": 15
           },
           "zerolinecolor": "white",
           "zerolinewidth": 2
          }
         }
        },
        "title": {
         "text": "Net Resources and Benefits in ['New Castle County, DE']"
        },
        "width": 1200,
        "xaxis": {
         "anchor": "y",
         "domain": [
          0,
          1
         ],
         "labelalias": {
          "100k": "$100,000 <br>($48.08/h)",
          "30k": "$30,000 <br>($14.42/h)",
          "40k": "$40,000 <br>($19.23/h)",
          "50k": "$50,000 <br>($24.04/h)",
          "60k": "$60,000 <br>($28.85/h)",
          "70k": "$70,000 <br>($33.65/h)",
          "80k": "$80,000 <br>($38.46/h)",
          "90k": "$90,000 <br>($43.27/h)"
         },
         "title": {
          "text": "Income"
         }
        },
        "yaxis": {
         "anchor": "x",
         "domain": [
          0,
          1
         ],
         "title": {
          "text": ""
         }
        }
       }
      }
     },
     "metadata": {},
     "output_type": "display_data"
    }
   ],
   "source": [
    "def plot_single_profile(df, color, title=None, after_tax=False, plot_derivative=False, hide_benefits=False, legend_text=None): \n",
    "    \"\"\"Plot a single profile along with its cliff-causing benefits programs\"\"\"\n",
    "\n",
    "    x_var = 'income' if not after_tax else 'AfterTaxIncome' \n",
    "\n",
    "    ## Base Plot (NetResources)\n",
    "    fig = px.line(df, x=x_var, y='NetResources', \n",
    "                color_discrete_sequence=[color], \n",
    "                title=title, \n",
    "                )\n",
    "    fig.update_traces(mode='markers+lines')\n",
    "\n",
    "    ## Derivative  \n",
    "    x,y = df[x_var], df['NetResources']\n",
    "    derivative = np.gradient(y,x)\n",
    "    derivative_rel_minima = argrelextrema(derivative, np.less)[0]\n",
    "    derivative_rel_minima = derivative_rel_minima[derivative_rel_minima > 0] # non-negative\n",
    "\n",
    "    if plot_derivative: \n",
    "        derivative_scale = 10000\n",
    "        fig.add_trace(go.Scatter(x=x,y=derivative * derivative_scale, \n",
    "                                 mode='markers+lines', line=dict(color=\"grey\"), \n",
    "                                 name=f'1st Derivative (* {derivative_scale})'))\n",
    "\n",
    "    ## Benefits Programs \n",
    "    df_benefits = utils.filter_benefits(df, include_eitc=True)\n",
    "    for col in df_benefits.columns: \n",
    "        visibility = 'legendonly' if (hide_benefits or 'eitc' in col or 'section8' in col) else True # These shouldn't have cliffs \n",
    "        fig.add_trace(go.Scatter(x=df[x_var],y=df[col],\n",
    "                                mode='markers+lines', \n",
    "                                line=dict(color=plotting.ben_display_map[col][1]),\n",
    "                                name=plotting.ben_display_map[col][0], visible=visibility))\n",
    "\n",
    "    ##  Find Cliff Points & Annotate \n",
    "    df_benefits = df_benefits[[col for col in df_benefits.columns if 'eitc' not in col]] # drop eitc \n",
    "    cliffs = utils.find_benefits_cliffs(df_benefits, derivative_rel_minima, mode='peak')\n",
    "\n",
    "    # [{'benefit':k,'valley':v+1,'peak':v} for k,v in cliffs.items()]\n",
    "\n",
    "    # Add annotation of the program which is lost \n",
    "    for ben_col, cliff_indices  in cliffs.items():\n",
    "        for cliff_idx in cliff_indices: \n",
    "            income_level = x[cliff_idx]\n",
    "            income_level_str = utils.format_int_dollars(income_level)\n",
    "            resource_level = y[cliff_idx]     \n",
    "            print(income_level)\n",
    "            print(resource_level)\n",
    "            \n",
    "            fig.add_annotation(\n",
    "                x=income_level,\n",
    "                y=resource_level,\n",
    "                xref=\"x\",\n",
    "                yref=\"y\",\n",
    "                text=f\"{plotting.ben_display_map[ben_col][0]}<br>{income_level_str}\",\n",
    "                showarrow=True,\n",
    "                font=dict(\n",
    "                    # family=\"Courier New, monospace\",\n",
    "                    size=12,\n",
    "                    color=\"#ffffff\"\n",
    "                    ),\n",
    "                align=\"center\",\n",
    "                arrowhead=2,\n",
    "                arrowsize=1,\n",
    "                arrowwidth=2,\n",
    "                arrowcolor=\"#636363\",\n",
    "                ax=-40,\n",
    "                ay= 40,\n",
    "                bordercolor=\"#c7c7c7\",\n",
    "                borderwidth=2,\n",
    "                borderpad=4,\n",
    "                bgcolor=plotting.ben_display_map[ben_col][1],\n",
    "                opacity=0.8\n",
    "                )\n",
    "\n",
    "    ## --- Customizing Hover Text --- ## \n",
    "\n",
    "\n",
    "    ## -- Add baseline (break-even) -- ## \n",
    "    fig.add_shape(type=\"line\",\n",
    "                x0=df[x_var].min(),\n",
    "                y0=0,\n",
    "                x1=df[x_var].max(),\n",
    "                y1=0,\n",
    "                line=dict(color=\"red\",width=4,dash=\"dash\"),\n",
    "                )\n",
    "\n",
    "    ## --- Adding Legend(s) --- ## \n",
    "    if legend_text is not None: \n",
    "        fig.add_annotation(\n",
    "            text=legend_text,\n",
    "            align='left',\n",
    "            showarrow=False,\n",
    "            xref='paper',\n",
    "            yref='paper',\n",
    "            x=1.4,\n",
    "            y=0,\n",
    "            bordercolor='black',\n",
    "            borderwidth=1\n",
    "        )\n",
    "\n",
    "    # Update layout to adjust the legend position\n",
    "    fig.update_layout(\n",
    "        xaxis=dict(title=x_var.title()),\n",
    "        yaxis=dict(title=''),\n",
    "        margin=dict(l=60, r=400, t=60, b=80), # margins for annotation\n",
    "        height=600,\n",
    "        width=1200\n",
    "\n",
    "    )\n",
    "    \n",
    "    ## --- Customize Axis --- ## \n",
    "    fig.update_xaxes(labelalias={f\"{n}k\":f\"${n},000 <br>(${(n * 1000) / (52 * 40):.2f}/h)\" for n in range(30, 110, 10)})\n",
    "    # fig.update_yaxes(labelalias={f\"{n}k\":f\"${n},000\" for n in range(-15, 25, 5)})\n",
    "\n",
    "\n",
    "    ## --- Show Plot --- ## \n",
    "\n",
    "    fig.show()\n",
    "\n",
    "    # for cliff in cliffs: \n",
    "    #     print(cliff)\n",
    "\n",
    "plot_single_profile(df, \n",
    "                    color=color, \n",
    "                    after_tax=after_tax, \n",
    "                    title=title,\n",
    "                    legend_text=legend_text)"
   ]
  },
  {
   "cell_type": "code",
   "execution_count": 28,
   "metadata": {},
   "outputs": [],
   "source": [
    "cliffs = utils.find_benefits_cliffs(df_benefits, derivative_rel_minima, mode='peak')"
   ]
  },
  {
   "cell_type": "code",
   "execution_count": 29,
   "metadata": {},
   "outputs": [
    {
     "data": {
      "text/plain": [
       "{'value.snap': [42], 'value.medicaid.adult': [20], 'value.CCDF': [37]}"
      ]
     },
     "execution_count": 29,
     "metadata": {},
     "output_type": "execute_result"
    }
   ],
   "source": [
    "cliffs"
   ]
  },
  {
   "cell_type": "code",
   "execution_count": 19,
   "metadata": {},
   "outputs": [
    {
     "name": "stdout",
     "output_type": "stream",
     "text": [
      "[{'benefit': 'value.aca', 'valley': 0, 'peak': -1}, {'benefit': 'value.medicaid.adult', 'valley': 7, 'peak': 6}, {'benefit': 'value.CCDF', 'valley': 19, 'peak': 18}, {'benefit': 'value.snap', 'valley': 23, 'peak': 22}, {'benefit': 'value.schoolmeals', 'valley': 23, 'peak': 22}]\n",
      "-1\n"
     ]
    },
    {
     "data": {
      "application/vnd.plotly.v1+json": {
       "config": {
        "plotlyServerURL": "https://plot.ly"
       },
       "data": [
        {
         "hovertemplate": "income=%{x}<br>NetResources=%{y}<extra></extra>",
         "legendgroup": "",
         "line": {
          "color": "#008080",
          "dash": "solid"
         },
         "marker": {
          "symbol": "circle"
         },
         "mode": "markers+lines",
         "name": "",
         "orientation": "v",
         "showlegend": false,
         "type": "scatter",
         "x": [
          27560,
          28560,
          29560,
          30560,
          31560,
          32560,
          33560,
          34560,
          35560,
          36560,
          37560,
          38560,
          39560,
          40560,
          41560,
          42560,
          43560,
          44560,
          45560,
          46560,
          47560,
          48560,
          49560,
          50560,
          51560,
          52560,
          53560,
          54560,
          55560,
          56560,
          57560,
          58560,
          59560,
          60560,
          61560,
          62560,
          63560,
          64560,
          65560,
          66560,
          67560,
          68560,
          69560,
          70560,
          71560,
          72560,
          73560,
          74560,
          75560,
          76560,
          77560,
          78560,
          79560,
          80560,
          81560,
          82560,
          83560,
          84560,
          85560,
          86560,
          87560,
          88560,
          89560,
          90560,
          91560,
          92560,
          93560,
          94560,
          95560,
          96560,
          97560,
          98560,
          99560
         ],
         "xaxis": "x",
         "y": [
          -5788.39999999999,
          -5832.39999999999,
          -5882.39999999999,
          -5911.39999999999,
          -5921.39999999999,
          -5932.39999999999,
          -5950.39999999999,
          -7348.39999999999,
          -7513.39999999999,
          -7680.39999999999,
          -8034.39999999999,
          -8211.39999999999,
          -8391.39999999999,
          -8575.39999999999,
          -8764.39999999999,
          -8956.39999999999,
          -9139.39999999999,
          -9146.39999999999,
          -9158.39999999999,
          -9317,
          -9285,
          -9256,
          -9230,
          -10513.4,
          -10207.4,
          -9905.39999999999,
          -9605.39999999999,
          -9009.39999999999,
          -8715.39999999999,
          -8424.39999999999,
          -8133.39999999999,
          -7834.39999999999,
          -7536.39999999999,
          -7241.39999999999,
          -6949.39999999999,
          -6659.39999999999,
          -6374.39999999999,
          -5921.39999999999,
          -5348.39999999999,
          -4779.39999999999,
          -4210.39999999999,
          -3646.39999999999,
          -3024.39999999999,
          -2378.39999999999,
          -1731.39999999999,
          -1085.39999999999,
          -439.399999999994,
          160.600000000006,
          707.600000000006,
          1253.60000000001,
          1800.60000000001,
          2345.60000000001,
          2892.60000000001,
          3438.60000000001,
          3985.60000000001,
          4531.60000000001,
          5077.60000000001,
          5623.60000000001,
          6170.60000000001,
          6716.60000000001,
          7263.60000000001,
          7808.60000000001,
          8355.60000000001,
          8901.60000000001,
          9448.60000000001,
          1854.60000000001,
          2492.60000000001,
          3129.60000000001,
          3767.60000000001,
          4404.60000000001,
          5042.60000000001,
          5679.60000000001,
          6317.60000000001
         ],
         "yaxis": "y"
        },
        {
         "line": {
          "color": "#2B3514"
         },
         "mode": "markers+lines",
         "name": "SNAP",
         "type": "scatter",
         "visible": "legendonly",
         "x": [
          27560,
          28560,
          29560,
          30560,
          31560,
          32560,
          33560,
          34560,
          35560,
          36560,
          37560,
          38560,
          39560,
          40560,
          41560,
          42560,
          43560,
          44560,
          45560,
          46560,
          47560,
          48560,
          49560,
          50560,
          51560,
          52560,
          53560,
          54560,
          55560,
          56560,
          57560,
          58560,
          59560,
          60560,
          61560,
          62560,
          63560,
          64560,
          65560,
          66560,
          67560,
          68560,
          69560,
          70560,
          71560,
          72560,
          73560,
          74560,
          75560,
          76560,
          77560,
          78560,
          79560,
          80560,
          81560,
          82560,
          83560,
          84560,
          85560,
          86560,
          87560,
          88560,
          89560,
          90560,
          91560,
          92560,
          93560,
          94560,
          95560,
          96560,
          97560,
          98560,
          99560
         ],
         "y": [
          5734,
          5483,
          5231,
          4980,
          4729,
          4478,
          4226,
          3975,
          3724,
          3473,
          3221,
          2970,
          2719,
          2468,
          2216,
          1965,
          1714,
          1463,
          1212,
          1145,
          860,
          575,
          290,
          0,
          0,
          0,
          0,
          0,
          0,
          0,
          0,
          0,
          0,
          0,
          0,
          0,
          0,
          0,
          0,
          0,
          0,
          0,
          0,
          0,
          0,
          0,
          0,
          0,
          0,
          0,
          0,
          0,
          0,
          0,
          0,
          0,
          0,
          0,
          0,
          0,
          0,
          0,
          0,
          0,
          0,
          0,
          0,
          0,
          0,
          0,
          0,
          0,
          0
         ]
        },
        {
         "line": {
          "color": "#D32B1E"
         },
         "mode": "markers+lines",
         "name": "School Meals",
         "type": "scatter",
         "visible": "legendonly",
         "x": [
          27560,
          28560,
          29560,
          30560,
          31560,
          32560,
          33560,
          34560,
          35560,
          36560,
          37560,
          38560,
          39560,
          40560,
          41560,
          42560,
          43560,
          44560,
          45560,
          46560,
          47560,
          48560,
          49560,
          50560,
          51560,
          52560,
          53560,
          54560,
          55560,
          56560,
          57560,
          58560,
          59560,
          60560,
          61560,
          62560,
          63560,
          64560,
          65560,
          66560,
          67560,
          68560,
          69560,
          70560,
          71560,
          72560,
          73560,
          74560,
          75560,
          76560,
          77560,
          78560,
          79560,
          80560,
          81560,
          82560,
          83560,
          84560,
          85560,
          86560,
          87560,
          88560,
          89560,
          90560,
          91560,
          92560,
          93560,
          94560,
          95560,
          96560,
          97560,
          98560,
          99560
         ],
         "y": [
          1301.4,
          1301.4,
          1301.4,
          1301.4,
          1301.4,
          1301.4,
          1301.4,
          1301.4,
          1301.4,
          1301.4,
          1301.4,
          1301.4,
          1301.4,
          1301.4,
          1301.4,
          1301.4,
          1301.4,
          1301.4,
          1301.4,
          1301.4,
          1301.4,
          1301.4,
          1301.4,
          0,
          0,
          0,
          0,
          0,
          0,
          0,
          0,
          0,
          0,
          0,
          0,
          0,
          0,
          0,
          0,
          0,
          0,
          0,
          0,
          0,
          0,
          0,
          0,
          0,
          0,
          0,
          0,
          0,
          0,
          0,
          0,
          0,
          0,
          0,
          0,
          0,
          0,
          0,
          0,
          0,
          0,
          0,
          0,
          0,
          0,
          0,
          0,
          0,
          0
         ]
        },
        {
         "line": {
          "color": "#6F340D"
         },
         "mode": "markers+lines",
         "name": "Section 8",
         "type": "scatter",
         "visible": "legendonly",
         "x": [
          27560,
          28560,
          29560,
          30560,
          31560,
          32560,
          33560,
          34560,
          35560,
          36560,
          37560,
          38560,
          39560,
          40560,
          41560,
          42560,
          43560,
          44560,
          45560,
          46560,
          47560,
          48560,
          49560,
          50560,
          51560,
          52560,
          53560,
          54560,
          55560,
          56560,
          57560,
          58560,
          59560,
          60560,
          61560,
          62560,
          63560,
          64560,
          65560,
          66560,
          67560,
          68560,
          69560,
          70560,
          71560,
          72560,
          73560,
          74560,
          75560,
          76560,
          77560,
          78560,
          79560,
          80560,
          81560,
          82560,
          83560,
          84560,
          85560,
          86560,
          87560,
          88560,
          89560,
          90560,
          91560,
          92560,
          93560,
          94560,
          95560,
          96560,
          97560,
          98560,
          99560
         ],
         "y": [
          10260,
          9987,
          9714,
          9441,
          9168,
          8895,
          8622,
          8349,
          8076,
          7803,
          7530,
          7257,
          6984,
          6711,
          6438,
          6165,
          5892,
          5619,
          5346,
          5221,
          4921,
          4621,
          4321,
          4021,
          3721,
          3421,
          3121,
          2821,
          2521,
          2221,
          1921,
          1621,
          1321,
          1021,
          721,
          421,
          121,
          0,
          0,
          0,
          0,
          0,
          0,
          0,
          0,
          0,
          0,
          0,
          0,
          0,
          0,
          0,
          0,
          0,
          0,
          0,
          0,
          0,
          0,
          0,
          0,
          0,
          0,
          0,
          0,
          0,
          0,
          0,
          0,
          0,
          0,
          0,
          0
         ]
        },
        {
         "line": {
          "color": "#7E1510"
         },
         "mode": "markers+lines",
         "name": "Medicaid (Adult)",
         "type": "scatter",
         "visible": "legendonly",
         "x": [
          27560,
          28560,
          29560,
          30560,
          31560,
          32560,
          33560,
          34560,
          35560,
          36560,
          37560,
          38560,
          39560,
          40560,
          41560,
          42560,
          43560,
          44560,
          45560,
          46560,
          47560,
          48560,
          49560,
          50560,
          51560,
          52560,
          53560,
          54560,
          55560,
          56560,
          57560,
          58560,
          59560,
          60560,
          61560,
          62560,
          63560,
          64560,
          65560,
          66560,
          67560,
          68560,
          69560,
          70560,
          71560,
          72560,
          73560,
          74560,
          75560,
          76560,
          77560,
          78560,
          79560,
          80560,
          81560,
          82560,
          83560,
          84560,
          85560,
          86560,
          87560,
          88560,
          89560,
          90560,
          91560,
          92560,
          93560,
          94560,
          95560,
          96560,
          97560,
          98560,
          99560
         ],
         "y": [
          16070,
          16070,
          16070,
          16070,
          16070,
          16070,
          16070,
          0,
          0,
          0,
          0,
          0,
          0,
          0,
          0,
          0,
          0,
          0,
          0,
          0,
          0,
          0,
          0,
          0,
          0,
          0,
          0,
          0,
          0,
          0,
          0,
          0,
          0,
          0,
          0,
          0,
          0,
          0,
          0,
          0,
          0,
          0,
          0,
          0,
          0,
          0,
          0,
          0,
          0,
          0,
          0,
          0,
          0,
          0,
          0,
          0,
          0,
          0,
          0,
          0,
          0,
          0,
          0,
          0,
          0,
          0,
          0,
          0,
          0,
          0,
          0,
          0,
          0
         ]
        },
        {
         "line": {
          "color": "#9a9a00"
         },
         "mode": "markers+lines",
         "name": "Medicaid (Child)",
         "type": "scatter",
         "visible": "legendonly",
         "x": [
          27560,
          28560,
          29560,
          30560,
          31560,
          32560,
          33560,
          34560,
          35560,
          36560,
          37560,
          38560,
          39560,
          40560,
          41560,
          42560,
          43560,
          44560,
          45560,
          46560,
          47560,
          48560,
          49560,
          50560,
          51560,
          52560,
          53560,
          54560,
          55560,
          56560,
          57560,
          58560,
          59560,
          60560,
          61560,
          62560,
          63560,
          64560,
          65560,
          66560,
          67560,
          68560,
          69560,
          70560,
          71560,
          72560,
          73560,
          74560,
          75560,
          76560,
          77560,
          78560,
          79560,
          80560,
          81560,
          82560,
          83560,
          84560,
          85560,
          86560,
          87560,
          88560,
          89560,
          90560,
          91560,
          92560,
          93560,
          94560,
          95560,
          96560,
          97560,
          98560,
          99560
         ],
         "y": [
          4463,
          4463,
          4463,
          4463,
          4463,
          4463,
          4463,
          4463,
          4463,
          4463,
          4283,
          4283,
          4283,
          4283,
          4283,
          4283,
          4283,
          4283,
          4283,
          4283,
          4283,
          4283,
          4283,
          4283,
          4283,
          4283,
          4283,
          0,
          0,
          0,
          0,
          0,
          0,
          0,
          0,
          0,
          0,
          0,
          0,
          0,
          0,
          0,
          0,
          0,
          0,
          0,
          0,
          0,
          0,
          0,
          0,
          0,
          0,
          0,
          0,
          0,
          0,
          0,
          0,
          0,
          0,
          0,
          0,
          0,
          0,
          0,
          0,
          0,
          0,
          0,
          0,
          0,
          0
         ]
        },
        {
         "line": {
          "color": "#91218C"
         },
         "mode": "markers+lines",
         "name": "ACA",
         "type": "scatter",
         "visible": "legendonly",
         "x": [
          27560,
          28560,
          29560,
          30560,
          31560,
          32560,
          33560,
          34560,
          35560,
          36560,
          37560,
          38560,
          39560,
          40560,
          41560,
          42560,
          43560,
          44560,
          45560,
          46560,
          47560,
          48560,
          49560,
          50560,
          51560,
          52560,
          53560,
          54560,
          55560,
          56560,
          57560,
          58560,
          59560,
          60560,
          61560,
          62560,
          63560,
          64560,
          65560,
          66560,
          67560,
          68560,
          69560,
          70560,
          71560,
          72560,
          73560,
          74560,
          75560,
          76560,
          77560,
          78560,
          79560,
          80560,
          81560,
          82560,
          83560,
          84560,
          85560,
          86560,
          87560,
          88560,
          89560,
          90560,
          91560,
          92560,
          93560,
          94560,
          95560,
          96560,
          97560,
          98560,
          99560
         ],
         "y": [
          0,
          0,
          0,
          0,
          0,
          0,
          0,
          11061,
          10954,
          10843,
          10728,
          10609,
          10487,
          10360,
          10230,
          10096,
          9958,
          9817,
          9671,
          9538,
          9407,
          9273,
          9136,
          8996,
          8854,
          8708,
          8560,
          12585,
          12431,
          12274,
          12117,
          11968,
          11818,
          11665,
          11509,
          11351,
          11191,
          11028,
          10863,
          10695,
          10526,
          10353,
          10237,
          10146,
          10055,
          9964,
          9872,
          9781,
          9690,
          9599,
          9508,
          9416,
          9325,
          9234,
          9143,
          9052,
          8960,
          8869,
          8778,
          8687,
          8596,
          8504,
          8413,
          8322,
          8231,
          0,
          0,
          0,
          0,
          0,
          0,
          0,
          0
         ]
        },
        {
         "line": {
          "color": "#463397"
         },
         "mode": "markers+lines",
         "name": "CCDF",
         "type": "scatter",
         "visible": "legendonly",
         "x": [
          27560,
          28560,
          29560,
          30560,
          31560,
          32560,
          33560,
          34560,
          35560,
          36560,
          37560,
          38560,
          39560,
          40560,
          41560,
          42560,
          43560,
          44560,
          45560,
          46560,
          47560,
          48560,
          49560,
          50560,
          51560,
          52560,
          53560,
          54560,
          55560,
          56560,
          57560,
          58560,
          59560,
          60560,
          61560,
          62560,
          63560,
          64560,
          65560,
          66560,
          67560,
          68560,
          69560,
          70560,
          71560,
          72560,
          73560,
          74560,
          75560,
          76560,
          77560,
          78560,
          79560,
          80560,
          81560,
          82560,
          83560,
          84560,
          85560,
          86560,
          87560,
          88560,
          89560,
          90560,
          91560,
          92560,
          93560,
          94560,
          95560,
          96560,
          97560,
          98560,
          99560
         ],
         "y": [
          2201.6,
          2111.6,
          2021.6,
          1931.6,
          1841.6,
          1751.6,
          1661.6,
          1571.6,
          1481.6,
          1391.6,
          1301.6,
          1211.6,
          1121.6,
          1031.6,
          941.6,
          851.6,
          761.6,
          671.6,
          581.6,
          0,
          0,
          0,
          0,
          0,
          0,
          0,
          0,
          0,
          0,
          0,
          0,
          0,
          0,
          0,
          0,
          0,
          0,
          0,
          0,
          0,
          0,
          0,
          0,
          0,
          0,
          0,
          0,
          0,
          0,
          0,
          0,
          0,
          0,
          0,
          0,
          0,
          0,
          0,
          0,
          0,
          0,
          0,
          0,
          0,
          0,
          0,
          0,
          0,
          0,
          0,
          0,
          0,
          0
         ]
        },
        {
         "line": {
          "color": "#BA1C30"
         },
         "mode": "markers+lines",
         "name": "EITC (Federal)",
         "type": "scatter",
         "visible": "legendonly",
         "x": [
          27560,
          28560,
          29560,
          30560,
          31560,
          32560,
          33560,
          34560,
          35560,
          36560,
          37560,
          38560,
          39560,
          40560,
          41560,
          42560,
          43560,
          44560,
          45560,
          46560,
          47560,
          48560,
          49560,
          50560,
          51560,
          52560,
          53560,
          54560,
          55560,
          56560,
          57560,
          58560,
          59560,
          60560,
          61560,
          62560,
          63560,
          64560,
          65560,
          66560,
          67560,
          68560,
          69560,
          70560,
          71560,
          72560,
          73560,
          74560,
          75560,
          76560,
          77560,
          78560,
          79560,
          80560,
          81560,
          82560,
          83560,
          84560,
          85560,
          86560,
          87560,
          88560,
          89560,
          90560,
          91560,
          92560,
          93560,
          94560,
          95560,
          96560,
          97560,
          98560,
          99560
         ],
         "y": [
          2546,
          2386,
          2226,
          2066,
          1907,
          1747,
          1587,
          1427,
          1267,
          1108,
          948,
          788,
          628,
          469,
          309,
          149,
          0,
          0,
          0,
          0,
          0,
          0,
          0,
          0,
          0,
          0,
          0,
          0,
          0,
          0,
          0,
          0,
          0,
          0,
          0,
          0,
          0,
          0,
          0,
          0,
          0,
          0,
          0,
          0,
          0,
          0,
          0,
          0,
          0,
          0,
          0,
          0,
          0,
          0,
          0,
          0,
          0,
          0,
          0,
          0,
          0,
          0,
          0,
          0,
          0,
          0,
          0,
          0,
          0,
          0,
          0,
          0,
          0
         ]
        },
        {
         "line": {
          "color": "#96CDE6"
         },
         "mode": "markers+lines",
         "name": "EITC (State)",
         "type": "scatter",
         "visible": "legendonly",
         "x": [
          27560,
          28560,
          29560,
          30560,
          31560,
          32560,
          33560,
          34560,
          35560,
          36560,
          37560,
          38560,
          39560,
          40560,
          41560,
          42560,
          43560,
          44560,
          45560,
          46560,
          47560,
          48560,
          49560,
          50560,
          51560,
          52560,
          53560,
          54560,
          55560,
          56560,
          57560,
          58560,
          59560,
          60560,
          61560,
          62560,
          63560,
          64560,
          65560,
          66560,
          67560,
          68560,
          69560,
          70560,
          71560,
          72560,
          73560,
          74560,
          75560,
          76560,
          77560,
          78560,
          79560,
          80560,
          81560,
          82560,
          83560,
          84560,
          85560,
          86560,
          87560,
          88560,
          89560,
          90560,
          91560,
          92560,
          93560,
          94560,
          95560,
          96560,
          97560,
          98560,
          99560
         ],
         "y": [
          509,
          477,
          445,
          413,
          381,
          349,
          317,
          285,
          253,
          222,
          190,
          158,
          126,
          94,
          62,
          30,
          0,
          0,
          0,
          0,
          0,
          0,
          0,
          0,
          0,
          0,
          0,
          0,
          0,
          0,
          0,
          0,
          0,
          0,
          0,
          0,
          0,
          0,
          0,
          0,
          0,
          0,
          0,
          0,
          0,
          0,
          0,
          0,
          0,
          0,
          0,
          0,
          0,
          0,
          0,
          0,
          0,
          0,
          0,
          0,
          0,
          0,
          0,
          0,
          0,
          0,
          0,
          0,
          0,
          0,
          0,
          0,
          0
         ]
        },
        {
         "line": {
          "color": "#DB6917"
         },
         "mode": "markers+lines",
         "name": "EITC",
         "type": "scatter",
         "visible": "legendonly",
         "x": [
          27560,
          28560,
          29560,
          30560,
          31560,
          32560,
          33560,
          34560,
          35560,
          36560,
          37560,
          38560,
          39560,
          40560,
          41560,
          42560,
          43560,
          44560,
          45560,
          46560,
          47560,
          48560,
          49560,
          50560,
          51560,
          52560,
          53560,
          54560,
          55560,
          56560,
          57560,
          58560,
          59560,
          60560,
          61560,
          62560,
          63560,
          64560,
          65560,
          66560,
          67560,
          68560,
          69560,
          70560,
          71560,
          72560,
          73560,
          74560,
          75560,
          76560,
          77560,
          78560,
          79560,
          80560,
          81560,
          82560,
          83560,
          84560,
          85560,
          86560,
          87560,
          88560,
          89560,
          90560,
          91560,
          92560,
          93560,
          94560,
          95560,
          96560,
          97560,
          98560,
          99560
         ],
         "y": [
          3055,
          2863,
          2671,
          2479,
          2288,
          2096,
          1904,
          1712,
          1520,
          1330,
          1138,
          946,
          754,
          563,
          371,
          179,
          0,
          0,
          0,
          0,
          0,
          0,
          0,
          0,
          0,
          0,
          0,
          0,
          0,
          0,
          0,
          0,
          0,
          0,
          0,
          0,
          0,
          0,
          0,
          0,
          0,
          0,
          0,
          0,
          0,
          0,
          0,
          0,
          0,
          0,
          0,
          0,
          0,
          0,
          0,
          0,
          0,
          0,
          0,
          0,
          0,
          0,
          0,
          0,
          0,
          0,
          0,
          0,
          0,
          0,
          0,
          0,
          0
         ]
        }
       ],
       "layout": {
        "annotations": [
         {
          "align": "center",
          "arrowcolor": "#636363",
          "arrowhead": 2,
          "arrowsize": 1,
          "arrowwidth": 2,
          "ax": -40,
          "ay": 40,
          "bgcolor": "#7E1510",
          "bordercolor": "#c7c7c7",
          "borderpad": 4,
          "borderwidth": 2,
          "font": {
           "color": "#ffffff",
           "size": 12
          },
          "opacity": 0.8,
          "showarrow": true,
          "text": "Medicaid (Adult)<br>$33,560",
          "x": 33560,
          "xref": "x",
          "y": -5950.39999999999,
          "yref": "y"
         },
         {
          "align": "center",
          "arrowcolor": "#636363",
          "arrowhead": 2,
          "arrowsize": 1,
          "arrowwidth": 2,
          "ax": -40,
          "ay": 40,
          "bgcolor": "#463397",
          "bordercolor": "#c7c7c7",
          "borderpad": 4,
          "borderwidth": 2,
          "font": {
           "color": "#ffffff",
           "size": 12
          },
          "opacity": 0.8,
          "showarrow": true,
          "text": "CCDF<br>$45,560",
          "x": 45560,
          "xref": "x",
          "y": -9158.39999999999,
          "yref": "y"
         },
         {
          "align": "center",
          "arrowcolor": "#636363",
          "arrowhead": 2,
          "arrowsize": 1,
          "arrowwidth": 2,
          "ax": -40,
          "ay": 40,
          "bgcolor": "#2B3514",
          "bordercolor": "#c7c7c7",
          "borderpad": 4,
          "borderwidth": 2,
          "font": {
           "color": "#ffffff",
           "size": 12
          },
          "opacity": 0.8,
          "showarrow": true,
          "text": "SNAP<br>$49,560",
          "x": 49560,
          "xref": "x",
          "y": -9230,
          "yref": "y"
         },
         {
          "align": "center",
          "arrowcolor": "#636363",
          "arrowhead": 2,
          "arrowsize": 1,
          "arrowwidth": 2,
          "ax": -40,
          "ay": 40,
          "bgcolor": "#D32B1E",
          "bordercolor": "#c7c7c7",
          "borderpad": 4,
          "borderwidth": 2,
          "font": {
           "color": "#ffffff",
           "size": 12
          },
          "opacity": 0.8,
          "showarrow": true,
          "text": "School Meals<br>$49,560",
          "x": 49560,
          "xref": "x",
          "y": -9230,
          "yref": "y"
         },
         {
          "align": "left",
          "bordercolor": "black",
          "borderwidth": 1,
          "showarrow": false,
          "text": "<span style='color:#008080;'><b>Family:</b></span> <i>(Age, Disabled, Blind, Monthly SSDI)<br></i><b>Adult1</b>: 30, False, False, 0<br><b>Adult2</b>: 30, False, False, 0<br><b>Child1</b>: 8, False<br><i><br>CHILDCARE, HEADSTART, CCDF, <br>REK, HEALTHCARE, MEDICAID_ADULT, <br>MEDICAID_CHILD, CA, SECTION8, <br>SNAP, SLP, WIC, <br>EITC, TAXES, CTC, <br>CDCTC, TANF, SSI, <br>SSDI</i>",
          "x": 1.4,
          "xref": "paper",
          "y": 0,
          "yref": "paper"
         }
        ],
        "height": 600,
        "legend": {
         "tracegroupgap": 0
        },
        "margin": {
         "b": 80,
         "l": 60,
         "r": 400,
         "t": 60
        },
        "shapes": [
         {
          "line": {
           "color": "red",
           "dash": "dash",
           "width": 4
          },
          "type": "line",
          "x0": 27560,
          "x1": 99560,
          "y0": 0,
          "y1": 0
         }
        ],
        "template": {
         "data": {
          "bar": [
           {
            "error_x": {
             "color": "#2a3f5f"
            },
            "error_y": {
             "color": "#2a3f5f"
            },
            "marker": {
             "line": {
              "color": "#E5ECF6",
              "width": 0.5
             },
             "pattern": {
              "fillmode": "overlay",
              "size": 10,
              "solidity": 0.2
             }
            },
            "type": "bar"
           }
          ],
          "barpolar": [
           {
            "marker": {
             "line": {
              "color": "#E5ECF6",
              "width": 0.5
             },
             "pattern": {
              "fillmode": "overlay",
              "size": 10,
              "solidity": 0.2
             }
            },
            "type": "barpolar"
           }
          ],
          "carpet": [
           {
            "aaxis": {
             "endlinecolor": "#2a3f5f",
             "gridcolor": "white",
             "linecolor": "white",
             "minorgridcolor": "white",
             "startlinecolor": "#2a3f5f"
            },
            "baxis": {
             "endlinecolor": "#2a3f5f",
             "gridcolor": "white",
             "linecolor": "white",
             "minorgridcolor": "white",
             "startlinecolor": "#2a3f5f"
            },
            "type": "carpet"
           }
          ],
          "choropleth": [
           {
            "colorbar": {
             "outlinewidth": 0,
             "ticks": ""
            },
            "type": "choropleth"
           }
          ],
          "contour": [
           {
            "colorbar": {
             "outlinewidth": 0,
             "ticks": ""
            },
            "colorscale": [
             [
              0,
              "#0d0887"
             ],
             [
              0.1111111111111111,
              "#46039f"
             ],
             [
              0.2222222222222222,
              "#7201a8"
             ],
             [
              0.3333333333333333,
              "#9c179e"
             ],
             [
              0.4444444444444444,
              "#bd3786"
             ],
             [
              0.5555555555555556,
              "#d8576b"
             ],
             [
              0.6666666666666666,
              "#ed7953"
             ],
             [
              0.7777777777777778,
              "#fb9f3a"
             ],
             [
              0.8888888888888888,
              "#fdca26"
             ],
             [
              1,
              "#f0f921"
             ]
            ],
            "type": "contour"
           }
          ],
          "contourcarpet": [
           {
            "colorbar": {
             "outlinewidth": 0,
             "ticks": ""
            },
            "type": "contourcarpet"
           }
          ],
          "heatmap": [
           {
            "colorbar": {
             "outlinewidth": 0,
             "ticks": ""
            },
            "colorscale": [
             [
              0,
              "#0d0887"
             ],
             [
              0.1111111111111111,
              "#46039f"
             ],
             [
              0.2222222222222222,
              "#7201a8"
             ],
             [
              0.3333333333333333,
              "#9c179e"
             ],
             [
              0.4444444444444444,
              "#bd3786"
             ],
             [
              0.5555555555555556,
              "#d8576b"
             ],
             [
              0.6666666666666666,
              "#ed7953"
             ],
             [
              0.7777777777777778,
              "#fb9f3a"
             ],
             [
              0.8888888888888888,
              "#fdca26"
             ],
             [
              1,
              "#f0f921"
             ]
            ],
            "type": "heatmap"
           }
          ],
          "heatmapgl": [
           {
            "colorbar": {
             "outlinewidth": 0,
             "ticks": ""
            },
            "colorscale": [
             [
              0,
              "#0d0887"
             ],
             [
              0.1111111111111111,
              "#46039f"
             ],
             [
              0.2222222222222222,
              "#7201a8"
             ],
             [
              0.3333333333333333,
              "#9c179e"
             ],
             [
              0.4444444444444444,
              "#bd3786"
             ],
             [
              0.5555555555555556,
              "#d8576b"
             ],
             [
              0.6666666666666666,
              "#ed7953"
             ],
             [
              0.7777777777777778,
              "#fb9f3a"
             ],
             [
              0.8888888888888888,
              "#fdca26"
             ],
             [
              1,
              "#f0f921"
             ]
            ],
            "type": "heatmapgl"
           }
          ],
          "histogram": [
           {
            "marker": {
             "pattern": {
              "fillmode": "overlay",
              "size": 10,
              "solidity": 0.2
             }
            },
            "type": "histogram"
           }
          ],
          "histogram2d": [
           {
            "colorbar": {
             "outlinewidth": 0,
             "ticks": ""
            },
            "colorscale": [
             [
              0,
              "#0d0887"
             ],
             [
              0.1111111111111111,
              "#46039f"
             ],
             [
              0.2222222222222222,
              "#7201a8"
             ],
             [
              0.3333333333333333,
              "#9c179e"
             ],
             [
              0.4444444444444444,
              "#bd3786"
             ],
             [
              0.5555555555555556,
              "#d8576b"
             ],
             [
              0.6666666666666666,
              "#ed7953"
             ],
             [
              0.7777777777777778,
              "#fb9f3a"
             ],
             [
              0.8888888888888888,
              "#fdca26"
             ],
             [
              1,
              "#f0f921"
             ]
            ],
            "type": "histogram2d"
           }
          ],
          "histogram2dcontour": [
           {
            "colorbar": {
             "outlinewidth": 0,
             "ticks": ""
            },
            "colorscale": [
             [
              0,
              "#0d0887"
             ],
             [
              0.1111111111111111,
              "#46039f"
             ],
             [
              0.2222222222222222,
              "#7201a8"
             ],
             [
              0.3333333333333333,
              "#9c179e"
             ],
             [
              0.4444444444444444,
              "#bd3786"
             ],
             [
              0.5555555555555556,
              "#d8576b"
             ],
             [
              0.6666666666666666,
              "#ed7953"
             ],
             [
              0.7777777777777778,
              "#fb9f3a"
             ],
             [
              0.8888888888888888,
              "#fdca26"
             ],
             [
              1,
              "#f0f921"
             ]
            ],
            "type": "histogram2dcontour"
           }
          ],
          "mesh3d": [
           {
            "colorbar": {
             "outlinewidth": 0,
             "ticks": ""
            },
            "type": "mesh3d"
           }
          ],
          "parcoords": [
           {
            "line": {
             "colorbar": {
              "outlinewidth": 0,
              "ticks": ""
             }
            },
            "type": "parcoords"
           }
          ],
          "pie": [
           {
            "automargin": true,
            "type": "pie"
           }
          ],
          "scatter": [
           {
            "fillpattern": {
             "fillmode": "overlay",
             "size": 10,
             "solidity": 0.2
            },
            "type": "scatter"
           }
          ],
          "scatter3d": [
           {
            "line": {
             "colorbar": {
              "outlinewidth": 0,
              "ticks": ""
             }
            },
            "marker": {
             "colorbar": {
              "outlinewidth": 0,
              "ticks": ""
             }
            },
            "type": "scatter3d"
           }
          ],
          "scattercarpet": [
           {
            "marker": {
             "colorbar": {
              "outlinewidth": 0,
              "ticks": ""
             }
            },
            "type": "scattercarpet"
           }
          ],
          "scattergeo": [
           {
            "marker": {
             "colorbar": {
              "outlinewidth": 0,
              "ticks": ""
             }
            },
            "type": "scattergeo"
           }
          ],
          "scattergl": [
           {
            "marker": {
             "colorbar": {
              "outlinewidth": 0,
              "ticks": ""
             }
            },
            "type": "scattergl"
           }
          ],
          "scattermapbox": [
           {
            "marker": {
             "colorbar": {
              "outlinewidth": 0,
              "ticks": ""
             }
            },
            "type": "scattermapbox"
           }
          ],
          "scatterpolar": [
           {
            "marker": {
             "colorbar": {
              "outlinewidth": 0,
              "ticks": ""
             }
            },
            "type": "scatterpolar"
           }
          ],
          "scatterpolargl": [
           {
            "marker": {
             "colorbar": {
              "outlinewidth": 0,
              "ticks": ""
             }
            },
            "type": "scatterpolargl"
           }
          ],
          "scatterternary": [
           {
            "marker": {
             "colorbar": {
              "outlinewidth": 0,
              "ticks": ""
             }
            },
            "type": "scatterternary"
           }
          ],
          "surface": [
           {
            "colorbar": {
             "outlinewidth": 0,
             "ticks": ""
            },
            "colorscale": [
             [
              0,
              "#0d0887"
             ],
             [
              0.1111111111111111,
              "#46039f"
             ],
             [
              0.2222222222222222,
              "#7201a8"
             ],
             [
              0.3333333333333333,
              "#9c179e"
             ],
             [
              0.4444444444444444,
              "#bd3786"
             ],
             [
              0.5555555555555556,
              "#d8576b"
             ],
             [
              0.6666666666666666,
              "#ed7953"
             ],
             [
              0.7777777777777778,
              "#fb9f3a"
             ],
             [
              0.8888888888888888,
              "#fdca26"
             ],
             [
              1,
              "#f0f921"
             ]
            ],
            "type": "surface"
           }
          ],
          "table": [
           {
            "cells": {
             "fill": {
              "color": "#EBF0F8"
             },
             "line": {
              "color": "white"
             }
            },
            "header": {
             "fill": {
              "color": "#C8D4E3"
             },
             "line": {
              "color": "white"
             }
            },
            "type": "table"
           }
          ]
         },
         "layout": {
          "annotationdefaults": {
           "arrowcolor": "#2a3f5f",
           "arrowhead": 0,
           "arrowwidth": 1
          },
          "autotypenumbers": "strict",
          "coloraxis": {
           "colorbar": {
            "outlinewidth": 0,
            "ticks": ""
           }
          },
          "colorscale": {
           "diverging": [
            [
             0,
             "#8e0152"
            ],
            [
             0.1,
             "#c51b7d"
            ],
            [
             0.2,
             "#de77ae"
            ],
            [
             0.3,
             "#f1b6da"
            ],
            [
             0.4,
             "#fde0ef"
            ],
            [
             0.5,
             "#f7f7f7"
            ],
            [
             0.6,
             "#e6f5d0"
            ],
            [
             0.7,
             "#b8e186"
            ],
            [
             0.8,
             "#7fbc41"
            ],
            [
             0.9,
             "#4d9221"
            ],
            [
             1,
             "#276419"
            ]
           ],
           "sequential": [
            [
             0,
             "#0d0887"
            ],
            [
             0.1111111111111111,
             "#46039f"
            ],
            [
             0.2222222222222222,
             "#7201a8"
            ],
            [
             0.3333333333333333,
             "#9c179e"
            ],
            [
             0.4444444444444444,
             "#bd3786"
            ],
            [
             0.5555555555555556,
             "#d8576b"
            ],
            [
             0.6666666666666666,
             "#ed7953"
            ],
            [
             0.7777777777777778,
             "#fb9f3a"
            ],
            [
             0.8888888888888888,
             "#fdca26"
            ],
            [
             1,
             "#f0f921"
            ]
           ],
           "sequentialminus": [
            [
             0,
             "#0d0887"
            ],
            [
             0.1111111111111111,
             "#46039f"
            ],
            [
             0.2222222222222222,
             "#7201a8"
            ],
            [
             0.3333333333333333,
             "#9c179e"
            ],
            [
             0.4444444444444444,
             "#bd3786"
            ],
            [
             0.5555555555555556,
             "#d8576b"
            ],
            [
             0.6666666666666666,
             "#ed7953"
            ],
            [
             0.7777777777777778,
             "#fb9f3a"
            ],
            [
             0.8888888888888888,
             "#fdca26"
            ],
            [
             1,
             "#f0f921"
            ]
           ]
          },
          "colorway": [
           "#636efa",
           "#EF553B",
           "#00cc96",
           "#ab63fa",
           "#FFA15A",
           "#19d3f3",
           "#FF6692",
           "#B6E880",
           "#FF97FF",
           "#FECB52"
          ],
          "font": {
           "color": "#2a3f5f"
          },
          "geo": {
           "bgcolor": "white",
           "lakecolor": "white",
           "landcolor": "#E5ECF6",
           "showlakes": true,
           "showland": true,
           "subunitcolor": "white"
          },
          "hoverlabel": {
           "align": "left"
          },
          "hovermode": "closest",
          "mapbox": {
           "style": "light"
          },
          "paper_bgcolor": "white",
          "plot_bgcolor": "#E5ECF6",
          "polar": {
           "angularaxis": {
            "gridcolor": "white",
            "linecolor": "white",
            "ticks": ""
           },
           "bgcolor": "#E5ECF6",
           "radialaxis": {
            "gridcolor": "white",
            "linecolor": "white",
            "ticks": ""
           }
          },
          "scene": {
           "xaxis": {
            "backgroundcolor": "#E5ECF6",
            "gridcolor": "white",
            "gridwidth": 2,
            "linecolor": "white",
            "showbackground": true,
            "ticks": "",
            "zerolinecolor": "white"
           },
           "yaxis": {
            "backgroundcolor": "#E5ECF6",
            "gridcolor": "white",
            "gridwidth": 2,
            "linecolor": "white",
            "showbackground": true,
            "ticks": "",
            "zerolinecolor": "white"
           },
           "zaxis": {
            "backgroundcolor": "#E5ECF6",
            "gridcolor": "white",
            "gridwidth": 2,
            "linecolor": "white",
            "showbackground": true,
            "ticks": "",
            "zerolinecolor": "white"
           }
          },
          "shapedefaults": {
           "line": {
            "color": "#2a3f5f"
           }
          },
          "ternary": {
           "aaxis": {
            "gridcolor": "white",
            "linecolor": "white",
            "ticks": ""
           },
           "baxis": {
            "gridcolor": "white",
            "linecolor": "white",
            "ticks": ""
           },
           "bgcolor": "#E5ECF6",
           "caxis": {
            "gridcolor": "white",
            "linecolor": "white",
            "ticks": ""
           }
          },
          "title": {
           "x": 0.05
          },
          "xaxis": {
           "automargin": true,
           "gridcolor": "white",
           "linecolor": "white",
           "ticks": "",
           "title": {
            "standoff": 15
           },
           "zerolinecolor": "white",
           "zerolinewidth": 2
          },
          "yaxis": {
           "automargin": true,
           "gridcolor": "white",
           "linecolor": "white",
           "ticks": "",
           "title": {
            "standoff": 15
           },
           "zerolinecolor": "white",
           "zerolinewidth": 2
          }
         }
        },
        "title": {
         "text": "Net Resources and Benefits in New Castle County, DE (2 Adults, 1 Child)"
        },
        "width": 1200,
        "xaxis": {
         "anchor": "y",
         "domain": [
          0,
          1
         ],
         "labelalias": {
          "100k": "$100,000 <br>($48.08/h)",
          "30k": "$30,000 <br>($14.42/h)",
          "40k": "$40,000 <br>($19.23/h)",
          "50k": "$50,000 <br>($24.04/h)",
          "60k": "$60,000 <br>($28.85/h)",
          "70k": "$70,000 <br>($33.65/h)",
          "80k": "$80,000 <br>($38.46/h)",
          "90k": "$90,000 <br>($43.27/h)"
         },
         "title": {
          "text": "Income"
         }
        },
        "yaxis": {
         "anchor": "x",
         "domain": [
          0,
          1
         ],
         "title": {
          "text": ""
         }
        }
       }
      }
     },
     "metadata": {},
     "output_type": "display_data"
    }
   ],
   "source": [
    "plot_single_profile(df, \n",
    "                color,\n",
    "                after_tax=False,\n",
    "                hide_benefits=True,\n",
    "                plot_derivative=plot_derivative,\n",
    "                title=f'Net Resources and Benefits in {p.locations[0]} ({title_map[p.project_name]})', \n",
    "                legend_text=legend_text)"
   ]
  }
 ],
 "metadata": {
  "kernelspec": {
   "display_name": "venv",
   "language": "python",
   "name": "python3"
  },
  "language_info": {
   "codemirror_mode": {
    "name": "ipython",
    "version": 3
   },
   "file_extension": ".py",
   "mimetype": "text/x-python",
   "name": "python",
   "nbconvert_exporter": "python",
   "pygments_lexer": "ipython3",
   "version": "3.8.18"
  }
 },
 "nbformat": 4,
 "nbformat_minor": 2
}
