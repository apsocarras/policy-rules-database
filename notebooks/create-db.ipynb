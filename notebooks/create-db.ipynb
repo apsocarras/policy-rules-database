{
 "cells": [
  {
   "cell_type": "code",
   "execution_count": null,
   "metadata": {},
   "outputs": [],
   "source": [
    "\n",
    "\n",
    "\n",
    "\n",
    "## Determine the list of variables over which to iterate  \n",
    "\n",
    "## Create function for generating project names which match these variable iterations \n",
    "\n",
    "## "
   ]
  }
 ],
 "metadata": {
  "language_info": {
   "name": "python"
  }
 },
 "nbformat": 4,
 "nbformat_minor": 2
}
